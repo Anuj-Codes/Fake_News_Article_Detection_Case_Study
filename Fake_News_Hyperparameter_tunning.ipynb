{
 "cells": [
  {
   "cell_type": "code",
   "execution_count": 83,
   "metadata": {
    "_cell_guid": "b1076dfc-b9ad-4769-8c92-a6c4dae69d19",
    "_uuid": "8f2839f25d086af736a60e9eeb907d3b93b6e0e5",
    "execution": {
     "iopub.execute_input": "2022-05-27T09:03:27.194898Z",
     "iopub.status.busy": "2022-05-27T09:03:27.194601Z",
     "iopub.status.idle": "2022-05-27T09:03:27.402573Z",
     "shell.execute_reply": "2022-05-27T09:03:27.401688Z",
     "shell.execute_reply.started": "2022-05-27T09:03:27.194868Z"
    }
   },
   "outputs": [
    {
     "name": "stdout",
     "output_type": "stream",
     "text": [
      "[nltk_data] Downloading package punkt to /usr/share/nltk_data...\n",
      "[nltk_data]   Package punkt is already up-to-date!\n",
      "[nltk_data] Downloading package stopwords to /usr/share/nltk_data...\n",
      "[nltk_data]   Package stopwords is already up-to-date!\n"
     ]
    }
   ],
   "source": [
    "import warnings\n",
    "warnings.filterwarnings(\"ignore\")\n",
    "import pickle\n",
    "import numpy as np\n",
    "import re\n",
    "import pandas as pd\n",
    "from tqdm import tqdm\n",
    "import string\n",
    "from nltk import word_tokenize\n",
    "from nltk.corpus import stopwords\n",
    "import nltk\n",
    "nltk.download('punkt')\n",
    "nltk.download('stopwords')\n",
    "import seaborn as sns\n",
    "from string import punctuation\n",
    "import matplotlib.pyplot as plt\n",
    "import time\n",
    "from sklearn.naive_bayes import GaussianNB\n",
    "from sklearn.metrics import accuracy_score,confusion_matrix,precision_score\n",
    "from sklearn.preprocessing  import StandardScaler\n",
    "from sklearn.feature_extraction.text import CountVectorizer\n",
    "from sklearn.feature_extraction.text import TfidfVectorizer\n",
    "from sklearn.tree import DecisionTreeClassifier"
   ]
  },
  {
   "cell_type": "code",
   "execution_count": 84,
   "metadata": {
    "execution": {
     "iopub.execute_input": "2022-05-27T09:03:36.040973Z",
     "iopub.status.busy": "2022-05-27T09:03:36.040695Z",
     "iopub.status.idle": "2022-05-27T09:03:39.075474Z",
     "shell.execute_reply": "2022-05-27T09:03:39.074524Z",
     "shell.execute_reply.started": "2022-05-27T09:03:36.040946Z"
    }
   },
   "outputs": [],
   "source": [
    "df_train=pickle.load(open('../input/fake-news-case-study-preprocessed-daa/df_train.pkl','rb'))\n"
   ]
  },
  {
   "cell_type": "code",
   "execution_count": 85,
   "metadata": {
    "execution": {
     "iopub.execute_input": "2022-05-27T09:03:39.078010Z",
     "iopub.status.busy": "2022-05-27T09:03:39.077727Z",
     "iopub.status.idle": "2022-05-27T09:03:39.084653Z",
     "shell.execute_reply": "2022-05-27T09:03:39.083692Z",
     "shell.execute_reply.started": "2022-05-27T09:03:39.077982Z"
    }
   },
   "outputs": [
    {
     "data": {
      "text/plain": [
       "(18285, 27)"
      ]
     },
     "execution_count": 85,
     "metadata": {},
     "output_type": "execute_result"
    }
   ],
   "source": [
    "df_train.shape"
   ]
  },
  {
   "cell_type": "code",
   "execution_count": 86,
   "metadata": {
    "execution": {
     "iopub.execute_input": "2022-05-27T09:03:39.263214Z",
     "iopub.status.busy": "2022-05-27T09:03:39.262943Z",
     "iopub.status.idle": "2022-05-27T09:03:39.289493Z",
     "shell.execute_reply": "2022-05-27T09:03:39.288660Z",
     "shell.execute_reply.started": "2022-05-27T09:03:39.263176Z"
    }
   },
   "outputs": [
    {
     "data": {
      "text/html": [
       "<div>\n",
       "<style scoped>\n",
       "    .dataframe tbody tr th:only-of-type {\n",
       "        vertical-align: middle;\n",
       "    }\n",
       "\n",
       "    .dataframe tbody tr th {\n",
       "        vertical-align: top;\n",
       "    }\n",
       "\n",
       "    .dataframe thead th {\n",
       "        text-align: right;\n",
       "    }\n",
       "</style>\n",
       "<table border=\"1\" class=\"dataframe\">\n",
       "  <thead>\n",
       "    <tr style=\"text-align: right;\">\n",
       "      <th></th>\n",
       "      <th>id</th>\n",
       "      <th>title</th>\n",
       "      <th>author</th>\n",
       "      <th>text</th>\n",
       "      <th>label</th>\n",
       "      <th>num_characters_title</th>\n",
       "      <th>num_characters_text</th>\n",
       "      <th>num_word_title</th>\n",
       "      <th>num_word_text</th>\n",
       "      <th>num_sentences_title</th>\n",
       "      <th>...</th>\n",
       "      <th>Avg_sentence_length_title</th>\n",
       "      <th>Avg_sentence_length_text</th>\n",
       "      <th>Stopword_count_ratio_title</th>\n",
       "      <th>Stopword_count_ratio_text</th>\n",
       "      <th>Unique_words_count_ratio_title</th>\n",
       "      <th>Unique_words_count_ratio_text</th>\n",
       "      <th>cleaned_text</th>\n",
       "      <th>cleaned_title</th>\n",
       "      <th>Without_Stopwords_text</th>\n",
       "      <th>Without_Stopwords_title</th>\n",
       "    </tr>\n",
       "  </thead>\n",
       "  <tbody>\n",
       "    <tr>\n",
       "      <th>0</th>\n",
       "      <td>0</td>\n",
       "      <td>House Dem Aide: We Didn’t Even See Comey’s Let...</td>\n",
       "      <td>Darrell Lucus</td>\n",
       "      <td>House Dem Aide: We Didn’t Even See Comey’s Let...</td>\n",
       "      <td>1</td>\n",
       "      <td>81</td>\n",
       "      <td>4930</td>\n",
       "      <td>19</td>\n",
       "      <td>943</td>\n",
       "      <td>1</td>\n",
       "      <td>...</td>\n",
       "      <td>19.0</td>\n",
       "      <td>25.486486</td>\n",
       "      <td>0.105263</td>\n",
       "      <td>0.386002</td>\n",
       "      <td>0.947368</td>\n",
       "      <td>0.441145</td>\n",
       "      <td>house dem aide we did not even see comey s let...</td>\n",
       "      <td>house dem aide we did not even see comey s let...</td>\n",
       "      <td>house dem aide even see comey letter jason cha...</td>\n",
       "      <td>house dem aide even see comey letter jason cha...</td>\n",
       "    </tr>\n",
       "    <tr>\n",
       "      <th>1</th>\n",
       "      <td>1</td>\n",
       "      <td>FLYNN: Hillary Clinton, Big Woman on Campus - ...</td>\n",
       "      <td>Daniel J. Flynn</td>\n",
       "      <td>Ever get the feeling your life circles the rou...</td>\n",
       "      <td>0</td>\n",
       "      <td>55</td>\n",
       "      <td>4160</td>\n",
       "      <td>11</td>\n",
       "      <td>822</td>\n",
       "      <td>1</td>\n",
       "      <td>...</td>\n",
       "      <td>11.0</td>\n",
       "      <td>28.344828</td>\n",
       "      <td>0.090909</td>\n",
       "      <td>0.371046</td>\n",
       "      <td>1.000000</td>\n",
       "      <td>0.486618</td>\n",
       "      <td>ever get the feeling your life circles the rou...</td>\n",
       "      <td>flynn hillary clinton big woman on campus brei...</td>\n",
       "      <td>ever get feeling life circles roundabout rathe...</td>\n",
       "      <td>flynn hillary clinton big woman campus breitbart</td>\n",
       "    </tr>\n",
       "    <tr>\n",
       "      <th>2</th>\n",
       "      <td>2</td>\n",
       "      <td>Why the Truth Might Get You Fired</td>\n",
       "      <td>Consortiumnews.com</td>\n",
       "      <td>Why the Truth Might Get You Fired October 29, ...</td>\n",
       "      <td>1</td>\n",
       "      <td>33</td>\n",
       "      <td>7692</td>\n",
       "      <td>7</td>\n",
       "      <td>1454</td>\n",
       "      <td>1</td>\n",
       "      <td>...</td>\n",
       "      <td>7.0</td>\n",
       "      <td>28.509804</td>\n",
       "      <td>0.142857</td>\n",
       "      <td>0.359697</td>\n",
       "      <td>1.000000</td>\n",
       "      <td>0.416781</td>\n",
       "      <td>why the truth might get you fired october the ...</td>\n",
       "      <td>why the truth might get you fired</td>\n",
       "      <td>truth might get fired october tension intellig...</td>\n",
       "      <td>truth might get fired</td>\n",
       "    </tr>\n",
       "    <tr>\n",
       "      <th>3</th>\n",
       "      <td>3</td>\n",
       "      <td>15 Civilians Killed In Single US Airstrike Hav...</td>\n",
       "      <td>Jessica Purkiss</td>\n",
       "      <td>Videos 15 Civilians Killed In Single US Airstr...</td>\n",
       "      <td>1</td>\n",
       "      <td>63</td>\n",
       "      <td>3237</td>\n",
       "      <td>10</td>\n",
       "      <td>612</td>\n",
       "      <td>1</td>\n",
       "      <td>...</td>\n",
       "      <td>10.0</td>\n",
       "      <td>22.666667</td>\n",
       "      <td>0.000000</td>\n",
       "      <td>0.352941</td>\n",
       "      <td>1.000000</td>\n",
       "      <td>0.436275</td>\n",
       "      <td>videos civilians killed in single us airstrike...</td>\n",
       "      <td>civilians killed in single us airstrike have b...</td>\n",
       "      <td>videos civilians killed single us airstrike id...</td>\n",
       "      <td>civilians killed single us airstrike identified</td>\n",
       "    </tr>\n",
       "    <tr>\n",
       "      <th>4</th>\n",
       "      <td>4</td>\n",
       "      <td>Iranian woman jailed for fictional unpublished...</td>\n",
       "      <td>Howard Portnoy</td>\n",
       "      <td>Print \\nAn Iranian woman has been sentenced to...</td>\n",
       "      <td>1</td>\n",
       "      <td>93</td>\n",
       "      <td>938</td>\n",
       "      <td>14</td>\n",
       "      <td>177</td>\n",
       "      <td>1</td>\n",
       "      <td>...</td>\n",
       "      <td>14.0</td>\n",
       "      <td>35.400000</td>\n",
       "      <td>0.285714</td>\n",
       "      <td>0.344633</td>\n",
       "      <td>0.857143</td>\n",
       "      <td>0.587571</td>\n",
       "      <td>print an iranian woman has been sentenced to s...</td>\n",
       "      <td>iranian woman jailed for fictional unpublished...</td>\n",
       "      <td>print iranian woman sentenced six years prison...</td>\n",
       "      <td>iranian woman jailed fictional unpublished sto...</td>\n",
       "    </tr>\n",
       "  </tbody>\n",
       "</table>\n",
       "<p>5 rows × 27 columns</p>\n",
       "</div>"
      ],
      "text/plain": [
       "   id                                              title              author  \\\n",
       "0   0  House Dem Aide: We Didn’t Even See Comey’s Let...       Darrell Lucus   \n",
       "1   1  FLYNN: Hillary Clinton, Big Woman on Campus - ...     Daniel J. Flynn   \n",
       "2   2                  Why the Truth Might Get You Fired  Consortiumnews.com   \n",
       "3   3  15 Civilians Killed In Single US Airstrike Hav...     Jessica Purkiss   \n",
       "4   4  Iranian woman jailed for fictional unpublished...      Howard Portnoy   \n",
       "\n",
       "                                                text  label  \\\n",
       "0  House Dem Aide: We Didn’t Even See Comey’s Let...      1   \n",
       "1  Ever get the feeling your life circles the rou...      0   \n",
       "2  Why the Truth Might Get You Fired October 29, ...      1   \n",
       "3  Videos 15 Civilians Killed In Single US Airstr...      1   \n",
       "4  Print \\nAn Iranian woman has been sentenced to...      1   \n",
       "\n",
       "   num_characters_title  num_characters_text  num_word_title  num_word_text  \\\n",
       "0                    81                 4930              19            943   \n",
       "1                    55                 4160              11            822   \n",
       "2                    33                 7692               7           1454   \n",
       "3                    63                 3237              10            612   \n",
       "4                    93                  938              14            177   \n",
       "\n",
       "   num_sentences_title  ...  Avg_sentence_length_title  \\\n",
       "0                    1  ...                       19.0   \n",
       "1                    1  ...                       11.0   \n",
       "2                    1  ...                        7.0   \n",
       "3                    1  ...                       10.0   \n",
       "4                    1  ...                       14.0   \n",
       "\n",
       "   Avg_sentence_length_text  Stopword_count_ratio_title  \\\n",
       "0                 25.486486                    0.105263   \n",
       "1                 28.344828                    0.090909   \n",
       "2                 28.509804                    0.142857   \n",
       "3                 22.666667                    0.000000   \n",
       "4                 35.400000                    0.285714   \n",
       "\n",
       "   Stopword_count_ratio_text  Unique_words_count_ratio_title  \\\n",
       "0                   0.386002                        0.947368   \n",
       "1                   0.371046                        1.000000   \n",
       "2                   0.359697                        1.000000   \n",
       "3                   0.352941                        1.000000   \n",
       "4                   0.344633                        0.857143   \n",
       "\n",
       "   Unique_words_count_ratio_text  \\\n",
       "0                       0.441145   \n",
       "1                       0.486618   \n",
       "2                       0.416781   \n",
       "3                       0.436275   \n",
       "4                       0.587571   \n",
       "\n",
       "                                        cleaned_text  \\\n",
       "0  house dem aide we did not even see comey s let...   \n",
       "1  ever get the feeling your life circles the rou...   \n",
       "2  why the truth might get you fired october the ...   \n",
       "3  videos civilians killed in single us airstrike...   \n",
       "4  print an iranian woman has been sentenced to s...   \n",
       "\n",
       "                                       cleaned_title  \\\n",
       "0  house dem aide we did not even see comey s let...   \n",
       "1  flynn hillary clinton big woman on campus brei...   \n",
       "2                  why the truth might get you fired   \n",
       "3  civilians killed in single us airstrike have b...   \n",
       "4  iranian woman jailed for fictional unpublished...   \n",
       "\n",
       "                              Without_Stopwords_text  \\\n",
       "0  house dem aide even see comey letter jason cha...   \n",
       "1  ever get feeling life circles roundabout rathe...   \n",
       "2  truth might get fired october tension intellig...   \n",
       "3  videos civilians killed single us airstrike id...   \n",
       "4  print iranian woman sentenced six years prison...   \n",
       "\n",
       "                             Without_Stopwords_title  \n",
       "0  house dem aide even see comey letter jason cha...  \n",
       "1   flynn hillary clinton big woman campus breitbart  \n",
       "2                              truth might get fired  \n",
       "3    civilians killed single us airstrike identified  \n",
       "4  iranian woman jailed fictional unpublished sto...  \n",
       "\n",
       "[5 rows x 27 columns]"
      ]
     },
     "execution_count": 86,
     "metadata": {},
     "output_type": "execute_result"
    }
   ],
   "source": [
    "df_train.head()"
   ]
  },
  {
   "cell_type": "markdown",
   "metadata": {},
   "source": [
    "> # Extracting independent features on X and Class label to Y variable"
   ]
  },
  {
   "cell_type": "code",
   "execution_count": 87,
   "metadata": {
    "execution": {
     "iopub.execute_input": "2022-05-27T09:03:43.200487Z",
     "iopub.status.busy": "2022-05-27T09:03:43.200179Z",
     "iopub.status.idle": "2022-05-27T09:03:43.324764Z",
     "shell.execute_reply": "2022-05-27T09:03:43.323814Z",
     "shell.execute_reply.started": "2022-05-27T09:03:43.200459Z"
    }
   },
   "outputs": [],
   "source": [
    "Y=df_train[\"label\"]\n",
    "X=df_train.drop([\"id\",\"title\",\"text\",\"label\",\"cleaned_text\",\"cleaned_title\",\"author\"], axis=1, inplace=False)"
   ]
  },
  {
   "cell_type": "code",
   "execution_count": 88,
   "metadata": {
    "execution": {
     "iopub.execute_input": "2022-05-27T09:03:45.068913Z",
     "iopub.status.busy": "2022-05-27T09:03:45.068616Z",
     "iopub.status.idle": "2022-05-27T09:03:45.075527Z",
     "shell.execute_reply": "2022-05-27T09:03:45.074631Z",
     "shell.execute_reply.started": "2022-05-27T09:03:45.068885Z"
    }
   },
   "outputs": [
    {
     "data": {
      "text/plain": [
       "((18285, 20), (18285,))"
      ]
     },
     "execution_count": 88,
     "metadata": {},
     "output_type": "execute_result"
    }
   ],
   "source": [
    "X.shape,Y.shape"
   ]
  },
  {
   "cell_type": "markdown",
   "metadata": {},
   "source": [
    "> # Splitting the dataset to train and test dataset"
   ]
  },
  {
   "cell_type": "code",
   "execution_count": 89,
   "metadata": {
    "execution": {
     "iopub.execute_input": "2022-05-27T09:03:46.979274Z",
     "iopub.status.busy": "2022-05-27T09:03:46.979014Z",
     "iopub.status.idle": "2022-05-27T09:03:47.008215Z",
     "shell.execute_reply": "2022-05-27T09:03:47.007471Z",
     "shell.execute_reply.started": "2022-05-27T09:03:46.979248Z"
    }
   },
   "outputs": [],
   "source": [
    "from sklearn.model_selection import train_test_split\n",
    "X_train, X_test, y_train, y_test = train_test_split(X, Y, test_size=0.25, stratify=Y,random_state=42)"
   ]
  },
  {
   "cell_type": "code",
   "execution_count": 90,
   "metadata": {
    "execution": {
     "iopub.execute_input": "2022-05-27T09:03:48.705956Z",
     "iopub.status.busy": "2022-05-27T09:03:48.705660Z",
     "iopub.status.idle": "2022-05-27T09:03:48.712666Z",
     "shell.execute_reply": "2022-05-27T09:03:48.711700Z",
     "shell.execute_reply.started": "2022-05-27T09:03:48.705928Z"
    }
   },
   "outputs": [
    {
     "name": "stdout",
     "output_type": "stream",
     "text": [
      "(13713, 20) (13713,)\n",
      "(4572, 20) (4572,)\n"
     ]
    }
   ],
   "source": [
    "print(X_train.shape, y_train.shape)\n",
    "print(X_test.shape, y_test.shape)"
   ]
  },
  {
   "cell_type": "code",
   "execution_count": 91,
   "metadata": {
    "execution": {
     "iopub.execute_input": "2022-05-27T09:03:50.567722Z",
     "iopub.status.busy": "2022-05-27T09:03:50.567446Z",
     "iopub.status.idle": "2022-05-27T09:03:50.586617Z",
     "shell.execute_reply": "2022-05-27T09:03:50.585906Z",
     "shell.execute_reply.started": "2022-05-27T09:03:50.567693Z"
    }
   },
   "outputs": [
    {
     "data": {
      "text/html": [
       "<div>\n",
       "<style scoped>\n",
       "    .dataframe tbody tr th:only-of-type {\n",
       "        vertical-align: middle;\n",
       "    }\n",
       "\n",
       "    .dataframe tbody tr th {\n",
       "        vertical-align: top;\n",
       "    }\n",
       "\n",
       "    .dataframe thead th {\n",
       "        text-align: right;\n",
       "    }\n",
       "</style>\n",
       "<table border=\"1\" class=\"dataframe\">\n",
       "  <thead>\n",
       "    <tr style=\"text-align: right;\">\n",
       "      <th></th>\n",
       "      <th>num_characters_title</th>\n",
       "      <th>num_characters_text</th>\n",
       "      <th>num_word_title</th>\n",
       "      <th>num_word_text</th>\n",
       "      <th>num_sentences_title</th>\n",
       "      <th>num_sentences_text</th>\n",
       "      <th>Count_unique_words_title</th>\n",
       "      <th>Count_unique_words_text</th>\n",
       "      <th>Count_Stop_words_title</th>\n",
       "      <th>Count_Stop_words_text</th>\n",
       "      <th>Avg_word_length_title</th>\n",
       "      <th>Avg_word_length_text</th>\n",
       "      <th>Avg_sentence_length_title</th>\n",
       "      <th>Avg_sentence_length_text</th>\n",
       "      <th>Stopword_count_ratio_title</th>\n",
       "      <th>Stopword_count_ratio_text</th>\n",
       "      <th>Unique_words_count_ratio_title</th>\n",
       "      <th>Unique_words_count_ratio_text</th>\n",
       "      <th>Without_Stopwords_text</th>\n",
       "      <th>Without_Stopwords_title</th>\n",
       "    </tr>\n",
       "  </thead>\n",
       "  <tbody>\n",
       "    <tr>\n",
       "      <th>8682</th>\n",
       "      <td>69</td>\n",
       "      <td>287</td>\n",
       "      <td>10</td>\n",
       "      <td>42</td>\n",
       "      <td>1</td>\n",
       "      <td>2</td>\n",
       "      <td>10</td>\n",
       "      <td>36</td>\n",
       "      <td>3</td>\n",
       "      <td>12</td>\n",
       "      <td>6.9</td>\n",
       "      <td>6.833333</td>\n",
       "      <td>10.0</td>\n",
       "      <td>21.0</td>\n",
       "      <td>0.3</td>\n",
       "      <td>0.285714</td>\n",
       "      <td>1.0</td>\n",
       "      <td>0.857143</td>\n",
       "      <td>next swipe left right important question scunt...</td>\n",
       "      <td>important question scunthorpe hospital compute...</td>\n",
       "    </tr>\n",
       "  </tbody>\n",
       "</table>\n",
       "</div>"
      ],
      "text/plain": [
       "      num_characters_title  num_characters_text  num_word_title  \\\n",
       "8682                    69                  287              10   \n",
       "\n",
       "      num_word_text  num_sentences_title  num_sentences_text  \\\n",
       "8682             42                    1                   2   \n",
       "\n",
       "      Count_unique_words_title  Count_unique_words_text  \\\n",
       "8682                        10                       36   \n",
       "\n",
       "      Count_Stop_words_title  Count_Stop_words_text  Avg_word_length_title  \\\n",
       "8682                       3                     12                    6.9   \n",
       "\n",
       "      Avg_word_length_text  Avg_sentence_length_title  \\\n",
       "8682              6.833333                       10.0   \n",
       "\n",
       "      Avg_sentence_length_text  Stopword_count_ratio_title  \\\n",
       "8682                      21.0                         0.3   \n",
       "\n",
       "      Stopword_count_ratio_text  Unique_words_count_ratio_title  \\\n",
       "8682                   0.285714                             1.0   \n",
       "\n",
       "      Unique_words_count_ratio_text  \\\n",
       "8682                       0.857143   \n",
       "\n",
       "                                 Without_Stopwords_text  \\\n",
       "8682  next swipe left right important question scunt...   \n",
       "\n",
       "                                Without_Stopwords_title  \n",
       "8682  important question scunthorpe hospital compute...  "
      ]
     },
     "execution_count": 91,
     "metadata": {},
     "output_type": "execute_result"
    }
   ],
   "source": [
    "X_train.head(1)"
   ]
  },
  {
   "cell_type": "markdown",
   "metadata": {},
   "source": [
    "> # Extracting numberical features from train andtest dataset"
   ]
  },
  {
   "cell_type": "code",
   "execution_count": 92,
   "metadata": {
    "execution": {
     "iopub.execute_input": "2022-05-27T09:03:53.124087Z",
     "iopub.status.busy": "2022-05-27T09:03:53.123823Z",
     "iopub.status.idle": "2022-05-27T09:03:53.136900Z",
     "shell.execute_reply": "2022-05-27T09:03:53.136030Z",
     "shell.execute_reply.started": "2022-05-27T09:03:53.124060Z"
    }
   },
   "outputs": [],
   "source": [
    "X_train_Num_Ft=X_train.drop([\"Without_Stopwords_text\",\"Without_Stopwords_title\"],axis=1,inplace=False)\n",
    "X_test_Num_Ft=X_test.drop([\"Without_Stopwords_text\",\"Without_Stopwords_title\"],axis=1,inplace=False)"
   ]
  },
  {
   "cell_type": "code",
   "execution_count": 93,
   "metadata": {
    "execution": {
     "iopub.execute_input": "2022-05-27T09:03:55.234116Z",
     "iopub.status.busy": "2022-05-27T09:03:55.233522Z",
     "iopub.status.idle": "2022-05-27T09:03:55.241124Z",
     "shell.execute_reply": "2022-05-27T09:03:55.240437Z",
     "shell.execute_reply.started": "2022-05-27T09:03:55.234069Z"
    }
   },
   "outputs": [
    {
     "data": {
      "text/plain": [
       "((13713, 18), (4572, 18))"
      ]
     },
     "execution_count": 93,
     "metadata": {},
     "output_type": "execute_result"
    }
   ],
   "source": [
    "X_train_Num_Ft.shape,X_test_Num_Ft.shape"
   ]
  },
  {
   "cell_type": "code",
   "execution_count": 94,
   "metadata": {
    "execution": {
     "iopub.execute_input": "2022-05-27T09:03:56.866951Z",
     "iopub.status.busy": "2022-05-27T09:03:56.866380Z",
     "iopub.status.idle": "2022-05-27T09:03:56.886047Z",
     "shell.execute_reply": "2022-05-27T09:03:56.885478Z",
     "shell.execute_reply.started": "2022-05-27T09:03:56.866911Z"
    }
   },
   "outputs": [
    {
     "data": {
      "text/html": [
       "<div>\n",
       "<style scoped>\n",
       "    .dataframe tbody tr th:only-of-type {\n",
       "        vertical-align: middle;\n",
       "    }\n",
       "\n",
       "    .dataframe tbody tr th {\n",
       "        vertical-align: top;\n",
       "    }\n",
       "\n",
       "    .dataframe thead th {\n",
       "        text-align: right;\n",
       "    }\n",
       "</style>\n",
       "<table border=\"1\" class=\"dataframe\">\n",
       "  <thead>\n",
       "    <tr style=\"text-align: right;\">\n",
       "      <th></th>\n",
       "      <th>num_characters_title</th>\n",
       "      <th>num_characters_text</th>\n",
       "      <th>num_word_title</th>\n",
       "      <th>num_word_text</th>\n",
       "      <th>num_sentences_title</th>\n",
       "      <th>num_sentences_text</th>\n",
       "      <th>Count_unique_words_title</th>\n",
       "      <th>Count_unique_words_text</th>\n",
       "      <th>Count_Stop_words_title</th>\n",
       "      <th>Count_Stop_words_text</th>\n",
       "      <th>Avg_word_length_title</th>\n",
       "      <th>Avg_word_length_text</th>\n",
       "      <th>Avg_sentence_length_title</th>\n",
       "      <th>Avg_sentence_length_text</th>\n",
       "      <th>Stopword_count_ratio_title</th>\n",
       "      <th>Stopword_count_ratio_text</th>\n",
       "      <th>Unique_words_count_ratio_title</th>\n",
       "      <th>Unique_words_count_ratio_text</th>\n",
       "    </tr>\n",
       "  </thead>\n",
       "  <tbody>\n",
       "    <tr>\n",
       "      <th>8682</th>\n",
       "      <td>69</td>\n",
       "      <td>287</td>\n",
       "      <td>10</td>\n",
       "      <td>42</td>\n",
       "      <td>1</td>\n",
       "      <td>2</td>\n",
       "      <td>10</td>\n",
       "      <td>36</td>\n",
       "      <td>3</td>\n",
       "      <td>12</td>\n",
       "      <td>6.9</td>\n",
       "      <td>6.833333</td>\n",
       "      <td>10.0</td>\n",
       "      <td>21.0</td>\n",
       "      <td>0.3</td>\n",
       "      <td>0.285714</td>\n",
       "      <td>1.0</td>\n",
       "      <td>0.857143</td>\n",
       "    </tr>\n",
       "  </tbody>\n",
       "</table>\n",
       "</div>"
      ],
      "text/plain": [
       "      num_characters_title  num_characters_text  num_word_title  \\\n",
       "8682                    69                  287              10   \n",
       "\n",
       "      num_word_text  num_sentences_title  num_sentences_text  \\\n",
       "8682             42                    1                   2   \n",
       "\n",
       "      Count_unique_words_title  Count_unique_words_text  \\\n",
       "8682                        10                       36   \n",
       "\n",
       "      Count_Stop_words_title  Count_Stop_words_text  Avg_word_length_title  \\\n",
       "8682                       3                     12                    6.9   \n",
       "\n",
       "      Avg_word_length_text  Avg_sentence_length_title  \\\n",
       "8682              6.833333                       10.0   \n",
       "\n",
       "      Avg_sentence_length_text  Stopword_count_ratio_title  \\\n",
       "8682                      21.0                         0.3   \n",
       "\n",
       "      Stopword_count_ratio_text  Unique_words_count_ratio_title  \\\n",
       "8682                   0.285714                             1.0   \n",
       "\n",
       "      Unique_words_count_ratio_text  \n",
       "8682                       0.857143  "
      ]
     },
     "execution_count": 94,
     "metadata": {},
     "output_type": "execute_result"
    }
   ],
   "source": [
    "X_train_Num_Ft.head(1)"
   ]
  },
  {
   "cell_type": "code",
   "execution_count": 95,
   "metadata": {
    "execution": {
     "iopub.execute_input": "2022-05-27T09:03:58.851842Z",
     "iopub.status.busy": "2022-05-27T09:03:58.851025Z",
     "iopub.status.idle": "2022-05-27T09:03:58.869489Z",
     "shell.execute_reply": "2022-05-27T09:03:58.868743Z",
     "shell.execute_reply.started": "2022-05-27T09:03:58.851783Z"
    }
   },
   "outputs": [
    {
     "data": {
      "text/html": [
       "<div>\n",
       "<style scoped>\n",
       "    .dataframe tbody tr th:only-of-type {\n",
       "        vertical-align: middle;\n",
       "    }\n",
       "\n",
       "    .dataframe tbody tr th {\n",
       "        vertical-align: top;\n",
       "    }\n",
       "\n",
       "    .dataframe thead th {\n",
       "        text-align: right;\n",
       "    }\n",
       "</style>\n",
       "<table border=\"1\" class=\"dataframe\">\n",
       "  <thead>\n",
       "    <tr style=\"text-align: right;\">\n",
       "      <th></th>\n",
       "      <th>num_characters_title</th>\n",
       "      <th>num_characters_text</th>\n",
       "      <th>num_word_title</th>\n",
       "      <th>num_word_text</th>\n",
       "      <th>num_sentences_title</th>\n",
       "      <th>num_sentences_text</th>\n",
       "      <th>Count_unique_words_title</th>\n",
       "      <th>Count_unique_words_text</th>\n",
       "      <th>Count_Stop_words_title</th>\n",
       "      <th>Count_Stop_words_text</th>\n",
       "      <th>Avg_word_length_title</th>\n",
       "      <th>Avg_word_length_text</th>\n",
       "      <th>Avg_sentence_length_title</th>\n",
       "      <th>Avg_sentence_length_text</th>\n",
       "      <th>Stopword_count_ratio_title</th>\n",
       "      <th>Stopword_count_ratio_text</th>\n",
       "      <th>Unique_words_count_ratio_title</th>\n",
       "      <th>Unique_words_count_ratio_text</th>\n",
       "    </tr>\n",
       "  </thead>\n",
       "  <tbody>\n",
       "    <tr>\n",
       "      <th>9013</th>\n",
       "      <td>48</td>\n",
       "      <td>2475</td>\n",
       "      <td>7</td>\n",
       "      <td>477</td>\n",
       "      <td>1</td>\n",
       "      <td>13</td>\n",
       "      <td>7</td>\n",
       "      <td>199</td>\n",
       "      <td>1</td>\n",
       "      <td>155</td>\n",
       "      <td>6.857143</td>\n",
       "      <td>5.188679</td>\n",
       "      <td>7.0</td>\n",
       "      <td>36.692308</td>\n",
       "      <td>0.142857</td>\n",
       "      <td>0.324948</td>\n",
       "      <td>1.0</td>\n",
       "      <td>0.417191</td>\n",
       "    </tr>\n",
       "  </tbody>\n",
       "</table>\n",
       "</div>"
      ],
      "text/plain": [
       "      num_characters_title  num_characters_text  num_word_title  \\\n",
       "9013                    48                 2475               7   \n",
       "\n",
       "      num_word_text  num_sentences_title  num_sentences_text  \\\n",
       "9013            477                    1                  13   \n",
       "\n",
       "      Count_unique_words_title  Count_unique_words_text  \\\n",
       "9013                         7                      199   \n",
       "\n",
       "      Count_Stop_words_title  Count_Stop_words_text  Avg_word_length_title  \\\n",
       "9013                       1                    155               6.857143   \n",
       "\n",
       "      Avg_word_length_text  Avg_sentence_length_title  \\\n",
       "9013              5.188679                        7.0   \n",
       "\n",
       "      Avg_sentence_length_text  Stopword_count_ratio_title  \\\n",
       "9013                 36.692308                    0.142857   \n",
       "\n",
       "      Stopword_count_ratio_text  Unique_words_count_ratio_title  \\\n",
       "9013                   0.324948                             1.0   \n",
       "\n",
       "      Unique_words_count_ratio_text  \n",
       "9013                       0.417191  "
      ]
     },
     "execution_count": 95,
     "metadata": {},
     "output_type": "execute_result"
    }
   ],
   "source": [
    "X_test_Num_Ft.head(1)"
   ]
  },
  {
   "cell_type": "markdown",
   "metadata": {},
   "source": [
    "> # Standardization of 18 numerical Manually engineered features"
   ]
  },
  {
   "cell_type": "code",
   "execution_count": 96,
   "metadata": {
    "execution": {
     "iopub.execute_input": "2022-05-27T09:04:00.705703Z",
     "iopub.status.busy": "2022-05-27T09:04:00.705156Z",
     "iopub.status.idle": "2022-05-27T09:04:00.723963Z",
     "shell.execute_reply": "2022-05-27T09:04:00.723255Z",
     "shell.execute_reply.started": "2022-05-27T09:04:00.705668Z"
    }
   },
   "outputs": [],
   "source": [
    "from sklearn.preprocessing  import StandardScaler\n",
    "Std_Scaler=StandardScaler()\n",
    "X_train_Num_Std=Std_Scaler.fit_transform(X_train_Num_Ft)\n",
    "X_test_Num_Std=Std_Scaler.transform(X_test_Num_Ft)"
   ]
  },
  {
   "cell_type": "markdown",
   "metadata": {},
   "source": [
    "> # Pickle tthe standard scaler object for standardization of test dataset"
   ]
  },
  {
   "cell_type": "code",
   "execution_count": 97,
   "metadata": {
    "execution": {
     "iopub.execute_input": "2022-05-27T09:04:05.220627Z",
     "iopub.status.busy": "2022-05-27T09:04:05.220114Z",
     "iopub.status.idle": "2022-05-27T09:04:05.226705Z",
     "shell.execute_reply": "2022-05-27T09:04:05.225871Z",
     "shell.execute_reply.started": "2022-05-27T09:04:05.220565Z"
    }
   },
   "outputs": [],
   "source": [
    "pickle.dump(Std_Scaler,open(\"./Std_Scaler.pkl\",'wb'))"
   ]
  },
  {
   "cell_type": "code",
   "execution_count": 98,
   "metadata": {
    "execution": {
     "iopub.execute_input": "2022-05-27T09:04:07.412683Z",
     "iopub.status.busy": "2022-05-27T09:04:07.412149Z",
     "iopub.status.idle": "2022-05-27T09:04:07.418616Z",
     "shell.execute_reply": "2022-05-27T09:04:07.417902Z",
     "shell.execute_reply.started": "2022-05-27T09:04:07.412646Z"
    }
   },
   "outputs": [
    {
     "data": {
      "text/plain": [
       "((13713, 18), (4572, 18))"
      ]
     },
     "execution_count": 98,
     "metadata": {},
     "output_type": "execute_result"
    }
   ],
   "source": [
    "X_train_Num_Std.shape,X_test_Num_Std.shape"
   ]
  },
  {
   "cell_type": "code",
   "execution_count": 99,
   "metadata": {
    "execution": {
     "iopub.execute_input": "2022-05-27T09:04:09.339056Z",
     "iopub.status.busy": "2022-05-27T09:04:09.338413Z",
     "iopub.status.idle": "2022-05-27T09:04:09.346880Z",
     "shell.execute_reply": "2022-05-27T09:04:09.345872Z",
     "shell.execute_reply.started": "2022-05-27T09:04:09.339017Z"
    }
   },
   "outputs": [
    {
     "data": {
      "text/plain": [
       "array([[-0.25042064, -0.86483222, -0.88363495, ..., -0.68191916,\n",
       "         0.58227813,  2.78435809],\n",
       "       [ 0.32519972, -0.11495737,  0.98084975, ..., -0.03588199,\n",
       "         0.58227813, -0.40221243],\n",
       "       [ 0.23664274, -0.12338293, -0.26214005, ...,  0.31702932,\n",
       "         0.58227813, -0.0891202 ],\n",
       "       ...,\n",
       "       [ 0.67942764, -0.88934294,  0.56651982, ...,  1.09183384,\n",
       "         0.58227813,  2.91913599],\n",
       "       [ 0.36947821,  0.60600249,  0.35935485, ...,  0.16318966,\n",
       "        -0.61005025, -0.6306165 ],\n",
       "       [ 0.28092123, -0.35221348,  0.35935485, ...,  0.09751571,\n",
       "         0.58227813, -0.07937207]])"
      ]
     },
     "execution_count": 99,
     "metadata": {},
     "output_type": "execute_result"
    }
   ],
   "source": [
    "X_train_Num_Std"
   ]
  },
  {
   "cell_type": "code",
   "execution_count": 100,
   "metadata": {
    "execution": {
     "iopub.execute_input": "2022-05-27T09:04:11.511949Z",
     "iopub.status.busy": "2022-05-27T09:04:11.511646Z",
     "iopub.status.idle": "2022-05-27T09:04:11.518354Z",
     "shell.execute_reply": "2022-05-27T09:04:11.517560Z",
     "shell.execute_reply.started": "2022-05-27T09:04:11.511921Z"
    }
   },
   "outputs": [
    {
     "data": {
      "text/plain": [
       "array([[-1.18026892, -0.4458521 , -1.50512985, ..., -0.10457833,\n",
       "         0.58227813, -0.5362078 ],\n",
       "       [ 0.59087066, -0.2560855 , -0.26214005, ...,  0.2049075 ,\n",
       "         0.58227813, -0.08872233],\n",
       "       [ 0.0152503 ,  0.35361867,  0.15218988, ..., -0.31335738,\n",
       "        -0.68953881,  0.02916915],\n",
       "       ...,\n",
       "       [ 0.4137567 ,  1.07457853,  0.15218988, ..., -0.4009486 ,\n",
       "         0.58227813, -0.61152672],\n",
       "       [ 0.05952879, -0.66951242,  0.15218988, ..., -0.50539638,\n",
       "         0.58227813,  0.83779477],\n",
       "       [-0.64892705, -0.47687348, -1.09079992, ...,  0.65402768,\n",
       "         0.58227813,  0.22454754]])"
      ]
     },
     "execution_count": 100,
     "metadata": {},
     "output_type": "execute_result"
    }
   ],
   "source": [
    "X_test_Num_Std"
   ]
  },
  {
   "cell_type": "markdown",
   "metadata": {},
   "source": [
    "> # Vectorizing our text features using tfidf vectorizer"
   ]
  },
  {
   "cell_type": "code",
   "execution_count": 101,
   "metadata": {
    "execution": {
     "iopub.execute_input": "2022-05-27T09:04:13.600124Z",
     "iopub.status.busy": "2022-05-27T09:04:13.599377Z",
     "iopub.status.idle": "2022-05-27T09:04:14.853116Z",
     "shell.execute_reply": "2022-05-27T09:04:14.852396Z",
     "shell.execute_reply.started": "2022-05-27T09:04:13.600086Z"
    }
   },
   "outputs": [
    {
     "name": "stdout",
     "output_type": "stream",
     "text": [
      "After vectorizations shape of train and test data\n",
      "(13713, 3500) (13713,)\n",
      "(4572, 3500) (4572,)\n",
      "====================================================================================================\n"
     ]
    }
   ],
   "source": [
    "vectorizer_title_tfidf =TfidfVectorizer(max_features=3500)\n",
    "vectorizer_title_tfidf.fit(X_train[\"Without_Stopwords_title\"].values)\n",
    "\n",
    "# we use the fitted tfidfVectorizer to convert the text to vector\n",
    "X_train_title_tfidf = vectorizer_title_tfidf.transform(X_train['Without_Stopwords_title']).toarray()\n",
    "X_test_title_tfidf = vectorizer_title_tfidf.transform(X_test['Without_Stopwords_title']).toarray()\n",
    "\n",
    "print(\"After vectorizations shape of train and test data\")\n",
    "print(X_train_title_tfidf.shape, y_train.shape)\n",
    "print(X_test_title_tfidf.shape, y_test.shape)\n",
    "print(\"=\"*100)"
   ]
  },
  {
   "cell_type": "code",
   "execution_count": 102,
   "metadata": {
    "execution": {
     "iopub.execute_input": "2022-05-27T09:04:16.852000Z",
     "iopub.status.busy": "2022-05-27T09:04:16.851329Z",
     "iopub.status.idle": "2022-05-27T09:04:35.687068Z",
     "shell.execute_reply": "2022-05-27T09:04:35.686162Z",
     "shell.execute_reply.started": "2022-05-27T09:04:16.851955Z"
    }
   },
   "outputs": [
    {
     "name": "stdout",
     "output_type": "stream",
     "text": [
      "After vectorizations shape of train and test data\n",
      "(13713, 4500) (13713,)\n",
      "(4572, 4500) (4572,)\n",
      "====================================================================================================\n"
     ]
    }
   ],
   "source": [
    "vectorizer_text_tfidf =TfidfVectorizer(max_features=4500)\n",
    "vectorizer_text_tfidf.fit(X_train[\"Without_Stopwords_text\"].values)\n",
    "\n",
    "# we use the fitted countVectorizer to convert the text to vector\n",
    "X_train_text_tfidf = vectorizer_text_tfidf.transform(X_train['Without_Stopwords_text'].values).toarray()\n",
    "X_test_text_tfidf = vectorizer_text_tfidf.transform(X_test['Without_Stopwords_text'].values).toarray()\n",
    "\n",
    "print(\"After vectorizations shape of train and test data\")\n",
    "print(X_train_text_tfidf.shape, y_train.shape)\n",
    "print(X_test_text_tfidf.shape, y_test.shape)\n",
    "print(\"=\"*100)"
   ]
  },
  {
   "cell_type": "code",
   "execution_count": 103,
   "metadata": {
    "execution": {
     "iopub.execute_input": "2022-05-27T09:04:35.688961Z",
     "iopub.status.busy": "2022-05-27T09:04:35.688720Z",
     "iopub.status.idle": "2022-05-27T09:04:36.567639Z",
     "shell.execute_reply": "2022-05-27T09:04:36.566766Z",
     "shell.execute_reply.started": "2022-05-27T09:04:35.688933Z"
    }
   },
   "outputs": [
    {
     "name": "stdout",
     "output_type": "stream",
     "text": [
      "Final Data matrix\n",
      "(13713, 8018) (13713,)\n",
      "(4572, 8018) (4572,)\n",
      "====================================================================================================\n"
     ]
    }
   ],
   "source": [
    "# stacking all the features for train and test dataset \n",
    "X_train_final_tfidf = np.hstack((X_train_title_tfidf, X_train_text_tfidf,X_train_Num_Std))\n",
    "X_test_final_tfidf = np.hstack((X_test_title_tfidf , X_test_text_tfidf,X_test_Num_Std))\n",
    "\n",
    "print(\"Final Data matrix\")\n",
    "print(X_train_final_tfidf.shape, y_train.shape)\n",
    "print(X_test_final_tfidf.shape, y_test.shape)\n",
    "print(\"=\"*100)"
   ]
  },
  {
   "cell_type": "markdown",
   "metadata": {},
   "source": [
    "> # Pickle the vectorizer object for test dataset"
   ]
  },
  {
   "cell_type": "code",
   "execution_count": 104,
   "metadata": {
    "execution": {
     "iopub.execute_input": "2022-05-27T09:04:36.569561Z",
     "iopub.status.busy": "2022-05-27T09:04:36.568904Z",
     "iopub.status.idle": "2022-05-27T09:04:36.655080Z",
     "shell.execute_reply": "2022-05-27T09:04:36.654070Z",
     "shell.execute_reply.started": "2022-05-27T09:04:36.569506Z"
    }
   },
   "outputs": [],
   "source": [
    "pickle.dump(vectorizer_title_tfidf,open(\"./vectorizer_title_tfidf.pkl\",'wb'))\n",
    "pickle.dump(vectorizer_text_tfidf,open(\"./vectorizer_text_tfidf.pkl\",'wb'))"
   ]
  },
  {
   "cell_type": "markdown",
   "metadata": {},
   "source": [
    "> # Preparing the test dataset for prediction from above tunned model"
   ]
  },
  {
   "cell_type": "code",
   "execution_count": 105,
   "metadata": {
    "execution": {
     "iopub.execute_input": "2022-05-27T09:04:36.657290Z",
     "iopub.status.busy": "2022-05-27T09:04:36.657037Z",
     "iopub.status.idle": "2022-05-27T09:04:37.888721Z",
     "shell.execute_reply": "2022-05-27T09:04:37.887940Z",
     "shell.execute_reply.started": "2022-05-27T09:04:36.657260Z"
    }
   },
   "outputs": [],
   "source": [
    "df_test=pickle.load(open('../input/fake-news-case-study-preprocessed-daa/df_test.pkl','rb'))"
   ]
  },
  {
   "cell_type": "code",
   "execution_count": 106,
   "metadata": {
    "execution": {
     "iopub.execute_input": "2022-05-27T09:04:37.890632Z",
     "iopub.status.busy": "2022-05-27T09:04:37.890311Z",
     "iopub.status.idle": "2022-05-27T09:04:37.896500Z",
     "shell.execute_reply": "2022-05-27T09:04:37.895712Z",
     "shell.execute_reply.started": "2022-05-27T09:04:37.890571Z"
    }
   },
   "outputs": [
    {
     "data": {
      "text/plain": [
       "(5200, 26)"
      ]
     },
     "execution_count": 106,
     "metadata": {},
     "output_type": "execute_result"
    }
   ],
   "source": [
    "df_test.shape"
   ]
  },
  {
   "cell_type": "code",
   "execution_count": 107,
   "metadata": {
    "execution": {
     "iopub.execute_input": "2022-05-27T09:04:37.898680Z",
     "iopub.status.busy": "2022-05-27T09:04:37.897837Z",
     "iopub.status.idle": "2022-05-27T09:04:37.928136Z",
     "shell.execute_reply": "2022-05-27T09:04:37.927634Z",
     "shell.execute_reply.started": "2022-05-27T09:04:37.898641Z"
    }
   },
   "outputs": [
    {
     "data": {
      "text/html": [
       "<div>\n",
       "<style scoped>\n",
       "    .dataframe tbody tr th:only-of-type {\n",
       "        vertical-align: middle;\n",
       "    }\n",
       "\n",
       "    .dataframe tbody tr th {\n",
       "        vertical-align: top;\n",
       "    }\n",
       "\n",
       "    .dataframe thead th {\n",
       "        text-align: right;\n",
       "    }\n",
       "</style>\n",
       "<table border=\"1\" class=\"dataframe\">\n",
       "  <thead>\n",
       "    <tr style=\"text-align: right;\">\n",
       "      <th></th>\n",
       "      <th>id</th>\n",
       "      <th>title</th>\n",
       "      <th>author</th>\n",
       "      <th>text</th>\n",
       "      <th>num_characters_title</th>\n",
       "      <th>num_characters_text</th>\n",
       "      <th>num_word_title</th>\n",
       "      <th>num_word_text</th>\n",
       "      <th>num_sentences_title</th>\n",
       "      <th>num_sentences_text</th>\n",
       "      <th>...</th>\n",
       "      <th>Avg_sentence_length_title</th>\n",
       "      <th>Avg_sentence_length_text</th>\n",
       "      <th>Stopword_count_ratio_title</th>\n",
       "      <th>Stopword_count_ratio_text</th>\n",
       "      <th>Unique_words_count_ratio_title</th>\n",
       "      <th>Unique_words_count_ratio_text</th>\n",
       "      <th>cleaned_text</th>\n",
       "      <th>cleaned_title</th>\n",
       "      <th>Without_Stopwords_text</th>\n",
       "      <th>Without_Stopwords_title</th>\n",
       "    </tr>\n",
       "  </thead>\n",
       "  <tbody>\n",
       "    <tr>\n",
       "      <th>0</th>\n",
       "      <td>20800</td>\n",
       "      <td>Specter of Trump Loosens Tongues, if Not Purse...</td>\n",
       "      <td>David Streitfeld</td>\n",
       "      <td>PALO ALTO, Calif.  —   After years of scorning...</td>\n",
       "      <td>94</td>\n",
       "      <td>8015</td>\n",
       "      <td>19</td>\n",
       "      <td>1588</td>\n",
       "      <td>1</td>\n",
       "      <td>76</td>\n",
       "      <td>...</td>\n",
       "      <td>19.0</td>\n",
       "      <td>20.894737</td>\n",
       "      <td>0.157895</td>\n",
       "      <td>0.309194</td>\n",
       "      <td>0.947368</td>\n",
       "      <td>0.399874</td>\n",
       "      <td>palo alto calif after years of scorning the po...</td>\n",
       "      <td>specter of trump loosens tongues if not purse ...</td>\n",
       "      <td>palo alto calif years scorning political proce...</td>\n",
       "      <td>specter trump loosens tongues purse strings si...</td>\n",
       "    </tr>\n",
       "    <tr>\n",
       "      <th>1</th>\n",
       "      <td>20801</td>\n",
       "      <td>Russian warships ready to strike terrorists ne...</td>\n",
       "      <td>David Streitfeld</td>\n",
       "      <td>Russian warships ready to strike terrorists ne...</td>\n",
       "      <td>55</td>\n",
       "      <td>1559</td>\n",
       "      <td>8</td>\n",
       "      <td>277</td>\n",
       "      <td>1</td>\n",
       "      <td>10</td>\n",
       "      <td>...</td>\n",
       "      <td>8.0</td>\n",
       "      <td>27.700000</td>\n",
       "      <td>0.125000</td>\n",
       "      <td>0.314079</td>\n",
       "      <td>1.000000</td>\n",
       "      <td>0.512635</td>\n",
       "      <td>russian warships ready to strike terrorists ne...</td>\n",
       "      <td>russian warships ready to strike terrorists ne...</td>\n",
       "      <td>russian warships ready strike terrorists near ...</td>\n",
       "      <td>russian warships ready strike terrorists near ...</td>\n",
       "    </tr>\n",
       "  </tbody>\n",
       "</table>\n",
       "<p>2 rows × 26 columns</p>\n",
       "</div>"
      ],
      "text/plain": [
       "      id                                              title            author  \\\n",
       "0  20800  Specter of Trump Loosens Tongues, if Not Purse...  David Streitfeld   \n",
       "1  20801  Russian warships ready to strike terrorists ne...  David Streitfeld   \n",
       "\n",
       "                                                text  num_characters_title  \\\n",
       "0  PALO ALTO, Calif.  —   After years of scorning...                    94   \n",
       "1  Russian warships ready to strike terrorists ne...                    55   \n",
       "\n",
       "   num_characters_text  num_word_title  num_word_text  num_sentences_title  \\\n",
       "0                 8015              19           1588                    1   \n",
       "1                 1559               8            277                    1   \n",
       "\n",
       "   num_sentences_text  ...  Avg_sentence_length_title  \\\n",
       "0                  76  ...                       19.0   \n",
       "1                  10  ...                        8.0   \n",
       "\n",
       "   Avg_sentence_length_text  Stopword_count_ratio_title  \\\n",
       "0                 20.894737                    0.157895   \n",
       "1                 27.700000                    0.125000   \n",
       "\n",
       "   Stopword_count_ratio_text  Unique_words_count_ratio_title  \\\n",
       "0                   0.309194                        0.947368   \n",
       "1                   0.314079                        1.000000   \n",
       "\n",
       "   Unique_words_count_ratio_text  \\\n",
       "0                       0.399874   \n",
       "1                       0.512635   \n",
       "\n",
       "                                        cleaned_text  \\\n",
       "0  palo alto calif after years of scorning the po...   \n",
       "1  russian warships ready to strike terrorists ne...   \n",
       "\n",
       "                                       cleaned_title  \\\n",
       "0  specter of trump loosens tongues if not purse ...   \n",
       "1  russian warships ready to strike terrorists ne...   \n",
       "\n",
       "                              Without_Stopwords_text  \\\n",
       "0  palo alto calif years scorning political proce...   \n",
       "1  russian warships ready strike terrorists near ...   \n",
       "\n",
       "                             Without_Stopwords_title  \n",
       "0  specter trump loosens tongues purse strings si...  \n",
       "1  russian warships ready strike terrorists near ...  \n",
       "\n",
       "[2 rows x 26 columns]"
      ]
     },
     "execution_count": 107,
     "metadata": {},
     "output_type": "execute_result"
    }
   ],
   "source": [
    "df_test.head(2)"
   ]
  },
  {
   "cell_type": "code",
   "execution_count": 108,
   "metadata": {
    "execution": {
     "iopub.execute_input": "2022-05-27T09:04:42.687726Z",
     "iopub.status.busy": "2022-05-27T09:04:42.687419Z",
     "iopub.status.idle": "2022-05-27T09:04:42.702879Z",
     "shell.execute_reply": "2022-05-27T09:04:42.702092Z",
     "shell.execute_reply.started": "2022-05-27T09:04:42.687690Z"
    }
   },
   "outputs": [],
   "source": [
    "df_test_final=df_test.drop([\"id\",\"title\",\"text\",\"cleaned_text\",\"cleaned_title\",\"author\"], axis=1, inplace=False)"
   ]
  },
  {
   "cell_type": "code",
   "execution_count": 109,
   "metadata": {
    "execution": {
     "iopub.execute_input": "2022-05-27T09:04:44.094996Z",
     "iopub.status.busy": "2022-05-27T09:04:44.094457Z",
     "iopub.status.idle": "2022-05-27T09:04:44.100626Z",
     "shell.execute_reply": "2022-05-27T09:04:44.100013Z",
     "shell.execute_reply.started": "2022-05-27T09:04:44.094942Z"
    }
   },
   "outputs": [
    {
     "data": {
      "text/plain": [
       "(5200, 20)"
      ]
     },
     "execution_count": 109,
     "metadata": {},
     "output_type": "execute_result"
    }
   ],
   "source": [
    "df_test_final.shape"
   ]
  },
  {
   "cell_type": "code",
   "execution_count": 110,
   "metadata": {
    "execution": {
     "iopub.execute_input": "2022-05-27T09:04:47.019084Z",
     "iopub.status.busy": "2022-05-27T09:04:47.018535Z",
     "iopub.status.idle": "2022-05-27T09:04:47.025481Z",
     "shell.execute_reply": "2022-05-27T09:04:47.024681Z",
     "shell.execute_reply.started": "2022-05-27T09:04:47.019033Z"
    }
   },
   "outputs": [],
   "source": [
    "df_test_Num_Ft=df_test_final.drop([\"Without_Stopwords_text\",\"Without_Stopwords_title\"],axis=1,inplace=False)"
   ]
  },
  {
   "cell_type": "code",
   "execution_count": 111,
   "metadata": {
    "execution": {
     "iopub.execute_input": "2022-05-27T09:04:48.639804Z",
     "iopub.status.busy": "2022-05-27T09:04:48.639269Z",
     "iopub.status.idle": "2022-05-27T09:04:48.645232Z",
     "shell.execute_reply": "2022-05-27T09:04:48.644693Z",
     "shell.execute_reply.started": "2022-05-27T09:04:48.639754Z"
    }
   },
   "outputs": [
    {
     "data": {
      "text/plain": [
       "(5200, 18)"
      ]
     },
     "execution_count": 111,
     "metadata": {},
     "output_type": "execute_result"
    }
   ],
   "source": [
    "df_test_Num_Ft.shape"
   ]
  },
  {
   "cell_type": "code",
   "execution_count": 112,
   "metadata": {
    "execution": {
     "iopub.execute_input": "2022-05-27T09:04:51.479619Z",
     "iopub.status.busy": "2022-05-27T09:04:51.478836Z",
     "iopub.status.idle": "2022-05-27T09:04:51.489766Z",
     "shell.execute_reply": "2022-05-27T09:04:51.489106Z",
     "shell.execute_reply.started": "2022-05-27T09:04:51.479569Z"
    }
   },
   "outputs": [],
   "source": [
    "Std_Scaler=pickle.load(open('../input/fake-news-case-study-preprocessed-daa/Std_Scaler.pkl','rb'))"
   ]
  },
  {
   "cell_type": "code",
   "execution_count": 113,
   "metadata": {
    "execution": {
     "iopub.execute_input": "2022-05-27T09:04:53.000829Z",
     "iopub.status.busy": "2022-05-27T09:04:53.000058Z",
     "iopub.status.idle": "2022-05-27T09:04:53.008456Z",
     "shell.execute_reply": "2022-05-27T09:04:53.007817Z",
     "shell.execute_reply.started": "2022-05-27T09:04:53.000791Z"
    }
   },
   "outputs": [],
   "source": [
    "df_test_Num_Std=Std_Scaler.transform(df_test_Num_Ft)"
   ]
  },
  {
   "cell_type": "code",
   "execution_count": 114,
   "metadata": {
    "execution": {
     "iopub.execute_input": "2022-05-27T09:04:54.736427Z",
     "iopub.status.busy": "2022-05-27T09:04:54.735887Z",
     "iopub.status.idle": "2022-05-27T09:04:54.742782Z",
     "shell.execute_reply": "2022-05-27T09:04:54.741896Z",
     "shell.execute_reply.started": "2022-05-27T09:04:54.736392Z"
    }
   },
   "outputs": [
    {
     "data": {
      "text/plain": [
       "array([[ 0.85654159,  0.61500252,  0.98084975, ..., -0.3364022 ,\n",
       "        -0.42178787, -0.66690683],\n",
       "       [-0.87031949, -0.62125694, -1.29796488, ..., -0.26450971,\n",
       "         0.58227813,  0.18416632],\n",
       "       [ 0.4137567 , -0.04908481,  0.35935485, ..., -0.36811604,\n",
       "         0.58227813, -0.1585109 ],\n",
       "       ...,\n",
       "       [-0.16186366,  0.16825634,  0.56651982, ..., -0.43060595,\n",
       "        -0.53991328,  0.08880001],\n",
       "       [-0.78176251, -0.41540519, -0.67646998, ...,  0.94602397,\n",
       "        -1.15201769,  0.10414058],\n",
       "       [-1.09171194,  0.70787517, -0.67646998, ...,  0.37148373,\n",
       "         0.58227813, -0.81559203]])"
      ]
     },
     "execution_count": 114,
     "metadata": {},
     "output_type": "execute_result"
    }
   ],
   "source": [
    "df_test_Num_Std"
   ]
  },
  {
   "cell_type": "code",
   "execution_count": 115,
   "metadata": {
    "execution": {
     "iopub.execute_input": "2022-05-27T09:04:57.002984Z",
     "iopub.status.busy": "2022-05-27T09:04:57.002154Z",
     "iopub.status.idle": "2022-05-27T09:04:57.117707Z",
     "shell.execute_reply": "2022-05-27T09:04:57.117055Z",
     "shell.execute_reply.started": "2022-05-27T09:04:57.002943Z"
    }
   },
   "outputs": [],
   "source": [
    "vectorizer_text_tfidf=pickle.load(open('../input/fake-news-case-study-preprocessed-daa/vectorizer_text_tfidf.pkl','rb'))\n",
    "vectorizer_title_tfdf=pickle.load(open('../input/fake-news-case-study-preprocessed-daa/vectorizer_title_tfidf.pkl','rb'))"
   ]
  },
  {
   "cell_type": "markdown",
   "metadata": {},
   "source": [
    "# Vectorizing the test dataset text feaures"
   ]
  },
  {
   "cell_type": "code",
   "execution_count": 116,
   "metadata": {
    "execution": {
     "iopub.execute_input": "2022-05-27T09:04:58.713706Z",
     "iopub.status.busy": "2022-05-27T09:04:58.713131Z",
     "iopub.status.idle": "2022-05-27T09:05:02.071606Z",
     "shell.execute_reply": "2022-05-27T09:05:02.070662Z",
     "shell.execute_reply.started": "2022-05-27T09:04:58.713663Z"
    }
   },
   "outputs": [
    {
     "name": "stdout",
     "output_type": "stream",
     "text": [
      "After vectorizations shape test data\n",
      "(5200, 3500)\n",
      "(5200, 4500)\n",
      "====================================================================================================\n"
     ]
    }
   ],
   "source": [
    "df_test_title_tfidf = vectorizer_title_tfdf.transform(df_test_final['Without_Stopwords_title'].values).toarray()\n",
    "df_test_text_tfidf = vectorizer_text_tfidf.transform(df_test_final['Without_Stopwords_text'].values).toarray()\n",
    "print(\"After vectorizations shape test data\")\n",
    "print(df_test_title_tfidf.shape)\n",
    "print(df_test_text_tfidf.shape)\n",
    "print(\"=\"*100)"
   ]
  },
  {
   "cell_type": "code",
   "execution_count": 117,
   "metadata": {
    "execution": {
     "iopub.execute_input": "2022-05-27T09:05:02.073891Z",
     "iopub.status.busy": "2022-05-27T09:05:02.073536Z",
     "iopub.status.idle": "2022-05-27T09:05:02.221524Z",
     "shell.execute_reply": "2022-05-27T09:05:02.220687Z",
     "shell.execute_reply.started": "2022-05-27T09:05:02.073850Z"
    },
    "scrolled": true
   },
   "outputs": [
    {
     "name": "stdout",
     "output_type": "stream",
     "text": [
      "Final test Data matrix\n",
      "(5200, 8018)\n",
      "====================================================================================================\n"
     ]
    }
   ],
   "source": [
    "# stacking all the features for train and test dataset\n",
    "df_test_final = np.hstack((df_test_title_tfidf, df_test_text_tfidf,df_test_Num_Std))\n",
    "\n",
    "print(\"Final test Data matrix\")\n",
    "print(df_test_final.shape)\n",
    "print(\"=\"*100)"
   ]
  },
  {
   "cell_type": "markdown",
   "metadata": {},
   "source": [
    "# Hyperparameter tunning for Gaussian NB"
   ]
  },
  {
   "cell_type": "code",
   "execution_count": 118,
   "metadata": {
    "execution": {
     "iopub.execute_input": "2022-05-27T09:05:02.601055Z",
     "iopub.status.busy": "2022-05-27T09:05:02.600434Z",
     "iopub.status.idle": "2022-05-27T09:06:06.399506Z",
     "shell.execute_reply": "2022-05-27T09:06:06.397370Z",
     "shell.execute_reply.started": "2022-05-27T09:05:02.601015Z"
    }
   },
   "outputs": [
    {
     "name": "stdout",
     "output_type": "stream",
     "text": [
      "Train Accuracy : 0.912\n",
      "Test Accuracy : 0.900\n",
      "Best Accuracy Through Grid Search : 0.893\n",
      "Best Parameters :  {'var_smoothing': 0.005}\n"
     ]
    }
   ],
   "source": [
    "from sklearn.model_selection import GridSearchCV\n",
    "parameters = {'var_smoothing':[0.00001,0.0005, 0.0001,0.005,0.001,0.05,0.01,0.1,0.5,1.0,5.0,10.0,50.0,100.0]}\n",
    "gnb_grid = GridSearchCV(GaussianNB(), param_grid=parameters, n_jobs=-1, cv=3,scoring='accuracy',return_train_score=True)\n",
    "gnb_grid.fit(X_train_final_tfidf,y_train)\n",
    "print('Train Accuracy : %.3f'%gnb_grid.best_estimator_.score(X_train_final_tfidf, y_train))\n",
    "print('Test Accuracy : %.3f'%gnb_grid.best_estimator_.score(X_test_final_tfidf, y_test))\n",
    "print('Best Accuracy Through Grid Search : %.3f'%gnb_grid.best_score_)\n",
    "print('Best Parameters : ',gnb_grid.best_params_)"
   ]
  },
  {
   "cell_type": "code",
   "execution_count": 119,
   "metadata": {
    "execution": {
     "iopub.execute_input": "2022-05-27T09:06:06.402224Z",
     "iopub.status.busy": "2022-05-27T09:06:06.401898Z",
     "iopub.status.idle": "2022-05-27T09:06:06.720507Z",
     "shell.execute_reply": "2022-05-27T09:06:06.719932Z",
     "shell.execute_reply.started": "2022-05-27T09:06:06.402178Z"
    }
   },
   "outputs": [
    {
     "data": {
      "image/png": "[encoded data removed]",
      "text/plain": [
       "<Figure size 432x288 with 1 Axes>"
      ]
     },
     "metadata": {
      "needs_background": "light"
     },
     "output_type": "display_data"
    }
   ],
   "source": [
    "from math import log\n",
    "results = pd.DataFrame.from_dict(gnb_grid.cv_results_)\n",
    "results = results.sort_values(['param_var_smoothing'])\n",
    "\n",
    "train_auc= results['mean_train_score']\n",
    "train_auc_std= results['std_train_score']\n",
    "cv_auc = results['mean_test_score'] \n",
    "cv_auc_std= results['std_test_score']\n",
    "var_smoothing =  results['param_var_smoothing']\n",
    "\n",
    "var_smoothing=[log(y,10) for y in var_smoothing]\n",
    "\n",
    "plt.plot(var_smoothing, train_auc, label='Train')\n",
    "\n",
    "plt.plot(var_smoothing, cv_auc, label='CV')\n",
    "\n",
    "plt.scatter(var_smoothing, train_auc, label='Train points')\n",
    "plt.scatter(var_smoothing, cv_auc, label='CV points')\n",
    "\n",
    "\n",
    "plt.legend()\n",
    "plt.xlabel(\"var_smoothing: hyperparameter\")\n",
    "plt.ylabel(\"Accuracy\")\n",
    "plt.title(\"Hyper parameter Vs Accuracy plot\")\n",
    "plt.grid()\n",
    "plt.show()"
   ]
  },
  {
   "cell_type": "markdown",
   "metadata": {},
   "source": [
    "# Training the GNB on best hyperparameter"
   ]
  },
  {
   "cell_type": "code",
   "execution_count": 120,
   "metadata": {
    "execution": {
     "iopub.execute_input": "2022-05-27T09:06:06.722042Z",
     "iopub.status.busy": "2022-05-27T09:06:06.721660Z",
     "iopub.status.idle": "2022-05-27T09:06:08.874206Z",
     "shell.execute_reply": "2022-05-27T09:06:08.873372Z",
     "shell.execute_reply.started": "2022-05-27T09:06:06.722001Z"
    }
   },
   "outputs": [
    {
     "name": "stdout",
     "output_type": "stream",
     "text": [
      "Gaussin NB accuracy on test dataset : 0.9000437445319335\n",
      "Gaussin NB precision on test dataset: 0.9214601769911505\n"
     ]
    }
   ],
   "source": [
    "gnb = GaussianNB(var_smoothing=0.005)\n",
    "gnb.fit(X_train_final_tfidf,y_train)\n",
    "y_pred = gnb.predict(X_test_final_tfidf)\n",
    "accuracy = accuracy_score(y_test,y_pred)\n",
    "precision = precision_score(y_test,y_pred)\n",
    "print(\"Gaussin NB accuracy on test dataset :\",accuracy)\n",
    "print(\"Gaussin NB precision on test dataset:\",precision)"
   ]
  },
  {
   "cell_type": "markdown",
   "metadata": {},
   "source": [
    "> # Predcting on test dataset using Fine tunned Gaussian Naive Bayes Model"
   ]
  },
  {
   "cell_type": "code",
   "execution_count": 121,
   "metadata": {
    "execution": {
     "iopub.execute_input": "2022-05-27T09:06:08.876451Z",
     "iopub.status.busy": "2022-05-27T09:06:08.876184Z",
     "iopub.status.idle": "2022-05-27T09:06:09.520352Z",
     "shell.execute_reply": "2022-05-27T09:06:09.519475Z",
     "shell.execute_reply.started": "2022-05-27T09:06:08.876424Z"
    }
   },
   "outputs": [],
   "source": [
    "y_test_pred_gnb = gnb.predict(df_test_final)"
   ]
  },
  {
   "cell_type": "code",
   "execution_count": 122,
   "metadata": {
    "execution": {
     "iopub.execute_input": "2022-05-27T09:06:09.522101Z",
     "iopub.status.busy": "2022-05-27T09:06:09.521848Z",
     "iopub.status.idle": "2022-05-27T09:06:09.545503Z",
     "shell.execute_reply": "2022-05-27T09:06:09.544879Z",
     "shell.execute_reply.started": "2022-05-27T09:06:09.522073Z"
    }
   },
   "outputs": [],
   "source": [
    "my_submission = pd.DataFrame({'id': df_test.id, 'label': y_test_pred_gnb.tolist()})\n",
    "# you could use any filename. We choose submission here\n",
    "my_submission.to_csv('sumit.csv', index=False)"
   ]
  },
  {
   "cell_type": "markdown",
   "metadata": {},
   "source": [
    "# Below is Kaggle private and public score:-"
   ]
  },
  {
   "attachments": {
    "image.png": {
     "image/png": "[encoded data removed]"
    }
   },
   "cell_type": "markdown",
   "metadata": {},
   "source": [
    "![image.png](attachment:image.png)"
   ]
  },
  {
   "cell_type": "markdown",
   "metadata": {},
   "source": [
    "> # Logistic regression hyperparameter tunning"
   ]
  },
  {
   "cell_type": "code",
   "execution_count": 123,
   "metadata": {
    "execution": {
     "iopub.execute_input": "2022-05-27T09:06:09.547536Z",
     "iopub.status.busy": "2022-05-27T09:06:09.546907Z",
     "iopub.status.idle": "2022-05-27T09:06:53.904821Z",
     "shell.execute_reply": "2022-05-27T09:06:53.903877Z",
     "shell.execute_reply.started": "2022-05-27T09:06:09.547496Z"
    }
   },
   "outputs": [
    {
     "name": "stdout",
     "output_type": "stream",
     "text": [
      "Train Accuracy : 1.000\n",
      "Test Accuracy : 0.983\n",
      "Best Accuracy Through Grid Search : 0.893\n",
      "Best Parameters :  {'C': 20, 'penalty': 'l1'}\n"
     ]
    }
   ],
   "source": [
    "from sklearn.model_selection import GridSearchCV\n",
    "from sklearn.linear_model import LogisticRegression\n",
    "parameters = {'penalty':['l1','l2'],\n",
    "             'C':[1,3,5,8,10,15,20]}\n",
    "LR_grid = GridSearchCV(LogisticRegression(solver='liblinear',random_state=12), param_grid=parameters, n_jobs=-1, cv=3,scoring='accuracy',return_train_score=True)\n",
    "LR_grid.fit(X_train_final_tfidf,y_train)\n",
    "\n",
    "print('Train Accuracy : %.3f'%LR_grid.best_estimator_.score(X_train_final_tfidf, y_train))\n",
    "print('Test Accuracy : %.3f'%LR_grid.best_estimator_.score(X_test_final_tfidf, y_test))\n",
    "print('Best Accuracy Through Grid Search : %.3f'%gnb_grid.best_score_)\n",
    "print('Best Parameters : ',LR_grid.best_params_)"
   ]
  },
  {
   "cell_type": "code",
   "execution_count": 124,
   "metadata": {
    "execution": {
     "iopub.execute_input": "2022-05-27T09:06:53.906994Z",
     "iopub.status.busy": "2022-05-27T09:06:53.906504Z",
     "iopub.status.idle": "2022-05-27T09:06:54.237296Z",
     "shell.execute_reply": "2022-05-27T09:06:54.236528Z",
     "shell.execute_reply.started": "2022-05-27T09:06:53.906953Z"
    }
   },
   "outputs": [
    {
     "data": {
      "image/png": "[encoded data removed]",
      "text/plain": [
       "<Figure size 432x288 with 1 Axes>"
      ]
     },
     "metadata": {
      "needs_background": "light"
     },
     "output_type": "display_data"
    }
   ],
   "source": [
    "results = pd.DataFrame.from_dict(LR_grid.cv_results_)\n",
    "results = results.sort_values(['param_penalty'])\n",
    "\n",
    "train_auc= results['mean_train_score']\n",
    "train_auc_std= results['std_train_score']\n",
    "cv_auc = results['mean_test_score'] \n",
    "cv_auc_std= results['std_test_score']\n",
    "C =  results['param_C']\n",
    "\n",
    "plt.plot(C, train_auc, label='Train')\n",
    "\n",
    "plt.plot(C, cv_auc, label='CV')\n",
    "\n",
    "plt.scatter(C, train_auc, label='Train points')\n",
    "plt.scatter(C, cv_auc, label='CV points')\n",
    "\n",
    "\n",
    "plt.legend()\n",
    "plt.xlabel(\"C: hyperparameter\")\n",
    "plt.ylabel(\"Accuracy\")\n",
    "plt.title(\"Hyper parameter Vs Accuracy plot\")\n",
    "plt.grid()\n",
    "plt.show()"
   ]
  },
  {
   "cell_type": "markdown",
   "metadata": {},
   "source": [
    "# Training the LR on best hyperparameter"
   ]
  },
  {
   "cell_type": "code",
   "execution_count": 125,
   "metadata": {
    "execution": {
     "iopub.execute_input": "2022-05-27T09:06:54.238820Z",
     "iopub.status.busy": "2022-05-27T09:06:54.238472Z",
     "iopub.status.idle": "2022-05-27T09:06:56.197487Z",
     "shell.execute_reply": "2022-05-27T09:06:56.196597Z",
     "shell.execute_reply.started": "2022-05-27T09:06:54.238783Z"
    }
   },
   "outputs": [
    {
     "name": "stdout",
     "output_type": "stream",
     "text": [
      "LR accuracy on test dataset : 0.9825021872265967\n",
      "LR precision on test dataset : 0.9769192172604114\n"
     ]
    }
   ],
   "source": [
    "LR = LogisticRegression(penalty='l1',C=20,random_state=10,solver='liblinear')\n",
    "LR.fit(X_train_final_tfidf,y_train)\n",
    "y_pred = LR.predict(X_test_final_tfidf)\n",
    "accuracy = accuracy_score(y_test,y_pred)\n",
    "precision = precision_score(y_test,y_pred)\n",
    "print(\"LR accuracy on test dataset :\",accuracy)\n",
    "print(\"LR precision on test dataset :\",precision)"
   ]
  },
  {
   "cell_type": "markdown",
   "metadata": {},
   "source": [
    "> # prediction on test dataset"
   ]
  },
  {
   "cell_type": "code",
   "execution_count": 126,
   "metadata": {
    "execution": {
     "iopub.execute_input": "2022-05-27T09:06:56.199702Z",
     "iopub.status.busy": "2022-05-27T09:06:56.199173Z",
     "iopub.status.idle": "2022-05-27T09:06:56.263189Z",
     "shell.execute_reply": "2022-05-27T09:06:56.262239Z",
     "shell.execute_reply.started": "2022-05-27T09:06:56.199659Z"
    }
   },
   "outputs": [],
   "source": [
    "y_test_pred_LR = LR.predict(df_test_final)"
   ]
  },
  {
   "cell_type": "code",
   "execution_count": 127,
   "metadata": {
    "execution": {
     "iopub.execute_input": "2022-05-27T09:06:56.272314Z",
     "iopub.status.busy": "2022-05-27T09:06:56.269819Z",
     "iopub.status.idle": "2022-05-27T09:06:56.305713Z",
     "shell.execute_reply": "2022-05-27T09:06:56.304809Z",
     "shell.execute_reply.started": "2022-05-27T09:06:56.272264Z"
    }
   },
   "outputs": [],
   "source": [
    "my_submission = pd.DataFrame({'id': df_test.id, 'label': y_test_pred_LR.tolist()})\n",
    "# you could use any filename. We choose submission here\n",
    "my_submission.to_csv('sumit.csv', index=False)"
   ]
  },
  {
   "cell_type": "code",
   "execution_count": 128,
   "metadata": {
    "execution": {
     "iopub.execute_input": "2022-05-27T09:06:56.313471Z",
     "iopub.status.busy": "2022-05-27T09:06:56.310885Z",
     "iopub.status.idle": "2022-05-27T09:06:56.321085Z",
     "shell.execute_reply": "2022-05-27T09:06:56.320277Z",
     "shell.execute_reply.started": "2022-05-27T09:06:56.313421Z"
    }
   },
   "outputs": [],
   "source": [
    "pickle.dump(LR,open(\"./Logistic_reg.pkl\",'wb'))"
   ]
  },
  {
   "cell_type": "markdown",
   "metadata": {},
   "source": [
    "# Below is Kaggle private and public score:-"
   ]
  },
  {
   "attachments": {
    "image.png": {
     "image/png": "[encoded data removed]"
    }
   },
   "cell_type": "markdown",
   "metadata": {},
   "source": [
    "![image.png](attachment:image.png)"
   ]
  },
  {
   "cell_type": "markdown",
   "metadata": {},
   "source": [
    "> # Xgboost Hyperparameter tunning"
   ]
  },
  {
   "cell_type": "code",
   "execution_count": 135,
   "metadata": {
    "execution": {
     "iopub.execute_input": "2022-05-27T10:08:47.608339Z",
     "iopub.status.busy": "2022-05-27T10:08:47.607728Z",
     "iopub.status.idle": "2022-05-27T10:32:50.715716Z",
     "shell.execute_reply": "2022-05-27T10:32:50.714948Z",
     "shell.execute_reply.started": "2022-05-27T10:08:47.608287Z"
    }
   },
   "outputs": [
    {
     "name": "stdout",
     "output_type": "stream",
     "text": [
      "Train Accuracy : 0.999\n",
      "Test Accuracy : 0.979\n",
      "Best Accuracy Through Grid Search : 0.978\n",
      "Best Parameters :  {'max_depth': 8, 'n_estimators': 30}\n"
     ]
    }
   ],
   "source": [
    "from sklearn.model_selection import GridSearchCV\n",
    "from xgboost import XGBClassifier\n",
    "Param_dict={\"max_depth\":[2,5,8],\n",
    "\"n_estimators\":[8,10,15,20,25,30]}\n",
    "GBDT_grid = GridSearchCV(XGBClassifier(random_state=23,eval_metric='logloss'), param_grid=Param_dict, n_jobs=-1, cv=3,scoring='accuracy' ,return_train_score=True)\n",
    "GBDT_grid.fit(X_train_final_tfidf,y_train)\n",
    "\n",
    "print('Train Accuracy : %.3f'%GBDT_grid.best_estimator_.score(X_train_final_tfidf, y_train))\n",
    "print('Test Accuracy : %.3f'%GBDT_grid.best_estimator_.score(X_test_final_tfidf, y_test))\n",
    "print('Best Accuracy Through Grid Search : %.3f'%GBDT_grid.best_score_)\n",
    "print('Best Parameters : ',GBDT_grid.best_params_)"
   ]
  },
  {
   "cell_type": "code",
   "execution_count": 136,
   "metadata": {
    "execution": {
     "iopub.execute_input": "2022-05-27T10:33:13.208736Z",
     "iopub.status.busy": "2022-05-27T10:33:13.208439Z",
     "iopub.status.idle": "2022-05-27T10:33:13.599478Z",
     "shell.execute_reply": "2022-05-27T10:33:13.598628Z",
     "shell.execute_reply.started": "2022-05-27T10:33:13.208705Z"
    }
   },
   "outputs": [
    {
     "data": {
      "image/png": "[encoded data removed]",
      "text/plain": [
       "<Figure size 432x288 with 1 Axes>"
      ]
     },
     "metadata": {
      "needs_background": "light"
     },
     "output_type": "display_data"
    }
   ],
   "source": [
    "results = pd.DataFrame.from_dict(GBDT_grid.cv_results_)\n",
    "results = results.sort_values(['param_n_estimators'])\n",
    "\n",
    "train_auc= results['mean_train_score']\n",
    "train_auc_std= results['std_train_score']\n",
    "cv_auc = results['mean_test_score'] \n",
    "cv_auc_std= results['std_test_score']\n",
    "n_estimators =  results['param_n_estimators']\n",
    "\n",
    "plt.plot(n_estimators, train_auc, label='Train AUC')\n",
    "\n",
    "plt.plot(n_estimators, cv_auc, label='CV AUC')\n",
    "\n",
    "plt.scatter(n_estimators, train_auc, label='Train AUC points')\n",
    "plt.scatter(n_estimators, cv_auc, label='CV AUC points')\n",
    "\n",
    "\n",
    "plt.legend()\n",
    "plt.xlabel(\"n_estimators: hyperparameter\")\n",
    "plt.ylabel(\"Accuracy\")\n",
    "plt.title(\"Hyper parameter Vs Accuracy plot\")\n",
    "plt.grid()\n",
    "plt.show()"
   ]
  },
  {
   "cell_type": "markdown",
   "metadata": {},
   "source": [
    "# Training the XGBoost on best hyperparameter"
   ]
  },
  {
   "cell_type": "code",
   "execution_count": 137,
   "metadata": {
    "execution": {
     "iopub.execute_input": "2022-05-27T10:33:24.535532Z",
     "iopub.status.busy": "2022-05-27T10:33:24.534787Z",
     "iopub.status.idle": "2022-05-27T10:34:46.582142Z",
     "shell.execute_reply": "2022-05-27T10:34:46.581495Z",
     "shell.execute_reply.started": "2022-05-27T10:33:24.535497Z"
    }
   },
   "outputs": [
    {
     "name": "stdout",
     "output_type": "stream",
     "text": [
      "Xgboost accuracy on testdata set : 0.9794400699912511\n",
      "Xgboost precision on testdata set : 0.9622733953944145\n"
     ]
    },
    {
     "name": "stderr",
     "output_type": "stream",
     "text": [
      "/opt/conda/lib/python3.7/site-packages/xgboost/sklearn.py:1146: UserWarning: The use of label encoder in XGBClassifier is deprecated and will be removed in a future release. To remove this warning, do the following: 1) Pass option use_label_encoder=False when constructing XGBClassifier object; and 2) Encode your labels (y) as integers starting with 0, i.e. 0, 1, 2, ..., [num_class - 1].\n",
      "  warnings.warn(label_encoder_deprecation_msg, UserWarning)\n",
      "/opt/conda/lib/python3.7/site-packages/xgboost/sklearn.py:1146: UserWarning: The use of label encoder in XGBClassifier is deprecated and will be removed in a future release. To remove this warning, do the following: 1) Pass option use_label_encoder=False when constructing XGBClassifier object; and 2) Encode your labels (y) as integers starting with 0, i.e. 0, 1, 2, ..., [num_class - 1].\n",
      "  warnings.warn(label_encoder_deprecation_msg, UserWarning)\n"
     ]
    }
   ],
   "source": [
    "GBDT = XGBClassifier(max_depth=8,n_estimators= 30,random_state=12)\n",
    "GBDT.fit(X_train_final_tfidf,y_train)\n",
    "y_pred = GBDT.predict(X_test_final_tfidf)\n",
    "accuracy = accuracy_score(y_test,y_pred)\n",
    "precision = precision_score(y_test,y_pred)\n",
    "print(\"Xgboost accuracy on testdata set :\",accuracy)\n",
    "print(\"Xgboost precision on testdata set :\",precision)"
   ]
  },
  {
   "cell_type": "markdown",
   "metadata": {},
   "source": [
    "# predicting  on test data"
   ]
  },
  {
   "cell_type": "code",
   "execution_count": 138,
   "metadata": {
    "execution": {
     "iopub.execute_input": "2022-05-27T10:35:52.280229Z",
     "iopub.status.busy": "2022-05-27T10:35:52.279908Z",
     "iopub.status.idle": "2022-05-27T10:35:52.702042Z",
     "shell.execute_reply": "2022-05-27T10:35:52.701345Z",
     "shell.execute_reply.started": "2022-05-27T10:35:52.280197Z"
    }
   },
   "outputs": [],
   "source": [
    "y_test_pred_GBDT = GBDT.predict(df_test_final)"
   ]
  },
  {
   "cell_type": "code",
   "execution_count": 139,
   "metadata": {
    "execution": {
     "iopub.execute_input": "2022-05-27T10:35:53.698127Z",
     "iopub.status.busy": "2022-05-27T10:35:53.697409Z",
     "iopub.status.idle": "2022-05-27T10:35:53.703924Z",
     "shell.execute_reply": "2022-05-27T10:35:53.703121Z",
     "shell.execute_reply.started": "2022-05-27T10:35:53.698088Z"
    }
   },
   "outputs": [
    {
     "data": {
      "text/plain": [
       "array([0, 1, 1, ..., 0, 1, 0])"
      ]
     },
     "execution_count": 139,
     "metadata": {},
     "output_type": "execute_result"
    }
   ],
   "source": [
    "y_test_pred_GBDT"
   ]
  },
  {
   "cell_type": "code",
   "execution_count": 140,
   "metadata": {
    "execution": {
     "iopub.execute_input": "2022-05-27T10:35:55.565750Z",
     "iopub.status.busy": "2022-05-27T10:35:55.565309Z",
     "iopub.status.idle": "2022-05-27T10:35:55.588176Z",
     "shell.execute_reply": "2022-05-27T10:35:55.587435Z",
     "shell.execute_reply.started": "2022-05-27T10:35:55.565709Z"
    }
   },
   "outputs": [],
   "source": [
    "my_submission = pd.DataFrame({'id': df_test.id, 'label': y_test_pred_GBDT.tolist()})\n",
    "# you could use any filename. We choose submission here\n",
    "my_submission.to_csv('sumit.csv', index=False)"
   ]
  },
  {
   "cell_type": "markdown",
   "metadata": {},
   "source": [
    "# Below is Kaggle private and public score:-"
   ]
  },
  {
   "attachments": {
    "image.png": {
     "image/png": "[encoded data removed]"
    }
   },
   "cell_type": "markdown",
   "metadata": {},
   "source": [
    "![image.png](attachment:image.png)"
   ]
  },
  {
   "cell_type": "code",
   "execution_count": 141,
   "metadata": {
    "execution": {
     "iopub.execute_input": "2022-05-27T10:35:57.560799Z",
     "iopub.status.busy": "2022-05-27T10:35:57.560297Z",
     "iopub.status.idle": "2022-05-27T10:35:57.575434Z",
     "shell.execute_reply": "2022-05-27T10:35:57.574667Z",
     "shell.execute_reply.started": "2022-05-27T10:35:57.560753Z"
    }
   },
   "outputs": [],
   "source": [
    "pickle.dump(GBDT,open(\"./XGboost_GBDT.pkl\",'wb'))"
   ]
  },
  {
   "cell_type": "markdown",
   "metadata": {},
   "source": [
    "> # Decision tree Classifier Hyperparameter tunning"
   ]
  },
  {
   "cell_type": "code",
   "execution_count": 142,
   "metadata": {
    "execution": {
     "iopub.execute_input": "2022-05-27T10:35:59.639733Z",
     "iopub.status.busy": "2022-05-27T10:35:59.639285Z",
     "iopub.status.idle": "2022-05-27T10:38:53.778983Z",
     "shell.execute_reply": "2022-05-27T10:38:53.777991Z",
     "shell.execute_reply.started": "2022-05-27T10:35:59.639680Z"
    }
   },
   "outputs": [
    {
     "name": "stdout",
     "output_type": "stream",
     "text": [
      "Train Accuracy : 0.989\n",
      "Test Accuracy : 0.953\n",
      "Best Accuracy Through Grid Search : 0.951\n",
      "Best Parameters :  {'max_depth': 18}\n"
     ]
    }
   ],
   "source": [
    "from sklearn.model_selection import GridSearchCV\n",
    "parameters = {'max_depth':[2,5,8,10,15,18,20,25,30,None]}\n",
    "DT_grid = GridSearchCV(DecisionTreeClassifier(random_state=12), param_grid=parameters, n_jobs=-1, cv=3,scoring='accuracy',return_train_score=True)\n",
    "DT_grid.fit(X_train_final_tfidf,y_train)\n",
    "\n",
    "print('Train Accuracy : %.3f'%DT_grid.best_estimator_.score(X_train_final_tfidf, y_train))\n",
    "print('Test Accuracy : %.3f'%DT_grid.best_estimator_.score(X_test_final_tfidf, y_test))\n",
    "print('Best Accuracy Through Grid Search : %.3f'%DT_grid.best_score_)\n",
    "print('Best Parameters : ',DT_grid.best_params_)"
   ]
  },
  {
   "cell_type": "code",
   "execution_count": 143,
   "metadata": {
    "execution": {
     "iopub.execute_input": "2022-05-27T10:39:31.685019Z",
     "iopub.status.busy": "2022-05-27T10:39:31.684298Z",
     "iopub.status.idle": "2022-05-27T10:39:31.989914Z",
     "shell.execute_reply": "2022-05-27T10:39:31.989124Z",
     "shell.execute_reply.started": "2022-05-27T10:39:31.684968Z"
    }
   },
   "outputs": [
    {
     "data": {
      "image/png": "[encoded data removed]",
      "text/plain": [
       "<Figure size 432x288 with 1 Axes>"
      ]
     },
     "metadata": {
      "needs_background": "light"
     },
     "output_type": "display_data"
    }
   ],
   "source": [
    "results = pd.DataFrame.from_dict(DT_grid.cv_results_)\n",
    "results = results.sort_values(['param_max_depth'])\n",
    "\n",
    "train_auc= results['mean_train_score']\n",
    "train_auc_std= results['std_train_score']\n",
    "cv_auc = results['mean_test_score'] \n",
    "cv_auc_std= results['std_test_score']\n",
    "max_depth =  results['param_max_depth']\n",
    "\n",
    "plt.plot(max_depth, train_auc, label='Train AUC')\n",
    "\n",
    "plt.plot(max_depth, cv_auc, label='CV AUC')\n",
    "\n",
    "plt.scatter(max_depth, train_auc, label='Train AUC points')\n",
    "plt.scatter(max_depth, cv_auc, label='CV AUC points')\n",
    "\n",
    "\n",
    "plt.legend()\n",
    "plt.xlabel(\"max_depth: hyperparameter\")\n",
    "plt.ylabel(\"Accuracy\")\n",
    "plt.title(\"Hyper parameter Vs Accuracy plot\")\n",
    "plt.grid()\n",
    "plt.show()"
   ]
  },
  {
   "cell_type": "markdown",
   "metadata": {},
   "source": [
    "# Training the Decision tree on best hyperparameter"
   ]
  },
  {
   "cell_type": "code",
   "execution_count": 144,
   "metadata": {
    "execution": {
     "iopub.execute_input": "2022-05-27T10:39:35.482651Z",
     "iopub.status.busy": "2022-05-27T10:39:35.482140Z",
     "iopub.status.idle": "2022-05-27T10:39:54.703822Z",
     "shell.execute_reply": "2022-05-27T10:39:54.702790Z",
     "shell.execute_reply.started": "2022-05-27T10:39:35.482621Z"
    }
   },
   "outputs": [
    {
     "name": "stdout",
     "output_type": "stream",
     "text": [
      "Decision Tree accuracy on testdata set : 0.9525371828521435\n",
      "Decision Tree precision on testdata set : 0.9357707509881423\n"
     ]
    }
   ],
   "source": [
    "DT = DecisionTreeClassifier(max_depth=18,random_state=12)\n",
    "DT.fit(X_train_final_tfidf,y_train)\n",
    "y_pred = DT.predict(X_test_final_tfidf)\n",
    "accuracy = accuracy_score(y_test,y_pred)\n",
    "precision = precision_score(y_test,y_pred)\n",
    "print(\"Decision Tree accuracy on testdata set :\",accuracy)\n",
    "print(\"Decision Tree precision on testdata set :\",precision)"
   ]
  },
  {
   "cell_type": "code",
   "execution_count": 145,
   "metadata": {
    "execution": {
     "iopub.execute_input": "2022-05-27T10:39:59.691422Z",
     "iopub.status.busy": "2022-05-27T10:39:59.690490Z",
     "iopub.status.idle": "2022-05-27T10:39:59.819902Z",
     "shell.execute_reply": "2022-05-27T10:39:59.818994Z",
     "shell.execute_reply.started": "2022-05-27T10:39:59.691384Z"
    }
   },
   "outputs": [],
   "source": [
    "y_test_pred_DT = DT.predict(df_test_final)"
   ]
  },
  {
   "cell_type": "code",
   "execution_count": 146,
   "metadata": {
    "execution": {
     "iopub.execute_input": "2022-05-27T10:40:00.858845Z",
     "iopub.status.busy": "2022-05-27T10:40:00.857782Z",
     "iopub.status.idle": "2022-05-27T10:40:00.883551Z",
     "shell.execute_reply": "2022-05-27T10:40:00.882959Z",
     "shell.execute_reply.started": "2022-05-27T10:40:00.858785Z"
    }
   },
   "outputs": [],
   "source": [
    "my_submission = pd.DataFrame({'id': df_test.id, 'label': y_test_pred_DT.tolist()})\n",
    "# you could use any filename. We choose submission here\n",
    "my_submission.to_csv('sumit.csv', index=False)"
   ]
  },
  {
   "cell_type": "markdown",
   "metadata": {},
   "source": [
    "# Below is Kaggle private and public score:-"
   ]
  },
  {
   "attachments": {
    "image.png": {
     "image/png": "[encoded data removed]"
    }
   },
   "cell_type": "markdown",
   "metadata": {},
   "source": [
    "![image.png](attachment:image.png)"
   ]
  },
  {
   "cell_type": "markdown",
   "metadata": {},
   "source": [
    "# Lightbm Classifier hyperparameter tunning"
   ]
  },
  {
   "cell_type": "code",
   "execution_count": 156,
   "metadata": {
    "execution": {
     "iopub.execute_input": "2022-05-27T11:14:19.335030Z",
     "iopub.status.busy": "2022-05-27T11:14:19.334149Z",
     "iopub.status.idle": "2022-05-27T11:20:10.201278Z",
     "shell.execute_reply": "2022-05-27T11:20:10.200529Z",
     "shell.execute_reply.started": "2022-05-27T11:14:19.334985Z"
    }
   },
   "outputs": [
    {
     "name": "stdout",
     "output_type": "stream",
     "text": [
      "Train Accuracy : 1.000\n",
      "Test Accuracy : 0.986\n",
      "Best Accuracy Through Grid Search : 0.981\n",
      "Best Parameters :  {'max_depth': 20}\n"
     ]
    }
   ],
   "source": [
    "from lightgbm import LGBMClassifier\n",
    "from sklearn.model_selection import GridSearchCV\n",
    "parameters = {'max_depth':[2,5,8,10,15,18,20,25,30,None]}\n",
    "lgbm_grid = GridSearchCV(LGBMClassifier(random_state=12), param_grid=parameters, n_jobs=-1, cv=3,scoring='accuracy',return_train_score=True)\n",
    "lgbm_grid.fit(X_train_final_tfidf,y_train)\n",
    "\n",
    "print('Train Accuracy : %.3f'%lgbm_grid.best_estimator_.score(X_train_final_tfidf, y_train))\n",
    "print('Test Accuracy : %.3f'%lgbm_grid.best_estimator_.score(X_test_final_tfidf, y_test))\n",
    "print('Best Accuracy Through Grid Search : %.3f'%lgbm_grid.best_score_)\n",
    "print('Best Parameters : ',lgbm_grid.best_params_)"
   ]
  },
  {
   "cell_type": "code",
   "execution_count": 157,
   "metadata": {
    "execution": {
     "iopub.execute_input": "2022-05-27T11:20:18.615492Z",
     "iopub.status.busy": "2022-05-27T11:20:18.614726Z",
     "iopub.status.idle": "2022-05-27T11:20:18.920553Z",
     "shell.execute_reply": "2022-05-27T11:20:18.919791Z",
     "shell.execute_reply.started": "2022-05-27T11:20:18.615450Z"
    }
   },
   "outputs": [
    {
     "data": {
      "image/png": "[encoded data removed]",
      "text/plain": [
       "<Figure size 432x288 with 1 Axes>"
      ]
     },
     "metadata": {
      "needs_background": "light"
     },
     "output_type": "display_data"
    }
   ],
   "source": [
    "results = pd.DataFrame.from_dict(lgbm_grid.cv_results_)\n",
    "results = results.sort_values(['param_max_depth'])\n",
    "\n",
    "train_auc= results['mean_train_score']\n",
    "train_auc_std= results['std_train_score']\n",
    "cv_auc = results['mean_test_score'] \n",
    "cv_auc_std= results['std_test_score']\n",
    "max_depth =  results['param_max_depth']\n",
    "\n",
    "plt.plot(max_depth, train_auc, label='Train AUC')\n",
    "\n",
    "plt.plot(max_depth, cv_auc, label='CV AUC')\n",
    "\n",
    "plt.scatter(max_depth, train_auc, label='Train AUC points')\n",
    "plt.scatter(max_depth, cv_auc, label='CV AUC points')\n",
    "\n",
    "\n",
    "plt.legend()\n",
    "plt.xlabel(\"max_depth: hyperparameter\")\n",
    "plt.ylabel(\"Accuracy\")\n",
    "plt.title(\"Hyper parameter Vs Accuracy plot\")\n",
    "plt.grid()\n",
    "plt.show()"
   ]
  },
  {
   "cell_type": "markdown",
   "metadata": {},
   "source": [
    "# Training the XGBoost on best hyperparameter"
   ]
  },
  {
   "cell_type": "code",
   "execution_count": 158,
   "metadata": {
    "execution": {
     "iopub.execute_input": "2022-05-27T11:20:27.552678Z",
     "iopub.status.busy": "2022-05-27T11:20:27.552349Z",
     "iopub.status.idle": "2022-05-27T11:20:55.696214Z",
     "shell.execute_reply": "2022-05-27T11:20:55.695595Z",
     "shell.execute_reply.started": "2022-05-27T11:20:27.552643Z"
    }
   },
   "outputs": [
    {
     "name": "stdout",
     "output_type": "stream",
     "text": [
      "lightGBM accuracy on testdata set : 0.9855643044619422\n",
      "lightGBM precision on testdata set : 0.9719073435189749\n"
     ]
    }
   ],
   "source": [
    "from lightgbm import LGBMClassifier\n",
    "clf_lgbm = LGBMClassifier(random_state=12,max_depth=20)\n",
    "clf_lgbm.fit(X_train_final_tfidf, y_train)\n",
    "y_pred = clf_lgbm.predict(X_test_final_tfidf)\n",
    "accuracy = accuracy_score(y_test,y_pred)\n",
    "precision = precision_score(y_test,y_pred)\n",
    "print(\"lightGBM accuracy on testdata set :\",accuracy)\n",
    "print(\"lightGBM precision on testdata set :\",precision)"
   ]
  },
  {
   "cell_type": "code",
   "execution_count": 159,
   "metadata": {
    "execution": {
     "iopub.execute_input": "2022-05-27T11:21:10.855750Z",
     "iopub.status.busy": "2022-05-27T11:21:10.855467Z",
     "iopub.status.idle": "2022-05-27T11:21:10.992961Z",
     "shell.execute_reply": "2022-05-27T11:21:10.992164Z",
     "shell.execute_reply.started": "2022-05-27T11:21:10.855723Z"
    }
   },
   "outputs": [],
   "source": [
    "y_test_pred_clf_lgbm = clf_lgbm.predict(df_test_final)"
   ]
  },
  {
   "cell_type": "code",
   "execution_count": 160,
   "metadata": {
    "execution": {
     "iopub.execute_input": "2022-05-27T11:21:12.387897Z",
     "iopub.status.busy": "2022-05-27T11:21:12.387299Z",
     "iopub.status.idle": "2022-05-27T11:21:12.395774Z",
     "shell.execute_reply": "2022-05-27T11:21:12.394921Z",
     "shell.execute_reply.started": "2022-05-27T11:21:12.387856Z"
    }
   },
   "outputs": [
    {
     "data": {
      "text/plain": [
       "array([0, 1, 1, ..., 0, 1, 0])"
      ]
     },
     "execution_count": 160,
     "metadata": {},
     "output_type": "execute_result"
    }
   ],
   "source": [
    "y_test_pred_clf_lgbm"
   ]
  },
  {
   "cell_type": "code",
   "execution_count": 161,
   "metadata": {
    "execution": {
     "iopub.execute_input": "2022-05-27T11:21:14.383183Z",
     "iopub.status.busy": "2022-05-27T11:21:14.382320Z",
     "iopub.status.idle": "2022-05-27T11:21:14.404973Z",
     "shell.execute_reply": "2022-05-27T11:21:14.404398Z",
     "shell.execute_reply.started": "2022-05-27T11:21:14.383129Z"
    }
   },
   "outputs": [],
   "source": [
    "my_submission = pd.DataFrame({'id': df_test.id, 'label': y_test_pred_clf_lgbm.tolist()})\n",
    "# you could use any filename. We choose submission here\n",
    "my_submission.to_csv('sumit.csv', index=False)"
   ]
  },
  {
   "cell_type": "code",
   "execution_count": 162,
   "metadata": {
    "execution": {
     "iopub.execute_input": "2022-05-27T11:21:16.609820Z",
     "iopub.status.busy": "2022-05-27T11:21:16.609232Z",
     "iopub.status.idle": "2022-05-27T11:21:16.630648Z",
     "shell.execute_reply": "2022-05-27T11:21:16.628262Z",
     "shell.execute_reply.started": "2022-05-27T11:21:16.609758Z"
    }
   },
   "outputs": [],
   "source": [
    "pickle.dump(clf_lgbm,open(\"./clf_lgbm.pkl\",'wb'))"
   ]
  },
  {
   "cell_type": "markdown",
   "metadata": {},
   "source": [
    "# Below is Kaggle private and public score:-"
   ]
  },
  {
   "attachments": {
    "image.png": {
     "image/png": "[encoded data removed]"
    }
   },
   "cell_type": "markdown",
   "metadata": {},
   "source": [
    "![image.png](attachment:image.png)"
   ]
  },
  {
   "cell_type": "markdown",
   "metadata": {},
   "source": [
    "> # Voting classifier hyperparameter tunning\n",
    "     using below model as esitmator \n",
    "1. XGboost\n",
    "2. Logistic regression\n",
    "3. LightGBM classifier"
   ]
  },
  {
   "cell_type": "code",
   "execution_count": 163,
   "metadata": {
    "execution": {
     "iopub.execute_input": "2022-05-27T11:21:18.670056Z",
     "iopub.status.busy": "2022-05-27T11:21:18.669353Z",
     "iopub.status.idle": "2022-05-27T11:21:18.677504Z",
     "shell.execute_reply": "2022-05-27T11:21:18.676445Z",
     "shell.execute_reply.started": "2022-05-27T11:21:18.670021Z"
    }
   },
   "outputs": [],
   "source": [
    "from sklearn.ensemble import VotingClassifier\n",
    "xgb = XGBClassifier(max_depth=8,n_estimators= 30,eval_metric='logloss',random_state=12)\n",
    "lr = LogisticRegression(penalty='l1',C=20,random_state=10,solver='liblinear')\n",
    "lgbm = LGBMClassifier(random_state=12,max_depth=20)\n",
    "voting = VotingClassifier(estimators=[('xgb', xgb), ('lr', lr), ('lgbm', lgbm)],voting='soft')"
   ]
  },
  {
   "cell_type": "code",
   "execution_count": 164,
   "metadata": {
    "execution": {
     "iopub.execute_input": "2022-05-27T11:22:03.786553Z",
     "iopub.status.busy": "2022-05-27T11:22:03.786091Z",
     "iopub.status.idle": "2022-05-27T11:23:59.843134Z",
     "shell.execute_reply": "2022-05-27T11:23:59.842279Z",
     "shell.execute_reply.started": "2022-05-27T11:22:03.786521Z"
    }
   },
   "outputs": [
    {
     "data": {
      "text/plain": [
       "VotingClassifier(estimators=[('xgb',\n",
       "                              XGBClassifier(base_score=None, booster=None,\n",
       "                                            colsample_bylevel=None,\n",
       "                                            colsample_bynode=None,\n",
       "                                            colsample_bytree=None,\n",
       "                                            eval_metric='logloss', gamma=None,\n",
       "                                            gpu_id=None, importance_type='gain',\n",
       "                                            interaction_constraints=None,\n",
       "                                            learning_rate=None,\n",
       "                                            max_delta_step=None, max_depth=8,\n",
       "                                            min_child_weight=None, missing=nan,\n",
       "                                            monotone_constraints=None,\n",
       "                                            n_estimators=30, n_jobs=None,\n",
       "                                            num_parallel_tree=None,\n",
       "                                            random_state=12, reg_alpha=None,\n",
       "                                            reg_lambda=None,\n",
       "                                            scale_pos_weight=None,\n",
       "                                            subsample=None, tree_method=None,\n",
       "                                            validate_parameters=None,\n",
       "                                            verbosity=None)),\n",
       "                             ('lr',\n",
       "                              LogisticRegression(C=20, penalty='l1',\n",
       "                                                 random_state=10,\n",
       "                                                 solver='liblinear')),\n",
       "                             ('lgbm',\n",
       "                              LGBMClassifier(max_depth=20, random_state=12))],\n",
       "                 voting='soft')"
      ]
     },
     "execution_count": 164,
     "metadata": {},
     "output_type": "execute_result"
    }
   ],
   "source": [
    "voting.fit(X_train_final_tfidf,y_train)"
   ]
  },
  {
   "cell_type": "code",
   "execution_count": 166,
   "metadata": {
    "execution": {
     "iopub.execute_input": "2022-05-27T11:24:25.552901Z",
     "iopub.status.busy": "2022-05-27T11:24:25.552104Z",
     "iopub.status.idle": "2022-05-27T11:24:25.980368Z",
     "shell.execute_reply": "2022-05-27T11:24:25.979695Z",
     "shell.execute_reply.started": "2022-05-27T11:24:25.552856Z"
    }
   },
   "outputs": [
    {
     "name": "stdout",
     "output_type": "stream",
     "text": [
      "Voting classifier accuracy on testdata set : 0.9860017497812773\n",
      "Voting classifier  precision on testdata set : 0.9738012852199703\n"
     ]
    }
   ],
   "source": [
    "y_pred = voting.predict(X_test_final_tfidf)\n",
    "accuracy = accuracy_score(y_test,y_pred)\n",
    "precision = precision_score(y_test,y_pred)\n",
    "print(\"Voting classifier accuracy on testdata set :\",accuracy)\n",
    "print(\"Voting classifier  precision on testdata set :\",precision)"
   ]
  },
  {
   "cell_type": "code",
   "execution_count": 167,
   "metadata": {
    "execution": {
     "iopub.execute_input": "2022-05-27T11:24:46.234573Z",
     "iopub.status.busy": "2022-05-27T11:24:46.234293Z",
     "iopub.status.idle": "2022-05-27T11:24:46.593284Z",
     "shell.execute_reply": "2022-05-27T11:24:46.592613Z",
     "shell.execute_reply.started": "2022-05-27T11:24:46.234546Z"
    }
   },
   "outputs": [],
   "source": [
    "y_test_pred_voting = voting.predict(df_test_final)"
   ]
  },
  {
   "cell_type": "code",
   "execution_count": 168,
   "metadata": {
    "execution": {
     "iopub.execute_input": "2022-05-27T11:24:47.356835Z",
     "iopub.status.busy": "2022-05-27T11:24:47.356551Z",
     "iopub.status.idle": "2022-05-27T11:24:47.362981Z",
     "shell.execute_reply": "2022-05-27T11:24:47.362370Z",
     "shell.execute_reply.started": "2022-05-27T11:24:47.356809Z"
    }
   },
   "outputs": [
    {
     "data": {
      "text/plain": [
       "array([0, 1, 1, ..., 0, 1, 0])"
      ]
     },
     "execution_count": 168,
     "metadata": {},
     "output_type": "execute_result"
    }
   ],
   "source": [
    "y_test_pred_voting"
   ]
  },
  {
   "cell_type": "code",
   "execution_count": 169,
   "metadata": {
    "execution": {
     "iopub.execute_input": "2022-05-27T11:24:49.144889Z",
     "iopub.status.busy": "2022-05-27T11:24:49.144563Z",
     "iopub.status.idle": "2022-05-27T11:24:49.165346Z",
     "shell.execute_reply": "2022-05-27T11:24:49.164691Z",
     "shell.execute_reply.started": "2022-05-27T11:24:49.144858Z"
    }
   },
   "outputs": [],
   "source": [
    "my_submission = pd.DataFrame({'id': df_test.id, 'label': y_test_pred_voting.tolist()})\n",
    "# you could use any filename. We choose submission here\n",
    "my_submission.to_csv('sumit.csv', index=False)"
   ]
  },
  {
   "cell_type": "markdown",
   "metadata": {},
   "source": [
    "# Below is Kaggle private and public score:-"
   ]
  },
  {
   "attachments": {
    "image.png": {
     "image/png": "[encoded data removed]"
    }
   },
   "cell_type": "markdown",
   "metadata": {},
   "source": [
    "![image.png](attachment:image.png)"
   ]
  },
  {
   "cell_type": "code",
   "execution_count": 170,
   "metadata": {
    "execution": {
     "iopub.execute_input": "2022-05-27T11:24:51.715073Z",
     "iopub.status.busy": "2022-05-27T11:24:51.714304Z",
     "iopub.status.idle": "2022-05-27T11:24:51.744239Z",
     "shell.execute_reply": "2022-05-27T11:24:51.743590Z",
     "shell.execute_reply.started": "2022-05-27T11:24:51.715032Z"
    }
   },
   "outputs": [],
   "source": [
    "pickle.dump(voting,open(\"./voting.pkl\",'wb'))"
   ]
  },
  {
   "cell_type": "code",
   "execution_count": 171,
   "metadata": {
    "execution": {
     "iopub.execute_input": "2022-05-27T11:24:52.860175Z",
     "iopub.status.busy": "2022-05-27T11:24:52.859568Z",
     "iopub.status.idle": "2022-05-27T11:24:52.874273Z",
     "shell.execute_reply": "2022-05-27T11:24:52.873440Z",
     "shell.execute_reply.started": "2022-05-27T11:24:52.860135Z"
    }
   },
   "outputs": [
    {
     "name": "stdout",
     "output_type": "stream",
     "text": [
      "+------------------+---------------------+-----------------------+------------------------+\n",
      "|    Vectorizer    |        Model        | Accuracy on test Data | Precision on Test Data |\n",
      "+------------------+---------------------+-----------------------+------------------------+\n",
      "| tfidf Vectorizer |     Gaussian NB     |          90.0         |          92.1          |\n",
      "|     -------      |       -------       |        -------        |        -------         |\n",
      "| tfidf Vectorizer |    Decision Tree    |          95.2         |          93.5          |\n",
      "|     -------      |       -------       |        -------        |        -------         |\n",
      "| tfidf Vectorizer | Logistic Regression |          98.2         |          97.6          |\n",
      "|     -------      |       -------       |        -------        |        -------         |\n",
      "| tfidf Vectorizer |       XGboost       |          97.9         |          96.2          |\n",
      "|     -------      |       -------       |        -------        |        -------         |\n",
      "| tfidf Vectorizer |      light GBM      |          98.5         |          97.1          |\n",
      "|     -------      |       -------       |        -------        |        -------         |\n",
      "| tfidf Vectorizer |  Voting classifier  |          98.6         |          97.3          |\n",
      "+------------------+---------------------+-----------------------+------------------------+\n"
     ]
    }
   ],
   "source": [
    "from prettytable import PrettyTable\n",
    "  \n",
    "# Specify the Column Names while initializing the Table\n",
    "myTable = PrettyTable([ \"Vectorizer\",\"Model\", \"Accuracy on test Data\",\"Precision on Test Data\"])\n",
    "  \n",
    "# Add rows\n",
    "myTable.add_row([\"tfidf Vectorizer\",\"Gaussian NB\", \"90.0\", \"92.1\"])\n",
    "myTable.add_row([\"-------\", \"-------\", \"-------\",\"-------\"])\n",
    "myTable.add_row([\"tfidf Vectorizer\",\"Decision Tree\", \"95.2\", \"93.5\"])\n",
    "myTable.add_row([\"-------\", \"-------\", \"-------\",\"-------\"])\n",
    "myTable.add_row([\"tfidf Vectorizer\",\"Logistic Regression\", \"98.2\", \"97.6\"])\n",
    "myTable.add_row([\"-------\", \"-------\", \"-------\",\"-------\"])\n",
    "myTable.add_row([\"tfidf Vectorizer\",\"XGboost\", \"97.9\", \"96.2\"])\n",
    "myTable.add_row([\"-------\", \"-------\", \"-------\",\"-------\"])\n",
    "myTable.add_row([\"tfidf Vectorizer\",\"light GBM\", \"98.5\", \"97.1\"])\n",
    "myTable.add_row([\"-------\", \"-------\", \"-------\",\"-------\"])\n",
    "myTable.add_row([\"tfidf Vectorizer\",\"Voting classifier\", \"98.6\", \"97.3\"])\n",
    "               \n",
    "print(myTable)"
   ]
  },
  {
   "cell_type": "markdown",
   "metadata": {},
   "source": [
    "# observations:-\n",
    "1. Clearly we can see voting classifier is performed slightly better than lightgbm, xgboost and Logistic regression."
   ]
  },
  {
   "cell_type": "markdown",
   "metadata": {},
   "source": [
    "# My Final Kaggle score with my two best models:-\n"
   ]
  },
  {
   "attachments": {
    "image.png": {
     "image/png": "[encoded data removed]"
    }
   },
   "cell_type": "markdown",
   "metadata": {},
   "source": [
    "![image.png](attachment:image.png)"
   ]
  },
  {
   "cell_type": "markdown",
   "metadata": {},
   "source": [
    "# In both private and public leaderboard i got rank 3 "
   ]
  },
  {
   "cell_type": "code",
   "execution_count": null,
   "metadata": {},
   "outputs": [],
   "source": []
  }
 ],
 "metadata": {
  "kernelspec": {
   "display_name": "Python 3",
   "language": "python",
   "name": "python3"
  },
  "language_info": {
   "codemirror_mode": {
    "name": "ipython",
    "version": 3
   },
   "file_extension": ".py",
   "mimetype": "text/x-python",
   "name": "python",
   "nbconvert_exporter": "python",
   "pygments_lexer": "ipython3",
   "version": "3.8.8"
  }
 },
 "nbformat": 4,
 "nbformat_minor": 4
}
