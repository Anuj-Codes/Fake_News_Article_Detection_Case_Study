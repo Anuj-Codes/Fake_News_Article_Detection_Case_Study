{
 "cells": [
  {
   "cell_type": "code",
   "execution_count": 77,
   "metadata": {
    "_cell_guid": "b1076dfc-b9ad-4769-8c92-a6c4dae69d19",
    "_uuid": "8f2839f25d086af736a60e9eeb907d3b93b6e0e5",
    "execution": {
     "iopub.execute_input": "2022-05-26T13:41:16.208993Z",
     "iopub.status.busy": "2022-05-26T13:41:16.208589Z",
     "iopub.status.idle": "2022-05-26T13:41:16.217646Z",
     "shell.execute_reply": "2022-05-26T13:41:16.216693Z",
     "shell.execute_reply.started": "2022-05-26T13:41:16.208963Z"
    }
   },
   "outputs": [
    {
     "name": "stdout",
     "output_type": "stream",
     "text": [
      "[nltk_data] Downloading package punkt to /usr/share/nltk_data...\n",
      "[nltk_data]   Package punkt is already up-to-date!\n",
      "[nltk_data] Downloading package stopwords to /usr/share/nltk_data...\n",
      "[nltk_data]   Package stopwords is already up-to-date!\n"
     ]
    }
   ],
   "source": [
    "import warnings\n",
    "warnings.filterwarnings(\"ignore\")\n",
    "import numpy as np\n",
    "import re\n",
    "import os\n",
    "import pandas as pd\n",
    "from tqdm import tqdm\n",
    "import string\n",
    "from nltk import word_tokenize\n",
    "from nltk.corpus import stopwords\n",
    "import nltk\n",
    "nltk.download('punkt')\n",
    "nltk.download('stopwords')\n",
    "import seaborn as sns\n",
    "from string import punctuation\n",
    "import matplotlib.pyplot as plt\n",
    "import time\n",
    "from sklearn.naive_bayes import GaussianNB\n",
    "from sklearn.metrics import accuracy_score,confusion_matrix,precision_score\n",
    "from sklearn.feature_extraction.text import TfidfVectorizer"
   ]
  },
  {
   "cell_type": "markdown",
   "metadata": {},
   "source": [
    "> # Loading the preprocessed train and test data"
   ]
  },
  {
   "cell_type": "code",
   "execution_count": 78,
   "metadata": {
    "execution": {
     "iopub.execute_input": "2022-05-26T13:41:16.251042Z",
     "iopub.status.busy": "2022-05-26T13:41:16.250317Z",
     "iopub.status.idle": "2022-05-26T13:41:16.618467Z",
     "shell.execute_reply": "2022-05-26T13:41:16.617222Z",
     "shell.execute_reply.started": "2022-05-26T13:41:16.251001Z"
    }
   },
   "outputs": [],
   "source": [
    "import pickle\n",
    "df_train=pickle.load(open('../input/fake-news-case-study-preprocessed-daa/df_train.pkl','rb'))"
   ]
  },
  {
   "cell_type": "markdown",
   "metadata": {},
   "source": [
    "> # Shape of train and test dataset"
   ]
  },
  {
   "cell_type": "code",
   "execution_count": 79,
   "metadata": {
    "execution": {
     "iopub.execute_input": "2022-05-26T13:41:16.620691Z",
     "iopub.status.busy": "2022-05-26T13:41:16.620334Z",
     "iopub.status.idle": "2022-05-26T13:41:16.629073Z",
     "shell.execute_reply": "2022-05-26T13:41:16.627857Z",
     "shell.execute_reply.started": "2022-05-26T13:41:16.620652Z"
    }
   },
   "outputs": [
    {
     "data": {
      "text/plain": [
       "(18285, 27)"
      ]
     },
     "execution_count": 79,
     "metadata": {},
     "output_type": "execute_result"
    }
   ],
   "source": [
    "df_train.shape"
   ]
  },
  {
   "cell_type": "code",
   "execution_count": 80,
   "metadata": {
    "execution": {
     "iopub.execute_input": "2022-05-26T13:41:16.631275Z",
     "iopub.status.busy": "2022-05-26T13:41:16.630616Z",
     "iopub.status.idle": "2022-05-26T13:41:16.668716Z",
     "shell.execute_reply": "2022-05-26T13:41:16.667876Z",
     "shell.execute_reply.started": "2022-05-26T13:41:16.631239Z"
    }
   },
   "outputs": [
    {
     "data": {
      "text/html": [
       "<div>\n",
       "<style scoped>\n",
       "    .dataframe tbody tr th:only-of-type {\n",
       "        vertical-align: middle;\n",
       "    }\n",
       "\n",
       "    .dataframe tbody tr th {\n",
       "        vertical-align: top;\n",
       "    }\n",
       "\n",
       "    .dataframe thead th {\n",
       "        text-align: right;\n",
       "    }\n",
       "</style>\n",
       "<table border=\"1\" class=\"dataframe\">\n",
       "  <thead>\n",
       "    <tr style=\"text-align: right;\">\n",
       "      <th></th>\n",
       "      <th>id</th>\n",
       "      <th>title</th>\n",
       "      <th>author</th>\n",
       "      <th>text</th>\n",
       "      <th>label</th>\n",
       "      <th>num_characters_title</th>\n",
       "      <th>num_characters_text</th>\n",
       "      <th>num_word_title</th>\n",
       "      <th>num_word_text</th>\n",
       "      <th>num_sentences_title</th>\n",
       "      <th>...</th>\n",
       "      <th>Avg_sentence_length_title</th>\n",
       "      <th>Avg_sentence_length_text</th>\n",
       "      <th>Stopword_count_ratio_title</th>\n",
       "      <th>Stopword_count_ratio_text</th>\n",
       "      <th>Unique_words_count_ratio_title</th>\n",
       "      <th>Unique_words_count_ratio_text</th>\n",
       "      <th>cleaned_text</th>\n",
       "      <th>cleaned_title</th>\n",
       "      <th>Without_Stopwords_text</th>\n",
       "      <th>Without_Stopwords_title</th>\n",
       "    </tr>\n",
       "  </thead>\n",
       "  <tbody>\n",
       "    <tr>\n",
       "      <th>0</th>\n",
       "      <td>0</td>\n",
       "      <td>House Dem Aide: We Didn’t Even See Comey’s Let...</td>\n",
       "      <td>Darrell Lucus</td>\n",
       "      <td>House Dem Aide: We Didn’t Even See Comey’s Let...</td>\n",
       "      <td>1</td>\n",
       "      <td>81</td>\n",
       "      <td>4930</td>\n",
       "      <td>19</td>\n",
       "      <td>943</td>\n",
       "      <td>1</td>\n",
       "      <td>...</td>\n",
       "      <td>19.0</td>\n",
       "      <td>25.486486</td>\n",
       "      <td>0.105263</td>\n",
       "      <td>0.386002</td>\n",
       "      <td>0.947368</td>\n",
       "      <td>0.441145</td>\n",
       "      <td>house dem aide we did not even see comey s let...</td>\n",
       "      <td>house dem aide we did not even see comey s let...</td>\n",
       "      <td>house dem aide even see comey letter jason cha...</td>\n",
       "      <td>house dem aide even see comey letter jason cha...</td>\n",
       "    </tr>\n",
       "    <tr>\n",
       "      <th>1</th>\n",
       "      <td>1</td>\n",
       "      <td>FLYNN: Hillary Clinton, Big Woman on Campus - ...</td>\n",
       "      <td>Daniel J. Flynn</td>\n",
       "      <td>Ever get the feeling your life circles the rou...</td>\n",
       "      <td>0</td>\n",
       "      <td>55</td>\n",
       "      <td>4160</td>\n",
       "      <td>11</td>\n",
       "      <td>822</td>\n",
       "      <td>1</td>\n",
       "      <td>...</td>\n",
       "      <td>11.0</td>\n",
       "      <td>28.344828</td>\n",
       "      <td>0.090909</td>\n",
       "      <td>0.371046</td>\n",
       "      <td>1.000000</td>\n",
       "      <td>0.486618</td>\n",
       "      <td>ever get the feeling your life circles the rou...</td>\n",
       "      <td>flynn hillary clinton big woman on campus brei...</td>\n",
       "      <td>ever get feeling life circles roundabout rathe...</td>\n",
       "      <td>flynn hillary clinton big woman campus breitbart</td>\n",
       "    </tr>\n",
       "    <tr>\n",
       "      <th>2</th>\n",
       "      <td>2</td>\n",
       "      <td>Why the Truth Might Get You Fired</td>\n",
       "      <td>Consortiumnews.com</td>\n",
       "      <td>Why the Truth Might Get You Fired October 29, ...</td>\n",
       "      <td>1</td>\n",
       "      <td>33</td>\n",
       "      <td>7692</td>\n",
       "      <td>7</td>\n",
       "      <td>1454</td>\n",
       "      <td>1</td>\n",
       "      <td>...</td>\n",
       "      <td>7.0</td>\n",
       "      <td>28.509804</td>\n",
       "      <td>0.142857</td>\n",
       "      <td>0.359697</td>\n",
       "      <td>1.000000</td>\n",
       "      <td>0.416781</td>\n",
       "      <td>why the truth might get you fired october the ...</td>\n",
       "      <td>why the truth might get you fired</td>\n",
       "      <td>truth might get fired october tension intellig...</td>\n",
       "      <td>truth might get fired</td>\n",
       "    </tr>\n",
       "    <tr>\n",
       "      <th>3</th>\n",
       "      <td>3</td>\n",
       "      <td>15 Civilians Killed In Single US Airstrike Hav...</td>\n",
       "      <td>Jessica Purkiss</td>\n",
       "      <td>Videos 15 Civilians Killed In Single US Airstr...</td>\n",
       "      <td>1</td>\n",
       "      <td>63</td>\n",
       "      <td>3237</td>\n",
       "      <td>10</td>\n",
       "      <td>612</td>\n",
       "      <td>1</td>\n",
       "      <td>...</td>\n",
       "      <td>10.0</td>\n",
       "      <td>22.666667</td>\n",
       "      <td>0.000000</td>\n",
       "      <td>0.352941</td>\n",
       "      <td>1.000000</td>\n",
       "      <td>0.436275</td>\n",
       "      <td>videos civilians killed in single us airstrike...</td>\n",
       "      <td>civilians killed in single us airstrike have b...</td>\n",
       "      <td>videos civilians killed single us airstrike id...</td>\n",
       "      <td>civilians killed single us airstrike identified</td>\n",
       "    </tr>\n",
       "    <tr>\n",
       "      <th>4</th>\n",
       "      <td>4</td>\n",
       "      <td>Iranian woman jailed for fictional unpublished...</td>\n",
       "      <td>Howard Portnoy</td>\n",
       "      <td>Print \\nAn Iranian woman has been sentenced to...</td>\n",
       "      <td>1</td>\n",
       "      <td>93</td>\n",
       "      <td>938</td>\n",
       "      <td>14</td>\n",
       "      <td>177</td>\n",
       "      <td>1</td>\n",
       "      <td>...</td>\n",
       "      <td>14.0</td>\n",
       "      <td>35.400000</td>\n",
       "      <td>0.285714</td>\n",
       "      <td>0.344633</td>\n",
       "      <td>0.857143</td>\n",
       "      <td>0.587571</td>\n",
       "      <td>print an iranian woman has been sentenced to s...</td>\n",
       "      <td>iranian woman jailed for fictional unpublished...</td>\n",
       "      <td>print iranian woman sentenced six years prison...</td>\n",
       "      <td>iranian woman jailed fictional unpublished sto...</td>\n",
       "    </tr>\n",
       "  </tbody>\n",
       "</table>\n",
       "<p>5 rows × 27 columns</p>\n",
       "</div>"
      ],
      "text/plain": [
       "   id                                              title              author  \\\n",
       "0   0  House Dem Aide: We Didn’t Even See Comey’s Let...       Darrell Lucus   \n",
       "1   1  FLYNN: Hillary Clinton, Big Woman on Campus - ...     Daniel J. Flynn   \n",
       "2   2                  Why the Truth Might Get You Fired  Consortiumnews.com   \n",
       "3   3  15 Civilians Killed In Single US Airstrike Hav...     Jessica Purkiss   \n",
       "4   4  Iranian woman jailed for fictional unpublished...      Howard Portnoy   \n",
       "\n",
       "                                                text  label  \\\n",
       "0  House Dem Aide: We Didn’t Even See Comey’s Let...      1   \n",
       "1  Ever get the feeling your life circles the rou...      0   \n",
       "2  Why the Truth Might Get You Fired October 29, ...      1   \n",
       "3  Videos 15 Civilians Killed In Single US Airstr...      1   \n",
       "4  Print \\nAn Iranian woman has been sentenced to...      1   \n",
       "\n",
       "   num_characters_title  num_characters_text  num_word_title  num_word_text  \\\n",
       "0                    81                 4930              19            943   \n",
       "1                    55                 4160              11            822   \n",
       "2                    33                 7692               7           1454   \n",
       "3                    63                 3237              10            612   \n",
       "4                    93                  938              14            177   \n",
       "\n",
       "   num_sentences_title  ...  Avg_sentence_length_title  \\\n",
       "0                    1  ...                       19.0   \n",
       "1                    1  ...                       11.0   \n",
       "2                    1  ...                        7.0   \n",
       "3                    1  ...                       10.0   \n",
       "4                    1  ...                       14.0   \n",
       "\n",
       "   Avg_sentence_length_text  Stopword_count_ratio_title  \\\n",
       "0                 25.486486                    0.105263   \n",
       "1                 28.344828                    0.090909   \n",
       "2                 28.509804                    0.142857   \n",
       "3                 22.666667                    0.000000   \n",
       "4                 35.400000                    0.285714   \n",
       "\n",
       "   Stopword_count_ratio_text  Unique_words_count_ratio_title  \\\n",
       "0                   0.386002                        0.947368   \n",
       "1                   0.371046                        1.000000   \n",
       "2                   0.359697                        1.000000   \n",
       "3                   0.352941                        1.000000   \n",
       "4                   0.344633                        0.857143   \n",
       "\n",
       "   Unique_words_count_ratio_text  \\\n",
       "0                       0.441145   \n",
       "1                       0.486618   \n",
       "2                       0.416781   \n",
       "3                       0.436275   \n",
       "4                       0.587571   \n",
       "\n",
       "                                        cleaned_text  \\\n",
       "0  house dem aide we did not even see comey s let...   \n",
       "1  ever get the feeling your life circles the rou...   \n",
       "2  why the truth might get you fired october the ...   \n",
       "3  videos civilians killed in single us airstrike...   \n",
       "4  print an iranian woman has been sentenced to s...   \n",
       "\n",
       "                                       cleaned_title  \\\n",
       "0  house dem aide we did not even see comey s let...   \n",
       "1  flynn hillary clinton big woman on campus brei...   \n",
       "2                  why the truth might get you fired   \n",
       "3  civilians killed in single us airstrike have b...   \n",
       "4  iranian woman jailed for fictional unpublished...   \n",
       "\n",
       "                              Without_Stopwords_text  \\\n",
       "0  house dem aide even see comey letter jason cha...   \n",
       "1  ever get feeling life circles roundabout rathe...   \n",
       "2  truth might get fired october tension intellig...   \n",
       "3  videos civilians killed single us airstrike id...   \n",
       "4  print iranian woman sentenced six years prison...   \n",
       "\n",
       "                             Without_Stopwords_title  \n",
       "0  house dem aide even see comey letter jason cha...  \n",
       "1   flynn hillary clinton big woman campus breitbart  \n",
       "2                              truth might get fired  \n",
       "3    civilians killed single us airstrike identified  \n",
       "4  iranian woman jailed fictional unpublished sto...  \n",
       "\n",
       "[5 rows x 27 columns]"
      ]
     },
     "execution_count": 80,
     "metadata": {},
     "output_type": "execute_result"
    }
   ],
   "source": [
    "df_train.head()"
   ]
  },
  {
   "cell_type": "markdown",
   "metadata": {},
   "source": [
    "> # Extracting independent features on X and Class label to Y variable"
   ]
  },
  {
   "cell_type": "code",
   "execution_count": 81,
   "metadata": {
    "execution": {
     "iopub.execute_input": "2022-05-26T13:41:16.670921Z",
     "iopub.status.busy": "2022-05-26T13:41:16.670551Z",
     "iopub.status.idle": "2022-05-26T13:41:16.682865Z",
     "shell.execute_reply": "2022-05-26T13:41:16.681838Z",
     "shell.execute_reply.started": "2022-05-26T13:41:16.670888Z"
    }
   },
   "outputs": [],
   "source": [
    "Y=df_train[\"label\"]\n",
    "X=df_train.drop([\"id\",\"title\",\"text\",\"label\",\"cleaned_text\",\"cleaned_title\",\"author\"], axis=1, inplace=False)"
   ]
  },
  {
   "cell_type": "code",
   "execution_count": 82,
   "metadata": {
    "execution": {
     "iopub.execute_input": "2022-05-26T13:41:16.684736Z",
     "iopub.status.busy": "2022-05-26T13:41:16.684385Z",
     "iopub.status.idle": "2022-05-26T13:41:16.692068Z",
     "shell.execute_reply": "2022-05-26T13:41:16.690978Z",
     "shell.execute_reply.started": "2022-05-26T13:41:16.684707Z"
    }
   },
   "outputs": [
    {
     "data": {
      "text/plain": [
       "((18285, 20), (18285,))"
      ]
     },
     "execution_count": 82,
     "metadata": {},
     "output_type": "execute_result"
    }
   ],
   "source": [
    "X.shape,Y.shape"
   ]
  },
  {
   "cell_type": "markdown",
   "metadata": {},
   "source": [
    "> # Splitting the dataset to train and test dataset"
   ]
  },
  {
   "cell_type": "code",
   "execution_count": 83,
   "metadata": {
    "execution": {
     "iopub.execute_input": "2022-05-26T13:41:16.693681Z",
     "iopub.status.busy": "2022-05-26T13:41:16.693299Z",
     "iopub.status.idle": "2022-05-26T13:41:16.724839Z",
     "shell.execute_reply": "2022-05-26T13:41:16.723851Z",
     "shell.execute_reply.started": "2022-05-26T13:41:16.693650Z"
    }
   },
   "outputs": [],
   "source": [
    "from sklearn.model_selection import train_test_split\n",
    "X_train, X_test, y_train, y_test = train_test_split(X, Y, test_size=0.25, stratify=Y,random_state=42)"
   ]
  },
  {
   "cell_type": "code",
   "execution_count": 84,
   "metadata": {
    "execution": {
     "iopub.execute_input": "2022-05-26T13:41:16.726320Z",
     "iopub.status.busy": "2022-05-26T13:41:16.726007Z",
     "iopub.status.idle": "2022-05-26T13:41:16.730855Z",
     "shell.execute_reply": "2022-05-26T13:41:16.730172Z",
     "shell.execute_reply.started": "2022-05-26T13:41:16.726292Z"
    }
   },
   "outputs": [
    {
     "name": "stdout",
     "output_type": "stream",
     "text": [
      "(13713, 20) (13713,)\n",
      "(4572, 20) (4572,)\n"
     ]
    }
   ],
   "source": [
    "print(X_train.shape, y_train.shape)\n",
    "print(X_test.shape, y_test.shape)"
   ]
  },
  {
   "cell_type": "markdown",
   "metadata": {},
   "source": [
    "> # 1. Traning Naive bayes model"
   ]
  },
  {
   "cell_type": "markdown",
   "metadata": {},
   "source": [
    "> # Vectorizing our text features using tfidf vectorizer"
   ]
  },
  {
   "cell_type": "code",
   "execution_count": 85,
   "metadata": {
    "execution": {
     "iopub.execute_input": "2022-05-26T13:41:16.732619Z",
     "iopub.status.busy": "2022-05-26T13:41:16.731863Z",
     "iopub.status.idle": "2022-05-26T13:41:17.678685Z",
     "shell.execute_reply": "2022-05-26T13:41:17.677946Z",
     "shell.execute_reply.started": "2022-05-26T13:41:16.732585Z"
    }
   },
   "outputs": [
    {
     "name": "stdout",
     "output_type": "stream",
     "text": [
      "After vectorizations shape of train and test data\n",
      "(13713, 3500) (13713,)\n",
      "(4572, 3500) (4572,)\n",
      "====================================================================================================\n"
     ]
    }
   ],
   "source": [
    "vectorizer_tfidf =TfidfVectorizer(max_features=3500)\n",
    "vectorizer_tfidf.fit(X_train[\"Without_Stopwords_title\"].values)\n",
    "\n",
    "# we use the fitted tfidfVectorizer to convert the text to vector\n",
    "X_train_title_tfidf = vectorizer_tfidf.transform(X_train['Without_Stopwords_title']).toarray()\n",
    "X_test_title_tfidf = vectorizer_tfidf.transform(X_test['Without_Stopwords_title']).toarray()\n",
    "\n",
    "print(\"After vectorizations shape of train and test data\")\n",
    "print(X_train_title_tfidf.shape, y_train.shape)\n",
    "print(X_test_title_tfidf.shape, y_test.shape)\n",
    "print(\"=\"*100)"
   ]
  },
  {
   "cell_type": "code",
   "execution_count": 86,
   "metadata": {
    "execution": {
     "iopub.execute_input": "2022-05-26T13:41:17.680036Z",
     "iopub.status.busy": "2022-05-26T13:41:17.679723Z",
     "iopub.status.idle": "2022-05-26T13:41:35.741955Z",
     "shell.execute_reply": "2022-05-26T13:41:35.741224Z",
     "shell.execute_reply.started": "2022-05-26T13:41:17.680008Z"
    }
   },
   "outputs": [
    {
     "name": "stdout",
     "output_type": "stream",
     "text": [
      "After vectorizations shape of train and test data\n",
      "(13713, 4500) (13713,)\n",
      "(4572, 4500) (4572,)\n",
      "====================================================================================================\n"
     ]
    }
   ],
   "source": [
    "vectorizer_text_tfidf =TfidfVectorizer(max_features=4500)\n",
    "vectorizer_text_tfidf.fit(X_train[\"Without_Stopwords_text\"].values)\n",
    "\n",
    "# we use the fitted countVectorizer to convert the text to vector\n",
    "X_train_text_tfidf = vectorizer_text_tfidf.transform(X_train['Without_Stopwords_text'].values).toarray()\n",
    "X_test_text_tfidf = vectorizer_text_tfidf.transform(X_test['Without_Stopwords_text'].values).toarray()\n",
    "\n",
    "print(\"After vectorizations shape of train and test data\")\n",
    "print(X_train_text_tfidf.shape, y_train.shape)\n",
    "print(X_test_text_tfidf.shape, y_test.shape)\n",
    "print(\"=\"*100)"
   ]
  },
  {
   "cell_type": "code",
   "execution_count": 87,
   "metadata": {
    "execution": {
     "iopub.execute_input": "2022-05-26T13:41:35.744563Z",
     "iopub.status.busy": "2022-05-26T13:41:35.744155Z",
     "iopub.status.idle": "2022-05-26T13:41:36.227426Z",
     "shell.execute_reply": "2022-05-26T13:41:36.226474Z",
     "shell.execute_reply.started": "2022-05-26T13:41:35.744535Z"
    }
   },
   "outputs": [
    {
     "name": "stdout",
     "output_type": "stream",
     "text": [
      "Final Data matrix\n",
      "(13713, 8000) (13713,)\n",
      "(4572, 8000) (4572,)\n",
      "====================================================================================================\n"
     ]
    }
   ],
   "source": [
    "# stacking all the features for train and test dataset \n",
    "X_train_final_tfidf = np.hstack((X_train_title_tfidf, X_train_text_tfidf))\n",
    "X_test_final_tfidf = np.hstack((X_test_title_tfidf , X_test_text_tfidf))\n",
    "\n",
    "print(\"Final Data matrix\")\n",
    "print(X_train_final_tfidf.shape, y_train.shape)\n",
    "print(X_test_final_tfidf.shape, y_test.shape)\n",
    "print(\"=\"*100)"
   ]
  },
  {
   "cell_type": "code",
   "execution_count": 88,
   "metadata": {
    "execution": {
     "iopub.execute_input": "2022-05-26T13:41:36.229684Z",
     "iopub.status.busy": "2022-05-26T13:41:36.228708Z",
     "iopub.status.idle": "2022-05-26T13:41:38.306613Z",
     "shell.execute_reply": "2022-05-26T13:41:38.305533Z",
     "shell.execute_reply.started": "2022-05-26T13:41:36.229638Z"
    }
   },
   "outputs": [
    {
     "name": "stdout",
     "output_type": "stream",
     "text": [
      "Gaussian NB accuracy on test dataset : 0.8178040244969379\n",
      "Gaussian NB precision on test dataseet : 0.752863436123348\n"
     ]
    }
   ],
   "source": [
    "gnb = GaussianNB()\n",
    "gnb.fit(X_train_final_tfidf,y_train)\n",
    "y_pred = gnb.predict(X_test_final_tfidf)\n",
    "accuracy = accuracy_score(y_test,y_pred)\n",
    "precision = precision_score(y_test,y_pred)\n",
    "print(\"Gaussian NB accuracy on test dataset :\",accuracy)\n",
    "print(\"Gaussian NB precision on test dataseet :\",precision)"
   ]
  },
  {
   "cell_type": "markdown",
   "metadata": {},
   "source": [
    "> # Plotting confusion mattrix"
   ]
  },
  {
   "cell_type": "code",
   "execution_count": 89,
   "metadata": {
    "execution": {
     "iopub.execute_input": "2022-05-26T13:41:38.308447Z",
     "iopub.status.busy": "2022-05-26T13:41:38.308026Z",
     "iopub.status.idle": "2022-05-26T13:41:38.316909Z",
     "shell.execute_reply": "2022-05-26T13:41:38.315869Z",
     "shell.execute_reply.started": "2022-05-26T13:41:38.308406Z"
    }
   },
   "outputs": [
    {
     "name": "stdout",
     "output_type": "stream",
     "text": [
      "[[2030  561]\n",
      " [ 272 1709]]\n"
     ]
    }
   ],
   "source": [
    "from sklearn.metrics import confusion_matrix\n",
    "\n",
    "#Generate the confusion matrix\n",
    "cf_matrix = confusion_matrix(y_test, y_pred)\n",
    "\n",
    "print(cf_matrix)"
   ]
  },
  {
   "cell_type": "code",
   "execution_count": 90,
   "metadata": {
    "execution": {
     "iopub.execute_input": "2022-05-26T13:41:38.319032Z",
     "iopub.status.busy": "2022-05-26T13:41:38.318388Z",
     "iopub.status.idle": "2022-05-26T13:41:38.526357Z",
     "shell.execute_reply": "2022-05-26T13:41:38.525472Z",
     "shell.execute_reply.started": "2022-05-26T13:41:38.318955Z"
    }
   },
   "outputs": [
    {
     "data": {
      "image/png": "[encoded data removed]",
      "text/plain": [
       "<Figure size 432x288 with 2 Axes>"
      ]
     },
     "metadata": {
      "needs_background": "light"
     },
     "output_type": "display_data"
    }
   ],
   "source": [
    "group_names = ['True Neg','False Pos','False Neg','True Pos']\n",
    "\n",
    "group_counts = [\"{0:0.0f}\".format(value) for value in\n",
    "                cf_matrix.flatten()]\n",
    "\n",
    "group_percentages = [\"{0:.2%}\".format(value) for value in\n",
    "                     cf_matrix.flatten()/np.sum(cf_matrix)]\n",
    "\n",
    "labels = [f\"{v1}\\n{v2}\\n{v3}\" for v1, v2, v3 in\n",
    "          zip(group_names,group_counts,group_percentages)]\n",
    "\n",
    "labels = np.asarray(labels).reshape(2,2)\n",
    "\n",
    "ax = sns.heatmap(cf_matrix, annot=labels, fmt='', cmap='Blues')\n",
    "\n",
    "ax.set_title('Seaborn Confusion Matrix with labels\\n\\n');\n",
    "ax.set_xlabel('\\nPredicted Values')\n",
    "ax.set_ylabel('Actual Values ');\n",
    "\n",
    "ax.xaxis.set_ticklabels(['False','True'])\n",
    "ax.yaxis.set_ticklabels(['False','True'])\n",
    "\n",
    "## Display the visualization of the Confusion Matrix.\n",
    "plt.show()"
   ]
  },
  {
   "cell_type": "markdown",
   "metadata": {},
   "source": [
    "> # k-nearest neighbors Classifier"
   ]
  },
  {
   "cell_type": "code",
   "execution_count": 91,
   "metadata": {
    "execution": {
     "iopub.execute_input": "2022-05-26T13:41:38.527856Z",
     "iopub.status.busy": "2022-05-26T13:41:38.527524Z",
     "iopub.status.idle": "2022-05-26T13:41:55.647410Z",
     "shell.execute_reply": "2022-05-26T13:41:55.646364Z",
     "shell.execute_reply.started": "2022-05-26T13:41:38.527823Z"
    }
   },
   "outputs": [
    {
     "name": "stdout",
     "output_type": "stream",
     "text": [
      "k-nearest neighbors accuracy on testdataset : 0.46566054243219596\n",
      "k-nearest neighbors precision on testdataset : 0.447713897691263\n"
     ]
    }
   ],
   "source": [
    "from sklearn.neighbors import KNeighborsClassifier\n",
    "neigh = KNeighborsClassifier()\n",
    "neigh.fit(X_train_final_tfidf,y_train)\n",
    "y_pred = neigh.predict(X_test_final_tfidf)\n",
    "accuracy = accuracy_score(y_test,y_pred)\n",
    "precision = precision_score(y_test,y_pred)\n",
    "print(\"k-nearest neighbors accuracy on testdataset :\",accuracy)\n",
    "print(\"k-nearest neighbors precision on testdataset :\",precision)"
   ]
  },
  {
   "cell_type": "markdown",
   "metadata": {},
   "source": [
    "> # Plotting confusion mattrix"
   ]
  },
  {
   "cell_type": "code",
   "execution_count": 92,
   "metadata": {
    "execution": {
     "iopub.execute_input": "2022-05-26T13:41:55.649438Z",
     "iopub.status.busy": "2022-05-26T13:41:55.649001Z",
     "iopub.status.idle": "2022-05-26T13:41:55.658318Z",
     "shell.execute_reply": "2022-05-26T13:41:55.657218Z",
     "shell.execute_reply.started": "2022-05-26T13:41:55.649396Z"
    }
   },
   "outputs": [
    {
     "name": "stdout",
     "output_type": "stream",
     "text": [
      "[[ 151 2440]\n",
      " [   3 1978]]\n"
     ]
    }
   ],
   "source": [
    "from sklearn.metrics import confusion_matrix\n",
    "\n",
    "#Generate the confusion matrix\n",
    "cf_matrix = confusion_matrix(y_test, y_pred)\n",
    "\n",
    "print(cf_matrix)"
   ]
  },
  {
   "cell_type": "code",
   "execution_count": 93,
   "metadata": {
    "execution": {
     "iopub.execute_input": "2022-05-26T13:41:55.659924Z",
     "iopub.status.busy": "2022-05-26T13:41:55.659560Z",
     "iopub.status.idle": "2022-05-26T13:41:56.081024Z",
     "shell.execute_reply": "2022-05-26T13:41:56.080029Z",
     "shell.execute_reply.started": "2022-05-26T13:41:55.659885Z"
    }
   },
   "outputs": [
    {
     "data": {
      "image/png": "[encoded data removed]",
      "text/plain": [
       "<Figure size 432x288 with 2 Axes>"
      ]
     },
     "metadata": {
      "needs_background": "light"
     },
     "output_type": "display_data"
    }
   ],
   "source": [
    "group_names = ['True Neg','False Pos','False Neg','True Pos']\n",
    "\n",
    "group_counts = [\"{0:0.0f}\".format(value) for value in\n",
    "                cf_matrix.flatten()]\n",
    "\n",
    "group_percentages = [\"{0:.2%}\".format(value) for value in\n",
    "                     cf_matrix.flatten()/np.sum(cf_matrix)]\n",
    "\n",
    "labels = [f\"{v1}\\n{v2}\\n{v3}\" for v1, v2, v3 in\n",
    "          zip(group_names,group_counts,group_percentages)]\n",
    "\n",
    "labels = np.asarray(labels).reshape(2,2)\n",
    "\n",
    "ax = sns.heatmap(cf_matrix, annot=labels, fmt='', cmap='Blues')\n",
    "\n",
    "ax.set_title('Seaborn Confusion Matrix with labels\\n\\n');\n",
    "ax.set_xlabel('\\nPredicted Values')\n",
    "ax.set_ylabel('Actual Values ');\n",
    "\n",
    "ax.xaxis.set_ticklabels(['False','True'])\n",
    "ax.yaxis.set_ticklabels(['False','True'])\n",
    "\n",
    "## Display the visualization of the Confusion Matrix.\n",
    "plt.show()"
   ]
  },
  {
   "cell_type": "markdown",
   "metadata": {},
   "source": [
    "> # 2. Traning Logistic Regression model"
   ]
  },
  {
   "cell_type": "code",
   "execution_count": 94,
   "metadata": {
    "execution": {
     "iopub.execute_input": "2022-05-26T13:41:56.082705Z",
     "iopub.status.busy": "2022-05-26T13:41:56.082375Z",
     "iopub.status.idle": "2022-05-26T13:42:01.125728Z",
     "shell.execute_reply": "2022-05-26T13:42:01.124640Z",
     "shell.execute_reply.started": "2022-05-26T13:41:56.082675Z"
    }
   },
   "outputs": [
    {
     "name": "stdout",
     "output_type": "stream",
     "text": [
      "LR accuracy on testdataset : 0.9733158355205599\n",
      "LR precision on testdataset : 0.9523114355231144\n"
     ]
    }
   ],
   "source": [
    "from sklearn.linear_model import LogisticRegression\n",
    "LR = LogisticRegression(random_state=12)\n",
    "LR.fit(X_train_final_tfidf,y_train)\n",
    "y_pred = LR.predict(X_test_final_tfidf)\n",
    "accuracy = accuracy_score(y_test,y_pred)\n",
    "precision = precision_score(y_test,y_pred)\n",
    "print(\"LR accuracy on testdataset :\",accuracy)\n",
    "print(\"LR precision on testdataset :\",precision)"
   ]
  },
  {
   "cell_type": "markdown",
   "metadata": {},
   "source": [
    "> # Plotting confusion mattrix"
   ]
  },
  {
   "cell_type": "code",
   "execution_count": 95,
   "metadata": {
    "execution": {
     "iopub.execute_input": "2022-05-26T13:42:01.128223Z",
     "iopub.status.busy": "2022-05-26T13:42:01.127269Z",
     "iopub.status.idle": "2022-05-26T13:42:01.140104Z",
     "shell.execute_reply": "2022-05-26T13:42:01.138601Z",
     "shell.execute_reply.started": "2022-05-26T13:42:01.128168Z"
    }
   },
   "outputs": [
    {
     "name": "stdout",
     "output_type": "stream",
     "text": [
      "[[2493   98]\n",
      " [  24 1957]]\n"
     ]
    }
   ],
   "source": [
    "from sklearn.metrics import confusion_matrix\n",
    "\n",
    "#Generate the confusion matrix\n",
    "cf_matrix = confusion_matrix(y_test, y_pred)\n",
    "\n",
    "print(cf_matrix)"
   ]
  },
  {
   "cell_type": "code",
   "execution_count": 96,
   "metadata": {
    "execution": {
     "iopub.execute_input": "2022-05-26T13:42:01.143227Z",
     "iopub.status.busy": "2022-05-26T13:42:01.142168Z",
     "iopub.status.idle": "2022-05-26T13:42:01.425468Z",
     "shell.execute_reply": "2022-05-26T13:42:01.424736Z",
     "shell.execute_reply.started": "2022-05-26T13:42:01.143170Z"
    }
   },
   "outputs": [
    {
     "data": {
      "image/png": "[encoded data removed]",
      "text/plain": [
       "<Figure size 432x288 with 2 Axes>"
      ]
     },
     "metadata": {
      "needs_background": "light"
     },
     "output_type": "display_data"
    }
   ],
   "source": [
    "group_names = ['True Neg','False Pos','False Neg','True Pos']\n",
    "\n",
    "group_counts = [\"{0:0.0f}\".format(value) for value in\n",
    "                cf_matrix.flatten()]\n",
    "\n",
    "group_percentages = [\"{0:.2%}\".format(value) for value in\n",
    "                     cf_matrix.flatten()/np.sum(cf_matrix)]\n",
    "\n",
    "labels = [f\"{v1}\\n{v2}\\n{v3}\" for v1, v2, v3 in\n",
    "          zip(group_names,group_counts,group_percentages)]\n",
    "\n",
    "labels = np.asarray(labels).reshape(2,2)\n",
    "\n",
    "ax = sns.heatmap(cf_matrix, annot=labels, fmt='', cmap='Blues')\n",
    "\n",
    "ax.set_title('Seaborn Confusion Matrix with labels\\n\\n');\n",
    "ax.set_xlabel('\\nPredicted Values')\n",
    "ax.set_ylabel('Actual Values ');\n",
    "\n",
    "ax.xaxis.set_ticklabels(['False','True'])\n",
    "ax.yaxis.set_ticklabels(['False','True'])\n",
    "\n",
    "## Display the visualization of the Confusion Matrix.\n",
    "plt.show()"
   ]
  },
  {
   "cell_type": "markdown",
   "metadata": {},
   "source": [
    "> # Summary of above trained models:-"
   ]
  },
  {
   "cell_type": "code",
   "execution_count": 1,
   "metadata": {
    "execution": {
     "iopub.execute_input": "2022-05-26T13:42:01.427004Z",
     "iopub.status.busy": "2022-05-26T13:42:01.426456Z",
     "iopub.status.idle": "2022-05-26T13:42:01.437274Z",
     "shell.execute_reply": "2022-05-26T13:42:01.436184Z",
     "shell.execute_reply.started": "2022-05-26T13:42:01.426970Z"
    }
   },
   "outputs": [
    {
     "name": "stdout",
     "output_type": "stream",
     "text": [
      "+------------------+---------------------+-----------------------+------------------------+\n",
      "|    Vectorizer    |        Model        | Accuracy On test Data | Precision on Test Data |\n",
      "+------------------+---------------------+-----------------------+------------------------+\n",
      "| tfidf Vectorizer |     Gaussian NB     |          81.7         |          75.2          |\n",
      "|     -------      |       -------       |        -------        |        -------         |\n",
      "| tfidf Vectorizer |         KNN         |          46.5         |          44.7          |\n",
      "|     -------      |       -------       |        -------        |        -------         |\n",
      "| tfidf Vectorizer | Logistic Regression |          97.3         |          95.2          |\n",
      "+------------------+---------------------+-----------------------+------------------------+\n"
     ]
    }
   ],
   "source": [
    "from prettytable import PrettyTable\n",
    "  \n",
    "# Specify the Column Names while initializing the Table\n",
    "myTable = PrettyTable([ \"Vectorizer\",\"Model\", \"Accuracy On test Data\",\"Precision on Test Data\"])\n",
    "  \n",
    "# Add rows\n",
    "myTable.add_row([\"tfidf Vectorizer\",\"Gaussian NB\", \"81.7\", \"75.2\"])\n",
    "myTable.add_row([\"-------\", \"-------\", \"-------\",\"-------\"])\n",
    "myTable.add_row([\"tfidf Vectorizer\",\"KNN\", \"46.5\", \"44.7\"])\n",
    "myTable.add_row([\"-------\", \"-------\", \"-------\",\"-------\"])\n",
    "myTable.add_row([\"tfidf Vectorizer\",\"Logistic Regression\", \"97.3\", \"95.2\"])\n",
    "               \n",
    "print(myTable)"
   ]
  },
  {
   "cell_type": "markdown",
   "metadata": {},
   "source": [
    "> # Observations:-\n",
    "1. After vectorizing our test features title and text using tfidf vectorizer i have trained below three first cut model\n",
    "   i. Gaussian NB\n",
    "   ii. KNN\n",
    "   iii. Logistice regression\n",
    "2. In Gaussian NB i am getting accuracy on test data is 81.7% and precesion 75.2%\n",
    "3. In KNN i am getting accuracy on test data is 46.5% and precesion 44.7% clear KNN is not performing well on test so model may be having high variance\n",
    "4. Logistic regression i am getting 97.3% accracy and 95.2 precesion on test data which is best out of all three models.\n",
    "   which shows that our data is linearly seperable hence Logistic regression is performing well"
   ]
  }
 ],
 "metadata": {
  "kernelspec": {
   "display_name": "Python 3",
   "language": "python",
   "name": "python3"
  },
  "language_info": {
   "codemirror_mode": {
    "name": "ipython",
    "version": 3
   },
   "file_extension": ".py",
   "mimetype": "text/x-python",
   "name": "python",
   "nbconvert_exporter": "python",
   "pygments_lexer": "ipython3",
   "version": "3.8.8"
  }
 },
 "nbformat": 4,
 "nbformat_minor": 4
}
