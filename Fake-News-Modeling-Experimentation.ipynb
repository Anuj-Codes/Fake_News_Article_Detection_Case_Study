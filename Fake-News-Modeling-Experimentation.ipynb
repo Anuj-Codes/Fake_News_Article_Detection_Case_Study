{
 "cells": [
  {
   "cell_type": "code",
   "execution_count": 139,
   "metadata": {
    "_cell_guid": "b1076dfc-b9ad-4769-8c92-a6c4dae69d19",
    "_uuid": "8f2839f25d086af736a60e9eeb907d3b93b6e0e5",
    "execution": {
     "iopub.execute_input": "2022-05-26T14:04:38.990618Z",
     "iopub.status.busy": "2022-05-26T14:04:38.990129Z",
     "iopub.status.idle": "2022-05-26T14:04:39.284132Z",
     "shell.execute_reply": "2022-05-26T14:04:39.282684Z",
     "shell.execute_reply.started": "2022-05-26T14:04:38.990584Z"
    }
   },
   "outputs": [
    {
     "name": "stdout",
     "output_type": "stream",
     "text": [
      "[nltk_data] Downloading package punkt to /usr/share/nltk_data...\n",
      "[nltk_data]   Package punkt is already up-to-date!\n",
      "[nltk_data] Downloading package stopwords to /usr/share/nltk_data...\n",
      "[nltk_data]   Package stopwords is already up-to-date!\n"
     ]
    }
   ],
   "source": [
    "import warnings\n",
    "warnings.filterwarnings(\"ignore\")\n",
    "import numpy as np\n",
    "import re\n",
    "import pandas as pd\n",
    "from tqdm import tqdm\n",
    "import string\n",
    "from nltk import word_tokenize\n",
    "from nltk.corpus import stopwords\n",
    "import nltk\n",
    "nltk.download('punkt')\n",
    "nltk.download('stopwords')\n",
    "import seaborn as sns\n",
    "from string import punctuation\n",
    "import matplotlib.pyplot as plt\n",
    "import time\n",
    "from sklearn.naive_bayes import GaussianNB\n",
    "from sklearn.metrics import accuracy_score,confusion_matrix,precision_score\n",
    "from sklearn.feature_extraction.text import TfidfVectorizer"
   ]
  },
  {
   "cell_type": "markdown",
   "metadata": {},
   "source": [
    "> # Loading the preprocessed train and test data"
   ]
  },
  {
   "cell_type": "code",
   "execution_count": 140,
   "metadata": {
    "execution": {
     "iopub.execute_input": "2022-05-26T14:04:39.286554Z",
     "iopub.status.busy": "2022-05-26T14:04:39.286173Z",
     "iopub.status.idle": "2022-05-26T14:04:39.755629Z",
     "shell.execute_reply": "2022-05-26T14:04:39.753590Z",
     "shell.execute_reply.started": "2022-05-26T14:04:39.286504Z"
    }
   },
   "outputs": [],
   "source": [
    "import pickle\n",
    "df_train=pickle.load(open('../input/fake-news-case-study-preprocessed-daa/df_train.pkl','rb'))"
   ]
  },
  {
   "cell_type": "markdown",
   "metadata": {},
   "source": [
    "> # Shape of train and test dataset"
   ]
  },
  {
   "cell_type": "code",
   "execution_count": 141,
   "metadata": {
    "execution": {
     "iopub.execute_input": "2022-05-26T14:04:39.758620Z",
     "iopub.status.busy": "2022-05-26T14:04:39.757750Z",
     "iopub.status.idle": "2022-05-26T14:04:39.766044Z",
     "shell.execute_reply": "2022-05-26T14:04:39.764792Z",
     "shell.execute_reply.started": "2022-05-26T14:04:39.758565Z"
    }
   },
   "outputs": [
    {
     "data": {
      "text/plain": [
       "(18285, 27)"
      ]
     },
     "execution_count": 141,
     "metadata": {},
     "output_type": "execute_result"
    }
   ],
   "source": [
    "df_train.shape"
   ]
  },
  {
   "cell_type": "code",
   "execution_count": 142,
   "metadata": {
    "execution": {
     "iopub.execute_input": "2022-05-26T14:04:39.768975Z",
     "iopub.status.busy": "2022-05-26T14:04:39.768556Z",
     "iopub.status.idle": "2022-05-26T14:04:39.806642Z",
     "shell.execute_reply": "2022-05-26T14:04:39.805704Z",
     "shell.execute_reply.started": "2022-05-26T14:04:39.768942Z"
    }
   },
   "outputs": [
    {
     "data": {
      "text/html": [
       "<div>\n",
       "<style scoped>\n",
       "    .dataframe tbody tr th:only-of-type {\n",
       "        vertical-align: middle;\n",
       "    }\n",
       "\n",
       "    .dataframe tbody tr th {\n",
       "        vertical-align: top;\n",
       "    }\n",
       "\n",
       "    .dataframe thead th {\n",
       "        text-align: right;\n",
       "    }\n",
       "</style>\n",
       "<table border=\"1\" class=\"dataframe\">\n",
       "  <thead>\n",
       "    <tr style=\"text-align: right;\">\n",
       "      <th></th>\n",
       "      <th>id</th>\n",
       "      <th>title</th>\n",
       "      <th>author</th>\n",
       "      <th>text</th>\n",
       "      <th>label</th>\n",
       "      <th>num_characters_title</th>\n",
       "      <th>num_characters_text</th>\n",
       "      <th>num_word_title</th>\n",
       "      <th>num_word_text</th>\n",
       "      <th>num_sentences_title</th>\n",
       "      <th>...</th>\n",
       "      <th>Avg_sentence_length_title</th>\n",
       "      <th>Avg_sentence_length_text</th>\n",
       "      <th>Stopword_count_ratio_title</th>\n",
       "      <th>Stopword_count_ratio_text</th>\n",
       "      <th>Unique_words_count_ratio_title</th>\n",
       "      <th>Unique_words_count_ratio_text</th>\n",
       "      <th>cleaned_text</th>\n",
       "      <th>cleaned_title</th>\n",
       "      <th>Without_Stopwords_text</th>\n",
       "      <th>Without_Stopwords_title</th>\n",
       "    </tr>\n",
       "  </thead>\n",
       "  <tbody>\n",
       "    <tr>\n",
       "      <th>0</th>\n",
       "      <td>0</td>\n",
       "      <td>House Dem Aide: We Didn’t Even See Comey’s Let...</td>\n",
       "      <td>Darrell Lucus</td>\n",
       "      <td>House Dem Aide: We Didn’t Even See Comey’s Let...</td>\n",
       "      <td>1</td>\n",
       "      <td>81</td>\n",
       "      <td>4930</td>\n",
       "      <td>19</td>\n",
       "      <td>943</td>\n",
       "      <td>1</td>\n",
       "      <td>...</td>\n",
       "      <td>19.0</td>\n",
       "      <td>25.486486</td>\n",
       "      <td>0.105263</td>\n",
       "      <td>0.386002</td>\n",
       "      <td>0.947368</td>\n",
       "      <td>0.441145</td>\n",
       "      <td>house dem aide we did not even see comey s let...</td>\n",
       "      <td>house dem aide we did not even see comey s let...</td>\n",
       "      <td>house dem aide even see comey letter jason cha...</td>\n",
       "      <td>house dem aide even see comey letter jason cha...</td>\n",
       "    </tr>\n",
       "    <tr>\n",
       "      <th>1</th>\n",
       "      <td>1</td>\n",
       "      <td>FLYNN: Hillary Clinton, Big Woman on Campus - ...</td>\n",
       "      <td>Daniel J. Flynn</td>\n",
       "      <td>Ever get the feeling your life circles the rou...</td>\n",
       "      <td>0</td>\n",
       "      <td>55</td>\n",
       "      <td>4160</td>\n",
       "      <td>11</td>\n",
       "      <td>822</td>\n",
       "      <td>1</td>\n",
       "      <td>...</td>\n",
       "      <td>11.0</td>\n",
       "      <td>28.344828</td>\n",
       "      <td>0.090909</td>\n",
       "      <td>0.371046</td>\n",
       "      <td>1.000000</td>\n",
       "      <td>0.486618</td>\n",
       "      <td>ever get the feeling your life circles the rou...</td>\n",
       "      <td>flynn hillary clinton big woman on campus brei...</td>\n",
       "      <td>ever get feeling life circles roundabout rathe...</td>\n",
       "      <td>flynn hillary clinton big woman campus breitbart</td>\n",
       "    </tr>\n",
       "    <tr>\n",
       "      <th>2</th>\n",
       "      <td>2</td>\n",
       "      <td>Why the Truth Might Get You Fired</td>\n",
       "      <td>Consortiumnews.com</td>\n",
       "      <td>Why the Truth Might Get You Fired October 29, ...</td>\n",
       "      <td>1</td>\n",
       "      <td>33</td>\n",
       "      <td>7692</td>\n",
       "      <td>7</td>\n",
       "      <td>1454</td>\n",
       "      <td>1</td>\n",
       "      <td>...</td>\n",
       "      <td>7.0</td>\n",
       "      <td>28.509804</td>\n",
       "      <td>0.142857</td>\n",
       "      <td>0.359697</td>\n",
       "      <td>1.000000</td>\n",
       "      <td>0.416781</td>\n",
       "      <td>why the truth might get you fired october the ...</td>\n",
       "      <td>why the truth might get you fired</td>\n",
       "      <td>truth might get fired october tension intellig...</td>\n",
       "      <td>truth might get fired</td>\n",
       "    </tr>\n",
       "    <tr>\n",
       "      <th>3</th>\n",
       "      <td>3</td>\n",
       "      <td>15 Civilians Killed In Single US Airstrike Hav...</td>\n",
       "      <td>Jessica Purkiss</td>\n",
       "      <td>Videos 15 Civilians Killed In Single US Airstr...</td>\n",
       "      <td>1</td>\n",
       "      <td>63</td>\n",
       "      <td>3237</td>\n",
       "      <td>10</td>\n",
       "      <td>612</td>\n",
       "      <td>1</td>\n",
       "      <td>...</td>\n",
       "      <td>10.0</td>\n",
       "      <td>22.666667</td>\n",
       "      <td>0.000000</td>\n",
       "      <td>0.352941</td>\n",
       "      <td>1.000000</td>\n",
       "      <td>0.436275</td>\n",
       "      <td>videos civilians killed in single us airstrike...</td>\n",
       "      <td>civilians killed in single us airstrike have b...</td>\n",
       "      <td>videos civilians killed single us airstrike id...</td>\n",
       "      <td>civilians killed single us airstrike identified</td>\n",
       "    </tr>\n",
       "    <tr>\n",
       "      <th>4</th>\n",
       "      <td>4</td>\n",
       "      <td>Iranian woman jailed for fictional unpublished...</td>\n",
       "      <td>Howard Portnoy</td>\n",
       "      <td>Print \\nAn Iranian woman has been sentenced to...</td>\n",
       "      <td>1</td>\n",
       "      <td>93</td>\n",
       "      <td>938</td>\n",
       "      <td>14</td>\n",
       "      <td>177</td>\n",
       "      <td>1</td>\n",
       "      <td>...</td>\n",
       "      <td>14.0</td>\n",
       "      <td>35.400000</td>\n",
       "      <td>0.285714</td>\n",
       "      <td>0.344633</td>\n",
       "      <td>0.857143</td>\n",
       "      <td>0.587571</td>\n",
       "      <td>print an iranian woman has been sentenced to s...</td>\n",
       "      <td>iranian woman jailed for fictional unpublished...</td>\n",
       "      <td>print iranian woman sentenced six years prison...</td>\n",
       "      <td>iranian woman jailed fictional unpublished sto...</td>\n",
       "    </tr>\n",
       "  </tbody>\n",
       "</table>\n",
       "<p>5 rows × 27 columns</p>\n",
       "</div>"
      ],
      "text/plain": [
       "   id                                              title              author  \\\n",
       "0   0  House Dem Aide: We Didn’t Even See Comey’s Let...       Darrell Lucus   \n",
       "1   1  FLYNN: Hillary Clinton, Big Woman on Campus - ...     Daniel J. Flynn   \n",
       "2   2                  Why the Truth Might Get You Fired  Consortiumnews.com   \n",
       "3   3  15 Civilians Killed In Single US Airstrike Hav...     Jessica Purkiss   \n",
       "4   4  Iranian woman jailed for fictional unpublished...      Howard Portnoy   \n",
       "\n",
       "                                                text  label  \\\n",
       "0  House Dem Aide: We Didn’t Even See Comey’s Let...      1   \n",
       "1  Ever get the feeling your life circles the rou...      0   \n",
       "2  Why the Truth Might Get You Fired October 29, ...      1   \n",
       "3  Videos 15 Civilians Killed In Single US Airstr...      1   \n",
       "4  Print \\nAn Iranian woman has been sentenced to...      1   \n",
       "\n",
       "   num_characters_title  num_characters_text  num_word_title  num_word_text  \\\n",
       "0                    81                 4930              19            943   \n",
       "1                    55                 4160              11            822   \n",
       "2                    33                 7692               7           1454   \n",
       "3                    63                 3237              10            612   \n",
       "4                    93                  938              14            177   \n",
       "\n",
       "   num_sentences_title  ...  Avg_sentence_length_title  \\\n",
       "0                    1  ...                       19.0   \n",
       "1                    1  ...                       11.0   \n",
       "2                    1  ...                        7.0   \n",
       "3                    1  ...                       10.0   \n",
       "4                    1  ...                       14.0   \n",
       "\n",
       "   Avg_sentence_length_text  Stopword_count_ratio_title  \\\n",
       "0                 25.486486                    0.105263   \n",
       "1                 28.344828                    0.090909   \n",
       "2                 28.509804                    0.142857   \n",
       "3                 22.666667                    0.000000   \n",
       "4                 35.400000                    0.285714   \n",
       "\n",
       "   Stopword_count_ratio_text  Unique_words_count_ratio_title  \\\n",
       "0                   0.386002                        0.947368   \n",
       "1                   0.371046                        1.000000   \n",
       "2                   0.359697                        1.000000   \n",
       "3                   0.352941                        1.000000   \n",
       "4                   0.344633                        0.857143   \n",
       "\n",
       "   Unique_words_count_ratio_text  \\\n",
       "0                       0.441145   \n",
       "1                       0.486618   \n",
       "2                       0.416781   \n",
       "3                       0.436275   \n",
       "4                       0.587571   \n",
       "\n",
       "                                        cleaned_text  \\\n",
       "0  house dem aide we did not even see comey s let...   \n",
       "1  ever get the feeling your life circles the rou...   \n",
       "2  why the truth might get you fired october the ...   \n",
       "3  videos civilians killed in single us airstrike...   \n",
       "4  print an iranian woman has been sentenced to s...   \n",
       "\n",
       "                                       cleaned_title  \\\n",
       "0  house dem aide we did not even see comey s let...   \n",
       "1  flynn hillary clinton big woman on campus brei...   \n",
       "2                  why the truth might get you fired   \n",
       "3  civilians killed in single us airstrike have b...   \n",
       "4  iranian woman jailed for fictional unpublished...   \n",
       "\n",
       "                              Without_Stopwords_text  \\\n",
       "0  house dem aide even see comey letter jason cha...   \n",
       "1  ever get feeling life circles roundabout rathe...   \n",
       "2  truth might get fired october tension intellig...   \n",
       "3  videos civilians killed single us airstrike id...   \n",
       "4  print iranian woman sentenced six years prison...   \n",
       "\n",
       "                             Without_Stopwords_title  \n",
       "0  house dem aide even see comey letter jason cha...  \n",
       "1   flynn hillary clinton big woman campus breitbart  \n",
       "2                              truth might get fired  \n",
       "3    civilians killed single us airstrike identified  \n",
       "4  iranian woman jailed fictional unpublished sto...  \n",
       "\n",
       "[5 rows x 27 columns]"
      ]
     },
     "execution_count": 142,
     "metadata": {},
     "output_type": "execute_result"
    }
   ],
   "source": [
    "df_train.head()"
   ]
  },
  {
   "cell_type": "markdown",
   "metadata": {},
   "source": [
    "> # Extracting independent features on X and Class label to Y variable"
   ]
  },
  {
   "cell_type": "code",
   "execution_count": 143,
   "metadata": {
    "execution": {
     "iopub.execute_input": "2022-05-26T14:04:39.808540Z",
     "iopub.status.busy": "2022-05-26T14:04:39.808046Z",
     "iopub.status.idle": "2022-05-26T14:04:39.831743Z",
     "shell.execute_reply": "2022-05-26T14:04:39.830667Z",
     "shell.execute_reply.started": "2022-05-26T14:04:39.808482Z"
    }
   },
   "outputs": [],
   "source": [
    "Y=df_train[\"label\"]\n",
    "X=df_train.drop([\"id\",\"title\",\"text\",\"label\",\"cleaned_text\",\"cleaned_title\",\"author\"], axis=1, inplace=False)"
   ]
  },
  {
   "cell_type": "code",
   "execution_count": 144,
   "metadata": {
    "execution": {
     "iopub.execute_input": "2022-05-26T14:04:39.833348Z",
     "iopub.status.busy": "2022-05-26T14:04:39.832999Z",
     "iopub.status.idle": "2022-05-26T14:04:39.843357Z",
     "shell.execute_reply": "2022-05-26T14:04:39.842680Z",
     "shell.execute_reply.started": "2022-05-26T14:04:39.833316Z"
    }
   },
   "outputs": [
    {
     "data": {
      "text/plain": [
       "((18285, 20), (18285,))"
      ]
     },
     "execution_count": 144,
     "metadata": {},
     "output_type": "execute_result"
    }
   ],
   "source": [
    "X.shape,Y.shape"
   ]
  },
  {
   "cell_type": "markdown",
   "metadata": {},
   "source": [
    "> # Splitting the dataset to train and test dataset"
   ]
  },
  {
   "cell_type": "code",
   "execution_count": 145,
   "metadata": {
    "execution": {
     "iopub.execute_input": "2022-05-26T14:04:39.845046Z",
     "iopub.status.busy": "2022-05-26T14:04:39.844644Z",
     "iopub.status.idle": "2022-05-26T14:04:39.879119Z",
     "shell.execute_reply": "2022-05-26T14:04:39.878068Z",
     "shell.execute_reply.started": "2022-05-26T14:04:39.845017Z"
    }
   },
   "outputs": [],
   "source": [
    "from sklearn.model_selection import train_test_split\n",
    "X_train, X_test, y_train, y_test = train_test_split(X, Y, test_size=0.25, stratify=Y,random_state=42)"
   ]
  },
  {
   "cell_type": "code",
   "execution_count": 146,
   "metadata": {
    "execution": {
     "iopub.execute_input": "2022-05-26T14:04:39.880791Z",
     "iopub.status.busy": "2022-05-26T14:04:39.880336Z",
     "iopub.status.idle": "2022-05-26T14:04:39.886666Z",
     "shell.execute_reply": "2022-05-26T14:04:39.885328Z",
     "shell.execute_reply.started": "2022-05-26T14:04:39.880759Z"
    }
   },
   "outputs": [
    {
     "name": "stdout",
     "output_type": "stream",
     "text": [
      "(13713, 20) (13713,)\n",
      "(4572, 20) (4572,)\n"
     ]
    }
   ],
   "source": [
    "print(X_train.shape, y_train.shape)\n",
    "print(X_test.shape, y_test.shape)"
   ]
  },
  {
   "cell_type": "code",
   "execution_count": 147,
   "metadata": {
    "execution": {
     "iopub.execute_input": "2022-05-26T14:04:39.888359Z",
     "iopub.status.busy": "2022-05-26T14:04:39.887875Z",
     "iopub.status.idle": "2022-05-26T14:04:39.918298Z",
     "shell.execute_reply": "2022-05-26T14:04:39.916631Z",
     "shell.execute_reply.started": "2022-05-26T14:04:39.888331Z"
    }
   },
   "outputs": [
    {
     "data": {
      "text/html": [
       "<div>\n",
       "<style scoped>\n",
       "    .dataframe tbody tr th:only-of-type {\n",
       "        vertical-align: middle;\n",
       "    }\n",
       "\n",
       "    .dataframe tbody tr th {\n",
       "        vertical-align: top;\n",
       "    }\n",
       "\n",
       "    .dataframe thead th {\n",
       "        text-align: right;\n",
       "    }\n",
       "</style>\n",
       "<table border=\"1\" class=\"dataframe\">\n",
       "  <thead>\n",
       "    <tr style=\"text-align: right;\">\n",
       "      <th></th>\n",
       "      <th>num_characters_title</th>\n",
       "      <th>num_characters_text</th>\n",
       "      <th>num_word_title</th>\n",
       "      <th>num_word_text</th>\n",
       "      <th>num_sentences_title</th>\n",
       "      <th>num_sentences_text</th>\n",
       "      <th>Count_unique_words_title</th>\n",
       "      <th>Count_unique_words_text</th>\n",
       "      <th>Count_Stop_words_title</th>\n",
       "      <th>Count_Stop_words_text</th>\n",
       "      <th>Avg_word_length_title</th>\n",
       "      <th>Avg_word_length_text</th>\n",
       "      <th>Avg_sentence_length_title</th>\n",
       "      <th>Avg_sentence_length_text</th>\n",
       "      <th>Stopword_count_ratio_title</th>\n",
       "      <th>Stopword_count_ratio_text</th>\n",
       "      <th>Unique_words_count_ratio_title</th>\n",
       "      <th>Unique_words_count_ratio_text</th>\n",
       "      <th>Without_Stopwords_text</th>\n",
       "      <th>Without_Stopwords_title</th>\n",
       "    </tr>\n",
       "  </thead>\n",
       "  <tbody>\n",
       "    <tr>\n",
       "      <th>8682</th>\n",
       "      <td>69</td>\n",
       "      <td>287</td>\n",
       "      <td>10</td>\n",
       "      <td>42</td>\n",
       "      <td>1</td>\n",
       "      <td>2</td>\n",
       "      <td>10</td>\n",
       "      <td>36</td>\n",
       "      <td>3</td>\n",
       "      <td>12</td>\n",
       "      <td>6.9</td>\n",
       "      <td>6.833333</td>\n",
       "      <td>10.0</td>\n",
       "      <td>21.0</td>\n",
       "      <td>0.3</td>\n",
       "      <td>0.285714</td>\n",
       "      <td>1.0</td>\n",
       "      <td>0.857143</td>\n",
       "      <td>next swipe left right important question scunt...</td>\n",
       "      <td>important question scunthorpe hospital compute...</td>\n",
       "    </tr>\n",
       "  </tbody>\n",
       "</table>\n",
       "</div>"
      ],
      "text/plain": [
       "      num_characters_title  num_characters_text  num_word_title  \\\n",
       "8682                    69                  287              10   \n",
       "\n",
       "      num_word_text  num_sentences_title  num_sentences_text  \\\n",
       "8682             42                    1                   2   \n",
       "\n",
       "      Count_unique_words_title  Count_unique_words_text  \\\n",
       "8682                        10                       36   \n",
       "\n",
       "      Count_Stop_words_title  Count_Stop_words_text  Avg_word_length_title  \\\n",
       "8682                       3                     12                    6.9   \n",
       "\n",
       "      Avg_word_length_text  Avg_sentence_length_title  \\\n",
       "8682              6.833333                       10.0   \n",
       "\n",
       "      Avg_sentence_length_text  Stopword_count_ratio_title  \\\n",
       "8682                      21.0                         0.3   \n",
       "\n",
       "      Stopword_count_ratio_text  Unique_words_count_ratio_title  \\\n",
       "8682                   0.285714                             1.0   \n",
       "\n",
       "      Unique_words_count_ratio_text  \\\n",
       "8682                       0.857143   \n",
       "\n",
       "                                 Without_Stopwords_text  \\\n",
       "8682  next swipe left right important question scunt...   \n",
       "\n",
       "                                Without_Stopwords_title  \n",
       "8682  important question scunthorpe hospital compute...  "
      ]
     },
     "execution_count": 147,
     "metadata": {},
     "output_type": "execute_result"
    }
   ],
   "source": [
    "X_train.head(1)"
   ]
  },
  {
   "cell_type": "markdown",
   "metadata": {},
   "source": [
    "> # Extracting numberical features from train andtest dataset"
   ]
  },
  {
   "cell_type": "code",
   "execution_count": 148,
   "metadata": {
    "execution": {
     "iopub.execute_input": "2022-05-26T14:04:39.921744Z",
     "iopub.status.busy": "2022-05-26T14:04:39.920886Z",
     "iopub.status.idle": "2022-05-26T14:04:39.930323Z",
     "shell.execute_reply": "2022-05-26T14:04:39.928700Z",
     "shell.execute_reply.started": "2022-05-26T14:04:39.921710Z"
    }
   },
   "outputs": [],
   "source": [
    "X_train_Num_Ft=X_train.drop([\"Without_Stopwords_text\",\"Without_Stopwords_title\"],axis=1,inplace=False)\n",
    "X_test_Num_Ft=X_test.drop([\"Without_Stopwords_text\",\"Without_Stopwords_title\"],axis=1,inplace=False)"
   ]
  },
  {
   "cell_type": "code",
   "execution_count": 149,
   "metadata": {
    "execution": {
     "iopub.execute_input": "2022-05-26T14:04:39.933440Z",
     "iopub.status.busy": "2022-05-26T14:04:39.932777Z",
     "iopub.status.idle": "2022-05-26T14:04:39.951224Z",
     "shell.execute_reply": "2022-05-26T14:04:39.949401Z",
     "shell.execute_reply.started": "2022-05-26T14:04:39.933396Z"
    }
   },
   "outputs": [
    {
     "data": {
      "text/plain": [
       "((13713, 18), (4572, 18))"
      ]
     },
     "execution_count": 149,
     "metadata": {},
     "output_type": "execute_result"
    }
   ],
   "source": [
    "X_train_Num_Ft.shape,X_test_Num_Ft.shape"
   ]
  },
  {
   "cell_type": "code",
   "execution_count": 150,
   "metadata": {
    "execution": {
     "iopub.execute_input": "2022-05-26T14:04:39.954416Z",
     "iopub.status.busy": "2022-05-26T14:04:39.953752Z",
     "iopub.status.idle": "2022-05-26T14:04:39.976994Z",
     "shell.execute_reply": "2022-05-26T14:04:39.975702Z",
     "shell.execute_reply.started": "2022-05-26T14:04:39.954370Z"
    }
   },
   "outputs": [
    {
     "data": {
      "text/html": [
       "<div>\n",
       "<style scoped>\n",
       "    .dataframe tbody tr th:only-of-type {\n",
       "        vertical-align: middle;\n",
       "    }\n",
       "\n",
       "    .dataframe tbody tr th {\n",
       "        vertical-align: top;\n",
       "    }\n",
       "\n",
       "    .dataframe thead th {\n",
       "        text-align: right;\n",
       "    }\n",
       "</style>\n",
       "<table border=\"1\" class=\"dataframe\">\n",
       "  <thead>\n",
       "    <tr style=\"text-align: right;\">\n",
       "      <th></th>\n",
       "      <th>num_characters_title</th>\n",
       "      <th>num_characters_text</th>\n",
       "      <th>num_word_title</th>\n",
       "      <th>num_word_text</th>\n",
       "      <th>num_sentences_title</th>\n",
       "      <th>num_sentences_text</th>\n",
       "      <th>Count_unique_words_title</th>\n",
       "      <th>Count_unique_words_text</th>\n",
       "      <th>Count_Stop_words_title</th>\n",
       "      <th>Count_Stop_words_text</th>\n",
       "      <th>Avg_word_length_title</th>\n",
       "      <th>Avg_word_length_text</th>\n",
       "      <th>Avg_sentence_length_title</th>\n",
       "      <th>Avg_sentence_length_text</th>\n",
       "      <th>Stopword_count_ratio_title</th>\n",
       "      <th>Stopword_count_ratio_text</th>\n",
       "      <th>Unique_words_count_ratio_title</th>\n",
       "      <th>Unique_words_count_ratio_text</th>\n",
       "    </tr>\n",
       "  </thead>\n",
       "  <tbody>\n",
       "    <tr>\n",
       "      <th>8682</th>\n",
       "      <td>69</td>\n",
       "      <td>287</td>\n",
       "      <td>10</td>\n",
       "      <td>42</td>\n",
       "      <td>1</td>\n",
       "      <td>2</td>\n",
       "      <td>10</td>\n",
       "      <td>36</td>\n",
       "      <td>3</td>\n",
       "      <td>12</td>\n",
       "      <td>6.9</td>\n",
       "      <td>6.833333</td>\n",
       "      <td>10.0</td>\n",
       "      <td>21.0</td>\n",
       "      <td>0.3</td>\n",
       "      <td>0.285714</td>\n",
       "      <td>1.0</td>\n",
       "      <td>0.857143</td>\n",
       "    </tr>\n",
       "  </tbody>\n",
       "</table>\n",
       "</div>"
      ],
      "text/plain": [
       "      num_characters_title  num_characters_text  num_word_title  \\\n",
       "8682                    69                  287              10   \n",
       "\n",
       "      num_word_text  num_sentences_title  num_sentences_text  \\\n",
       "8682             42                    1                   2   \n",
       "\n",
       "      Count_unique_words_title  Count_unique_words_text  \\\n",
       "8682                        10                       36   \n",
       "\n",
       "      Count_Stop_words_title  Count_Stop_words_text  Avg_word_length_title  \\\n",
       "8682                       3                     12                    6.9   \n",
       "\n",
       "      Avg_word_length_text  Avg_sentence_length_title  \\\n",
       "8682              6.833333                       10.0   \n",
       "\n",
       "      Avg_sentence_length_text  Stopword_count_ratio_title  \\\n",
       "8682                      21.0                         0.3   \n",
       "\n",
       "      Stopword_count_ratio_text  Unique_words_count_ratio_title  \\\n",
       "8682                   0.285714                             1.0   \n",
       "\n",
       "      Unique_words_count_ratio_text  \n",
       "8682                       0.857143  "
      ]
     },
     "execution_count": 150,
     "metadata": {},
     "output_type": "execute_result"
    }
   ],
   "source": [
    "X_train_Num_Ft.head(1)"
   ]
  },
  {
   "cell_type": "code",
   "execution_count": 151,
   "metadata": {
    "execution": {
     "iopub.execute_input": "2022-05-26T14:04:39.980204Z",
     "iopub.status.busy": "2022-05-26T14:04:39.978938Z",
     "iopub.status.idle": "2022-05-26T14:04:40.000531Z",
     "shell.execute_reply": "2022-05-26T14:04:39.999312Z",
     "shell.execute_reply.started": "2022-05-26T14:04:39.980165Z"
    }
   },
   "outputs": [
    {
     "data": {
      "text/html": [
       "<div>\n",
       "<style scoped>\n",
       "    .dataframe tbody tr th:only-of-type {\n",
       "        vertical-align: middle;\n",
       "    }\n",
       "\n",
       "    .dataframe tbody tr th {\n",
       "        vertical-align: top;\n",
       "    }\n",
       "\n",
       "    .dataframe thead th {\n",
       "        text-align: right;\n",
       "    }\n",
       "</style>\n",
       "<table border=\"1\" class=\"dataframe\">\n",
       "  <thead>\n",
       "    <tr style=\"text-align: right;\">\n",
       "      <th></th>\n",
       "      <th>num_characters_title</th>\n",
       "      <th>num_characters_text</th>\n",
       "      <th>num_word_title</th>\n",
       "      <th>num_word_text</th>\n",
       "      <th>num_sentences_title</th>\n",
       "      <th>num_sentences_text</th>\n",
       "      <th>Count_unique_words_title</th>\n",
       "      <th>Count_unique_words_text</th>\n",
       "      <th>Count_Stop_words_title</th>\n",
       "      <th>Count_Stop_words_text</th>\n",
       "      <th>Avg_word_length_title</th>\n",
       "      <th>Avg_word_length_text</th>\n",
       "      <th>Avg_sentence_length_title</th>\n",
       "      <th>Avg_sentence_length_text</th>\n",
       "      <th>Stopword_count_ratio_title</th>\n",
       "      <th>Stopword_count_ratio_text</th>\n",
       "      <th>Unique_words_count_ratio_title</th>\n",
       "      <th>Unique_words_count_ratio_text</th>\n",
       "    </tr>\n",
       "  </thead>\n",
       "  <tbody>\n",
       "    <tr>\n",
       "      <th>9013</th>\n",
       "      <td>48</td>\n",
       "      <td>2475</td>\n",
       "      <td>7</td>\n",
       "      <td>477</td>\n",
       "      <td>1</td>\n",
       "      <td>13</td>\n",
       "      <td>7</td>\n",
       "      <td>199</td>\n",
       "      <td>1</td>\n",
       "      <td>155</td>\n",
       "      <td>6.857143</td>\n",
       "      <td>5.188679</td>\n",
       "      <td>7.0</td>\n",
       "      <td>36.692308</td>\n",
       "      <td>0.142857</td>\n",
       "      <td>0.324948</td>\n",
       "      <td>1.0</td>\n",
       "      <td>0.417191</td>\n",
       "    </tr>\n",
       "  </tbody>\n",
       "</table>\n",
       "</div>"
      ],
      "text/plain": [
       "      num_characters_title  num_characters_text  num_word_title  \\\n",
       "9013                    48                 2475               7   \n",
       "\n",
       "      num_word_text  num_sentences_title  num_sentences_text  \\\n",
       "9013            477                    1                  13   \n",
       "\n",
       "      Count_unique_words_title  Count_unique_words_text  \\\n",
       "9013                         7                      199   \n",
       "\n",
       "      Count_Stop_words_title  Count_Stop_words_text  Avg_word_length_title  \\\n",
       "9013                       1                    155               6.857143   \n",
       "\n",
       "      Avg_word_length_text  Avg_sentence_length_title  \\\n",
       "9013              5.188679                        7.0   \n",
       "\n",
       "      Avg_sentence_length_text  Stopword_count_ratio_title  \\\n",
       "9013                 36.692308                    0.142857   \n",
       "\n",
       "      Stopword_count_ratio_text  Unique_words_count_ratio_title  \\\n",
       "9013                   0.324948                             1.0   \n",
       "\n",
       "      Unique_words_count_ratio_text  \n",
       "9013                       0.417191  "
      ]
     },
     "execution_count": 151,
     "metadata": {},
     "output_type": "execute_result"
    }
   ],
   "source": [
    "X_test_Num_Ft.head(1)"
   ]
  },
  {
   "cell_type": "markdown",
   "metadata": {},
   "source": [
    "> # Standardization of 18 numerical Manually engineered features"
   ]
  },
  {
   "cell_type": "code",
   "execution_count": 152,
   "metadata": {
    "execution": {
     "iopub.execute_input": "2022-05-26T14:04:40.002813Z",
     "iopub.status.busy": "2022-05-26T14:04:40.002334Z",
     "iopub.status.idle": "2022-05-26T14:04:40.021488Z",
     "shell.execute_reply": "2022-05-26T14:04:40.020685Z",
     "shell.execute_reply.started": "2022-05-26T14:04:40.002786Z"
    }
   },
   "outputs": [],
   "source": [
    "from sklearn.preprocessing  import StandardScaler\n",
    "Std_Scaler=StandardScaler()\n",
    "X_train_Num_Std=Std_Scaler.fit_transform(X_train_Num_Ft)\n",
    "X_test_Num_Std=Std_Scaler.transform(X_test_Num_Ft)"
   ]
  },
  {
   "cell_type": "code",
   "execution_count": 153,
   "metadata": {
    "execution": {
     "iopub.execute_input": "2022-05-26T14:04:40.024906Z",
     "iopub.status.busy": "2022-05-26T14:04:40.023382Z",
     "iopub.status.idle": "2022-05-26T14:04:40.041561Z",
     "shell.execute_reply": "2022-05-26T14:04:40.039394Z",
     "shell.execute_reply.started": "2022-05-26T14:04:40.024836Z"
    }
   },
   "outputs": [
    {
     "data": {
      "text/plain": [
       "((13713, 18), (4572, 18))"
      ]
     },
     "execution_count": 153,
     "metadata": {},
     "output_type": "execute_result"
    }
   ],
   "source": [
    "X_train_Num_Std.shape,X_test_Num_Std.shape"
   ]
  },
  {
   "cell_type": "code",
   "execution_count": 154,
   "metadata": {
    "execution": {
     "iopub.execute_input": "2022-05-26T14:04:40.044284Z",
     "iopub.status.busy": "2022-05-26T14:04:40.043585Z",
     "iopub.status.idle": "2022-05-26T14:04:40.060064Z",
     "shell.execute_reply": "2022-05-26T14:04:40.058294Z",
     "shell.execute_reply.started": "2022-05-26T14:04:40.044240Z"
    }
   },
   "outputs": [
    {
     "data": {
      "text/plain": [
       "array([[-0.25042064, -0.86483222, -0.88363495, ..., -0.68191916,\n",
       "         0.58227813,  2.78435809],\n",
       "       [ 0.32519972, -0.11495737,  0.98084975, ..., -0.03588199,\n",
       "         0.58227813, -0.40221243],\n",
       "       [ 0.23664274, -0.12338293, -0.26214005, ...,  0.31702932,\n",
       "         0.58227813, -0.0891202 ],\n",
       "       ...,\n",
       "       [ 0.67942764, -0.88934294,  0.56651982, ...,  1.09183384,\n",
       "         0.58227813,  2.91913599],\n",
       "       [ 0.36947821,  0.60600249,  0.35935485, ...,  0.16318966,\n",
       "        -0.61005025, -0.6306165 ],\n",
       "       [ 0.28092123, -0.35221348,  0.35935485, ...,  0.09751571,\n",
       "         0.58227813, -0.07937207]])"
      ]
     },
     "execution_count": 154,
     "metadata": {},
     "output_type": "execute_result"
    }
   ],
   "source": [
    "X_train_Num_Std"
   ]
  },
  {
   "cell_type": "code",
   "execution_count": 155,
   "metadata": {
    "execution": {
     "iopub.execute_input": "2022-05-26T14:04:40.073456Z",
     "iopub.status.busy": "2022-05-26T14:04:40.072793Z",
     "iopub.status.idle": "2022-05-26T14:04:40.082272Z",
     "shell.execute_reply": "2022-05-26T14:04:40.081052Z",
     "shell.execute_reply.started": "2022-05-26T14:04:40.073424Z"
    }
   },
   "outputs": [
    {
     "data": {
      "text/plain": [
       "array([[-1.18026892, -0.4458521 , -1.50512985, ..., -0.10457833,\n",
       "         0.58227813, -0.5362078 ],\n",
       "       [ 0.59087066, -0.2560855 , -0.26214005, ...,  0.2049075 ,\n",
       "         0.58227813, -0.08872233],\n",
       "       [ 0.0152503 ,  0.35361867,  0.15218988, ..., -0.31335738,\n",
       "        -0.68953881,  0.02916915],\n",
       "       ...,\n",
       "       [ 0.4137567 ,  1.07457853,  0.15218988, ..., -0.4009486 ,\n",
       "         0.58227813, -0.61152672],\n",
       "       [ 0.05952879, -0.66951242,  0.15218988, ..., -0.50539638,\n",
       "         0.58227813,  0.83779477],\n",
       "       [-0.64892705, -0.47687348, -1.09079992, ...,  0.65402768,\n",
       "         0.58227813,  0.22454754]])"
      ]
     },
     "execution_count": 155,
     "metadata": {},
     "output_type": "execute_result"
    }
   ],
   "source": [
    "X_test_Num_Std"
   ]
  },
  {
   "cell_type": "markdown",
   "metadata": {},
   "source": [
    "> # 1. Traning Naive bayes model"
   ]
  },
  {
   "cell_type": "markdown",
   "metadata": {},
   "source": [
    "> # Vectorizing our text features using tfidf vectorizer"
   ]
  },
  {
   "cell_type": "code",
   "execution_count": 156,
   "metadata": {
    "execution": {
     "iopub.execute_input": "2022-05-26T14:04:40.128679Z",
     "iopub.status.busy": "2022-05-26T14:04:40.128297Z",
     "iopub.status.idle": "2022-05-26T14:04:40.891909Z",
     "shell.execute_reply": "2022-05-26T14:04:40.891179Z",
     "shell.execute_reply.started": "2022-05-26T14:04:40.128651Z"
    }
   },
   "outputs": [
    {
     "name": "stdout",
     "output_type": "stream",
     "text": [
      "After vectorizations shape of train and test data\n",
      "(13713, 3500) (13713,)\n",
      "(4572, 3500) (4572,)\n",
      "====================================================================================================\n"
     ]
    }
   ],
   "source": [
    "vectorizer_tfidf =TfidfVectorizer(max_features=3500)\n",
    "vectorizer_tfidf.fit(X_train[\"Without_Stopwords_title\"].values)\n",
    "\n",
    "# we use the fitted tfidfVectorizer to convert the text to vector\n",
    "X_train_title_tfidf = vectorizer_tfidf.transform(X_train['Without_Stopwords_title']).toarray()\n",
    "X_test_title_tfidf = vectorizer_tfidf.transform(X_test['Without_Stopwords_title']).toarray()\n",
    "\n",
    "print(\"After vectorizations shape of train and test data\")\n",
    "print(X_train_title_tfidf.shape, y_train.shape)\n",
    "print(X_test_title_tfidf.shape, y_test.shape)\n",
    "print(\"=\"*100)"
   ]
  },
  {
   "cell_type": "code",
   "execution_count": 157,
   "metadata": {
    "execution": {
     "iopub.execute_input": "2022-05-26T14:04:40.894081Z",
     "iopub.status.busy": "2022-05-26T14:04:40.893291Z",
     "iopub.status.idle": "2022-05-26T14:05:04.151320Z",
     "shell.execute_reply": "2022-05-26T14:05:04.150205Z",
     "shell.execute_reply.started": "2022-05-26T14:04:40.894039Z"
    }
   },
   "outputs": [
    {
     "name": "stdout",
     "output_type": "stream",
     "text": [
      "After vectorizations shape of train and test data\n",
      "(13713, 4500) (13713,)\n",
      "(4572, 4500) (4572,)\n",
      "====================================================================================================\n"
     ]
    }
   ],
   "source": [
    "vectorizer_text_tfidf =TfidfVectorizer(max_features=4500)\n",
    "vectorizer_text_tfidf.fit(X_train[\"Without_Stopwords_text\"].values)\n",
    "\n",
    "# we use the fitted countVectorizer to convert the text to vector\n",
    "X_train_text_tfidf = vectorizer_text_tfidf.transform(X_train['Without_Stopwords_text'].values).toarray()\n",
    "X_test_text_tfidf = vectorizer_text_tfidf.transform(X_test['Without_Stopwords_text'].values).toarray()\n",
    "\n",
    "print(\"After vectorizations shape of train and test data\")\n",
    "print(X_train_text_tfidf.shape, y_train.shape)\n",
    "print(X_test_text_tfidf.shape, y_test.shape)\n",
    "print(\"=\"*100)"
   ]
  },
  {
   "cell_type": "code",
   "execution_count": 158,
   "metadata": {
    "execution": {
     "iopub.execute_input": "2022-05-26T14:05:04.154095Z",
     "iopub.status.busy": "2022-05-26T14:05:04.153565Z",
     "iopub.status.idle": "2022-05-26T14:05:04.430299Z",
     "shell.execute_reply": "2022-05-26T14:05:04.428604Z",
     "shell.execute_reply.started": "2022-05-26T14:05:04.154054Z"
    }
   },
   "outputs": [
    {
     "name": "stdout",
     "output_type": "stream",
     "text": [
      "Final Data matrix\n",
      "(13713, 8018) (13713,)\n",
      "(4572, 8018) (4572,)\n",
      "====================================================================================================\n"
     ]
    }
   ],
   "source": [
    "# stacking all the features for train and test dataset \n",
    "X_train_final_tfidf = np.hstack((X_train_title_tfidf, X_train_text_tfidf,X_train_Num_Std))\n",
    "X_test_final_tfidf = np.hstack((X_test_title_tfidf , X_test_text_tfidf,X_test_Num_Std))\n",
    "\n",
    "print(\"Final Data matrix\")\n",
    "print(X_train_final_tfidf.shape, y_train.shape)\n",
    "print(X_test_final_tfidf.shape, y_test.shape)\n",
    "print(\"=\"*100)"
   ]
  },
  {
   "cell_type": "markdown",
   "metadata": {},
   "source": [
    "# Training the gaussian NB model"
   ]
  },
  {
   "cell_type": "code",
   "execution_count": 159,
   "metadata": {
    "execution": {
     "iopub.execute_input": "2022-05-26T14:05:04.434170Z",
     "iopub.status.busy": "2022-05-26T14:05:04.433738Z",
     "iopub.status.idle": "2022-05-26T14:05:05.903249Z",
     "shell.execute_reply": "2022-05-26T14:05:05.902199Z",
     "shell.execute_reply.started": "2022-05-26T14:05:04.434139Z"
    }
   },
   "outputs": [
    {
     "name": "stdout",
     "output_type": "stream",
     "text": [
      "Gaussian NB accuracy on test dataset : 0.8258967629046369\n",
      "Gaussian NB precision on test dataseet : 0.7716643741403026\n"
     ]
    }
   ],
   "source": [
    "gnb = GaussianNB()\n",
    "gnb.fit(X_train_final_tfidf,y_train)\n",
    "y_pred = gnb.predict(X_test_final_tfidf)\n",
    "accuracy = accuracy_score(y_test,y_pred)\n",
    "precision = precision_score(y_test,y_pred)\n",
    "print(\"Gaussian NB accuracy on test dataset :\",accuracy)\n",
    "print(\"Gaussian NB precision on test dataseet :\",precision)"
   ]
  },
  {
   "cell_type": "markdown",
   "metadata": {},
   "source": [
    "> # Plotting confusion mattrix"
   ]
  },
  {
   "cell_type": "code",
   "execution_count": 160,
   "metadata": {
    "execution": {
     "iopub.execute_input": "2022-05-26T14:05:05.904670Z",
     "iopub.status.busy": "2022-05-26T14:05:05.904287Z",
     "iopub.status.idle": "2022-05-26T14:05:05.912758Z",
     "shell.execute_reply": "2022-05-26T14:05:05.911642Z",
     "shell.execute_reply.started": "2022-05-26T14:05:05.904633Z"
    }
   },
   "outputs": [
    {
     "name": "stdout",
     "output_type": "stream",
     "text": [
      "[[2093  498]\n",
      " [ 298 1683]]\n"
     ]
    }
   ],
   "source": [
    "from sklearn.metrics import confusion_matrix\n",
    "\n",
    "#Generate the confusion matrix\n",
    "cf_matrix = confusion_matrix(y_test, y_pred)\n",
    "\n",
    "print(cf_matrix)"
   ]
  },
  {
   "cell_type": "code",
   "execution_count": 161,
   "metadata": {
    "execution": {
     "iopub.execute_input": "2022-05-26T14:05:05.914821Z",
     "iopub.status.busy": "2022-05-26T14:05:05.914329Z",
     "iopub.status.idle": "2022-05-26T14:05:06.531586Z",
     "shell.execute_reply": "2022-05-26T14:05:06.530565Z",
     "shell.execute_reply.started": "2022-05-26T14:05:05.914789Z"
    }
   },
   "outputs": [
    {
     "data": {
      "image/png": "[encoded data removed]",
      "text/plain": [
       "<Figure size 432x288 with 2 Axes>"
      ]
     },
     "metadata": {
      "needs_background": "light"
     },
     "output_type": "display_data"
    }
   ],
   "source": [
    "group_names = ['True Neg','False Pos','False Neg','True Pos']\n",
    "\n",
    "group_counts = [\"{0:0.0f}\".format(value) for value in\n",
    "                cf_matrix.flatten()]\n",
    "\n",
    "group_percentages = [\"{0:.2%}\".format(value) for value in\n",
    "                     cf_matrix.flatten()/np.sum(cf_matrix)]\n",
    "\n",
    "labels = [f\"{v1}\\n{v2}\\n{v3}\" for v1, v2, v3 in\n",
    "          zip(group_names,group_counts,group_percentages)]\n",
    "\n",
    "labels = np.asarray(labels).reshape(2,2)\n",
    "\n",
    "ax = sns.heatmap(cf_matrix, annot=labels, fmt='', cmap='Blues')\n",
    "\n",
    "ax.set_title('Seaborn Confusion Matrix with labels\\n\\n');\n",
    "ax.set_xlabel('\\nPredicted Values')\n",
    "ax.set_ylabel('Actual Values ');\n",
    "\n",
    "ax.xaxis.set_ticklabels(['False','True'])\n",
    "ax.yaxis.set_ticklabels(['False','True'])\n",
    "\n",
    "## Display the visualization of the Confusion Matrix.\n",
    "plt.show()"
   ]
  },
  {
   "cell_type": "markdown",
   "metadata": {},
   "source": [
    "> # k-nearest neighbors Classifier"
   ]
  },
  {
   "cell_type": "code",
   "execution_count": 162,
   "metadata": {
    "execution": {
     "iopub.execute_input": "2022-05-26T14:05:06.534071Z",
     "iopub.status.busy": "2022-05-26T14:05:06.532943Z",
     "iopub.status.idle": "2022-05-26T14:05:20.396015Z",
     "shell.execute_reply": "2022-05-26T14:05:20.394492Z",
     "shell.execute_reply.started": "2022-05-26T14:05:06.533951Z"
    }
   },
   "outputs": [
    {
     "name": "stdout",
     "output_type": "stream",
     "text": [
      "k-nearest neighbors accuracy on testdataset : 0.8396762904636921\n",
      "k-nearest neighbors precision on testdataset : 0.8679245283018868\n"
     ]
    }
   ],
   "source": [
    "from sklearn.neighbors import KNeighborsClassifier\n",
    "neigh = KNeighborsClassifier()\n",
    "neigh.fit(X_train_final_tfidf,y_train)\n",
    "y_pred = neigh.predict(X_test_final_tfidf)\n",
    "accuracy = accuracy_score(y_test,y_pred)\n",
    "precision = precision_score(y_test,y_pred)\n",
    "print(\"k-nearest neighbors accuracy on testdataset :\",accuracy)\n",
    "print(\"k-nearest neighbors precision on testdataset :\",precision)"
   ]
  },
  {
   "cell_type": "markdown",
   "metadata": {},
   "source": [
    "> # Plotting confusion mattrix"
   ]
  },
  {
   "cell_type": "code",
   "execution_count": 163,
   "metadata": {
    "execution": {
     "iopub.execute_input": "2022-05-26T14:05:20.400872Z",
     "iopub.status.busy": "2022-05-26T14:05:20.399369Z",
     "iopub.status.idle": "2022-05-26T14:05:20.408670Z",
     "shell.execute_reply": "2022-05-26T14:05:20.406662Z",
     "shell.execute_reply.started": "2022-05-26T14:05:20.400833Z"
    }
   },
   "outputs": [
    {
     "name": "stdout",
     "output_type": "stream",
     "text": [
      "[[2367  224]\n",
      " [ 509 1472]]\n"
     ]
    }
   ],
   "source": [
    "from sklearn.metrics import confusion_matrix\n",
    "\n",
    "#Generate the confusion matrix\n",
    "cf_matrix = confusion_matrix(y_test, y_pred)\n",
    "\n",
    "print(cf_matrix)"
   ]
  },
  {
   "cell_type": "code",
   "execution_count": 164,
   "metadata": {
    "execution": {
     "iopub.execute_input": "2022-05-26T14:05:20.411253Z",
     "iopub.status.busy": "2022-05-26T14:05:20.410812Z",
     "iopub.status.idle": "2022-05-26T14:05:20.652333Z",
     "shell.execute_reply": "2022-05-26T14:05:20.650913Z",
     "shell.execute_reply.started": "2022-05-26T14:05:20.411222Z"
    }
   },
   "outputs": [
    {
     "data": {
      "image/png": "[encoded data removed]",
      "text/plain": [
       "<Figure size 432x288 with 2 Axes>"
      ]
     },
     "metadata": {
      "needs_background": "light"
     },
     "output_type": "display_data"
    }
   ],
   "source": [
    "group_names = ['True Neg','False Pos','False Neg','True Pos']\n",
    "\n",
    "group_counts = [\"{0:0.0f}\".format(value) for value in\n",
    "                cf_matrix.flatten()]\n",
    "\n",
    "group_percentages = [\"{0:.2%}\".format(value) for value in\n",
    "                     cf_matrix.flatten()/np.sum(cf_matrix)]\n",
    "\n",
    "labels = [f\"{v1}\\n{v2}\\n{v3}\" for v1, v2, v3 in\n",
    "          zip(group_names,group_counts,group_percentages)]\n",
    "\n",
    "labels = np.asarray(labels).reshape(2,2)\n",
    "\n",
    "ax = sns.heatmap(cf_matrix, annot=labels, fmt='', cmap='Blues')\n",
    "\n",
    "ax.set_title('Seaborn Confusion Matrix with labels\\n\\n');\n",
    "ax.set_xlabel('\\nPredicted Values')\n",
    "ax.set_ylabel('Actual Values ');\n",
    "\n",
    "ax.xaxis.set_ticklabels(['False','True'])\n",
    "ax.yaxis.set_ticklabels(['False','True'])\n",
    "\n",
    "## Display the visualization of the Confusion Matrix.\n",
    "plt.show()"
   ]
  },
  {
   "cell_type": "markdown",
   "metadata": {},
   "source": [
    "> # Traning KNN on only 18 manually engnieered Numerical features"
   ]
  },
  {
   "cell_type": "code",
   "execution_count": 165,
   "metadata": {
    "execution": {
     "iopub.execute_input": "2022-05-26T14:05:20.656063Z",
     "iopub.status.busy": "2022-05-26T14:05:20.655029Z",
     "iopub.status.idle": "2022-05-26T14:05:21.938928Z",
     "shell.execute_reply": "2022-05-26T14:05:21.937003Z",
     "shell.execute_reply.started": "2022-05-26T14:05:20.656026Z"
    }
   },
   "outputs": [
    {
     "name": "stdout",
     "output_type": "stream",
     "text": [
      "Accuracy of KNN using only 18 manually engineered numercal feaures\n",
      "****************************************************************************************************\n",
      "k-nearest neighbors accuracy on testdataset : 0.8112423447069116\n",
      "k-nearest neighbors precision on testdataset : 0.8288235294117647\n"
     ]
    }
   ],
   "source": [
    "from sklearn.neighbors import KNeighborsClassifier\n",
    "neigh_num = KNeighborsClassifier()\n",
    "neigh_num.fit(X_train_Num_Std,y_train)\n",
    "y_pred_num = neigh_num.predict(X_test_Num_Std)\n",
    "accuracy = accuracy_score(y_test,y_pred_num)\n",
    "precision = precision_score(y_test,y_pred_num)\n",
    "print(\"Accuracy of KNN using only 18 manually engineered numercal feaures\")\n",
    "print(\"*\"*100)\n",
    "print(\"k-nearest neighbors accuracy on testdataset :\",accuracy)\n",
    "print(\"k-nearest neighbors precision on testdataset :\",precision)"
   ]
  },
  {
   "cell_type": "markdown",
   "metadata": {},
   "source": [
    "# Observations:-\n",
    "1. Above we have only used manually engineered 18 features to train KNN model and it is perofroming decently\n",
    "and here we are getting accuracy on test data is 81%."
   ]
  },
  {
   "cell_type": "markdown",
   "metadata": {},
   "source": [
    "> # Plotting confusion mattrix"
   ]
  },
  {
   "cell_type": "code",
   "execution_count": 166,
   "metadata": {
    "execution": {
     "iopub.execute_input": "2022-05-26T14:05:21.941128Z",
     "iopub.status.busy": "2022-05-26T14:05:21.940701Z",
     "iopub.status.idle": "2022-05-26T14:05:21.949890Z",
     "shell.execute_reply": "2022-05-26T14:05:21.948664Z",
     "shell.execute_reply.started": "2022-05-26T14:05:21.941096Z"
    }
   },
   "outputs": [
    {
     "name": "stdout",
     "output_type": "stream",
     "text": [
      "[[2300  291]\n",
      " [ 572 1409]]\n"
     ]
    }
   ],
   "source": [
    "from sklearn.metrics import confusion_matrix\n",
    "\n",
    "#Generate the confusion matrix\n",
    "cf_matrix = confusion_matrix(y_test, y_pred_num)\n",
    "\n",
    "print(cf_matrix)"
   ]
  },
  {
   "cell_type": "code",
   "execution_count": 167,
   "metadata": {
    "execution": {
     "iopub.execute_input": "2022-05-26T14:05:21.952582Z",
     "iopub.status.busy": "2022-05-26T14:05:21.951453Z",
     "iopub.status.idle": "2022-05-26T14:05:22.151328Z",
     "shell.execute_reply": "2022-05-26T14:05:22.150005Z",
     "shell.execute_reply.started": "2022-05-26T14:05:21.952501Z"
    }
   },
   "outputs": [
    {
     "data": {
      "image/png": "[encoded data removed]",
      "text/plain": [
       "<Figure size 432x288 with 2 Axes>"
      ]
     },
     "metadata": {
      "needs_background": "light"
     },
     "output_type": "display_data"
    }
   ],
   "source": [
    "group_names = ['True Neg','False Pos','False Neg','True Pos']\n",
    "\n",
    "group_counts = [\"{0:0.0f}\".format(value) for value in\n",
    "                cf_matrix.flatten()]\n",
    "\n",
    "group_percentages = [\"{0:.2%}\".format(value) for value in\n",
    "                     cf_matrix.flatten()/np.sum(cf_matrix)]\n",
    "\n",
    "labels = [f\"{v1}\\n{v2}\\n{v3}\" for v1, v2, v3 in\n",
    "          zip(group_names,group_counts,group_percentages)]\n",
    "\n",
    "labels = np.asarray(labels).reshape(2,2)\n",
    "\n",
    "ax = sns.heatmap(cf_matrix, annot=labels, fmt='', cmap='Blues')\n",
    "\n",
    "ax.set_title('Seaborn Confusion Matrix with labels\\n\\n');\n",
    "ax.set_xlabel('\\nPredicted Values')\n",
    "ax.set_ylabel('Actual Values ');\n",
    "\n",
    "ax.xaxis.set_ticklabels(['False','True'])\n",
    "ax.yaxis.set_ticklabels(['False','True'])\n",
    "\n",
    "## Display the visualization of the Confusion Matrix.\n",
    "plt.show()"
   ]
  },
  {
   "cell_type": "markdown",
   "metadata": {},
   "source": [
    "> # Observations:-\n",
    "1. from above we can see that only 18 numerical feature we are able to get 81% accuracy on test data that show that our manually engineered fearure are able to seperate both classes."
   ]
  },
  {
   "cell_type": "markdown",
   "metadata": {},
   "source": [
    "> # 3. Traning Logistic Regression model"
   ]
  },
  {
   "cell_type": "code",
   "execution_count": 168,
   "metadata": {
    "execution": {
     "iopub.execute_input": "2022-05-26T14:05:22.153698Z",
     "iopub.status.busy": "2022-05-26T14:05:22.153233Z",
     "iopub.status.idle": "2022-05-26T14:05:27.954371Z",
     "shell.execute_reply": "2022-05-26T14:05:27.953640Z",
     "shell.execute_reply.started": "2022-05-26T14:05:22.153661Z"
    }
   },
   "outputs": [
    {
     "name": "stdout",
     "output_type": "stream",
     "text": [
      "LR accuracy on testdataset : 0.976596675415573\n",
      "LR precision on testdataset : 0.9593137254901961\n"
     ]
    }
   ],
   "source": [
    "from sklearn.linear_model import LogisticRegression\n",
    "LR = LogisticRegression(random_state=12)\n",
    "LR.fit(X_train_final_tfidf,y_train)\n",
    "y_pred = LR.predict(X_test_final_tfidf)\n",
    "accuracy = accuracy_score(y_test,y_pred)\n",
    "precision = precision_score(y_test,y_pred)\n",
    "print(\"LR accuracy on testdataset :\",accuracy)\n",
    "print(\"LR precision on testdataset :\",precision)"
   ]
  },
  {
   "cell_type": "markdown",
   "metadata": {},
   "source": [
    "> # Plotting confusion mattrix"
   ]
  },
  {
   "cell_type": "code",
   "execution_count": 169,
   "metadata": {
    "execution": {
     "iopub.execute_input": "2022-05-26T14:05:27.956538Z",
     "iopub.status.busy": "2022-05-26T14:05:27.955744Z",
     "iopub.status.idle": "2022-05-26T14:05:27.965466Z",
     "shell.execute_reply": "2022-05-26T14:05:27.964730Z",
     "shell.execute_reply.started": "2022-05-26T14:05:27.956478Z"
    }
   },
   "outputs": [
    {
     "name": "stdout",
     "output_type": "stream",
     "text": [
      "[[2508   83]\n",
      " [  24 1957]]\n"
     ]
    }
   ],
   "source": [
    "from sklearn.metrics import confusion_matrix\n",
    "\n",
    "#Generate the confusion matrix\n",
    "cf_matrix = confusion_matrix(y_test, y_pred)\n",
    "\n",
    "print(cf_matrix)"
   ]
  },
  {
   "cell_type": "code",
   "execution_count": 170,
   "metadata": {
    "execution": {
     "iopub.execute_input": "2022-05-26T14:05:27.967567Z",
     "iopub.status.busy": "2022-05-26T14:05:27.967005Z",
     "iopub.status.idle": "2022-05-26T14:05:28.182765Z",
     "shell.execute_reply": "2022-05-26T14:05:28.182107Z",
     "shell.execute_reply.started": "2022-05-26T14:05:27.967510Z"
    }
   },
   "outputs": [
    {
     "data": {
      "image/png": "[encoded data removed]",
      "text/plain": [
       "<Figure size 432x288 with 2 Axes>"
      ]
     },
     "metadata": {
      "needs_background": "light"
     },
     "output_type": "display_data"
    }
   ],
   "source": [
    "group_names = ['True Neg','False Pos','False Neg','True Pos']\n",
    "\n",
    "group_counts = [\"{0:0.0f}\".format(value) for value in\n",
    "                cf_matrix.flatten()]\n",
    "\n",
    "group_percentages = [\"{0:.2%}\".format(value) for value in\n",
    "                     cf_matrix.flatten()/np.sum(cf_matrix)]\n",
    "\n",
    "labels = [f\"{v1}\\n{v2}\\n{v3}\" for v1, v2, v3 in\n",
    "          zip(group_names,group_counts,group_percentages)]\n",
    "\n",
    "labels = np.asarray(labels).reshape(2,2)\n",
    "\n",
    "ax = sns.heatmap(cf_matrix, annot=labels, fmt='', cmap='Blues')\n",
    "\n",
    "ax.set_title('Seaborn Confusion Matrix with labels\\n\\n');\n",
    "ax.set_xlabel('\\nPredicted Values')\n",
    "ax.set_ylabel('Actual Values ');\n",
    "\n",
    "ax.xaxis.set_ticklabels(['False','True'])\n",
    "ax.yaxis.set_ticklabels(['False','True'])\n",
    "\n",
    "## Display the visualization of the Confusion Matrix.\n",
    "plt.show()"
   ]
  },
  {
   "cell_type": "markdown",
   "metadata": {},
   "source": [
    "> # Traning Logistic regression only on numerical feaures"
   ]
  },
  {
   "cell_type": "code",
   "execution_count": 171,
   "metadata": {
    "execution": {
     "iopub.execute_input": "2022-05-26T14:05:28.184501Z",
     "iopub.status.busy": "2022-05-26T14:05:28.184058Z",
     "iopub.status.idle": "2022-05-26T14:05:28.311581Z",
     "shell.execute_reply": "2022-05-26T14:05:28.309273Z",
     "shell.execute_reply.started": "2022-05-26T14:05:28.184470Z"
    }
   },
   "outputs": [
    {
     "name": "stdout",
     "output_type": "stream",
     "text": [
      "LR accuracy on testdataset : 0.7569991251093613\n",
      "LR precision on testdataset : 0.7645985401459854\n"
     ]
    }
   ],
   "source": [
    "LR = LogisticRegression(random_state=12)\n",
    "LR.fit(X_train_Num_Std,y_train)\n",
    "y_pred_num = LR.predict(X_test_Num_Std)\n",
    "accuracy = accuracy_score(y_test,y_pred_num)\n",
    "precision = precision_score(y_test,y_pred_num)\n",
    "print(\"LR accuracy on testdataset :\",accuracy)\n",
    "print(\"LR precision on testdataset :\",precision)"
   ]
  },
  {
   "cell_type": "markdown",
   "metadata": {},
   "source": [
    "# Observations:-\n",
    "1. Here again we used only 18 numerical feaures to train Logistic regression and it is not performing that well as comppare to KNN and here we are getting Accuracy on test dataset is 75%"
   ]
  },
  {
   "cell_type": "markdown",
   "metadata": {},
   "source": [
    "> # Plotting confusion mattrix"
   ]
  },
  {
   "cell_type": "code",
   "execution_count": 172,
   "metadata": {
    "execution": {
     "iopub.execute_input": "2022-05-26T14:05:28.313144Z",
     "iopub.status.busy": "2022-05-26T14:05:28.312790Z",
     "iopub.status.idle": "2022-05-26T14:05:28.326716Z",
     "shell.execute_reply": "2022-05-26T14:05:28.325746Z",
     "shell.execute_reply.started": "2022-05-26T14:05:28.313109Z"
    }
   },
   "outputs": [
    {
     "name": "stdout",
     "output_type": "stream",
     "text": [
      "[[2204  387]\n",
      " [ 724 1257]]\n"
     ]
    }
   ],
   "source": [
    "from sklearn.metrics import confusion_matrix\n",
    "\n",
    "#Generate the confusion matrix\n",
    "cf_matrix = confusion_matrix(y_test, y_pred_num)\n",
    "\n",
    "print(cf_matrix)"
   ]
  },
  {
   "cell_type": "code",
   "execution_count": 173,
   "metadata": {
    "execution": {
     "iopub.execute_input": "2022-05-26T14:05:28.334139Z",
     "iopub.status.busy": "2022-05-26T14:05:28.331583Z",
     "iopub.status.idle": "2022-05-26T14:05:28.566885Z",
     "shell.execute_reply": "2022-05-26T14:05:28.565634Z",
     "shell.execute_reply.started": "2022-05-26T14:05:28.334085Z"
    }
   },
   "outputs": [
    {
     "data": {
      "image/png": "[encoded data removed]",
      "text/plain": [
       "<Figure size 432x288 with 2 Axes>"
      ]
     },
     "metadata": {
      "needs_background": "light"
     },
     "output_type": "display_data"
    }
   ],
   "source": [
    "group_names = ['True Neg','False Pos','False Neg','True Pos']\n",
    "\n",
    "group_counts = [\"{0:0.0f}\".format(value) for value in\n",
    "                cf_matrix.flatten()]\n",
    "\n",
    "group_percentages = [\"{0:.2%}\".format(value) for value in\n",
    "                     cf_matrix.flatten()/np.sum(cf_matrix)]\n",
    "\n",
    "labels = [f\"{v1}\\n{v2}\\n{v3}\" for v1, v2, v3 in\n",
    "          zip(group_names,group_counts,group_percentages)]\n",
    "\n",
    "labels = np.asarray(labels).reshape(2,2)\n",
    "\n",
    "ax = sns.heatmap(cf_matrix, annot=labels, fmt='', cmap='Blues')\n",
    "\n",
    "ax.set_title('Seaborn Confusion Matrix with labels\\n\\n');\n",
    "ax.set_xlabel('\\nPredicted Values')\n",
    "ax.set_ylabel('Actual Values ');\n",
    "\n",
    "ax.xaxis.set_ticklabels(['False','True'])\n",
    "ax.yaxis.set_ticklabels(['False','True'])\n",
    "\n",
    "## Display the visualization of the Confusion Matrix.\n",
    "plt.show()"
   ]
  },
  {
   "cell_type": "markdown",
   "metadata": {},
   "source": [
    "> # Summary of above trained models on both text as well as 18 numerical features:-"
   ]
  },
  {
   "cell_type": "code",
   "execution_count": 1,
   "metadata": {
    "execution": {
     "iopub.execute_input": "2022-05-26T14:05:28.569032Z",
     "iopub.status.busy": "2022-05-26T14:05:28.568438Z",
     "iopub.status.idle": "2022-05-26T14:05:28.577346Z",
     "shell.execute_reply": "2022-05-26T14:05:28.576030Z",
     "shell.execute_reply.started": "2022-05-26T14:05:28.568991Z"
    }
   },
   "outputs": [
    {
     "name": "stdout",
     "output_type": "stream",
     "text": [
      "+------------------+---------------------+-----------------------+------------------------+\n",
      "|    Vectorizer    |        Model        | Accuracy On test Data | Precision on Test Data |\n",
      "+------------------+---------------------+-----------------------+------------------------+\n",
      "| tfidf Vectorizer |     Gaussian NB     |          82.5         |          77.1          |\n",
      "|     -------      |       -------       |        -------        |        -------         |\n",
      "| tfidf Vectorizer |    Decision Tree    |          83.9         |          86.7          |\n",
      "|     -------      |       -------       |        -------        |        -------         |\n",
      "| tfidf Vectorizer | Logistic Regression |          97.6         |          95.9          |\n",
      "+------------------+---------------------+-----------------------+------------------------+\n"
     ]
    }
   ],
   "source": [
    "from prettytable import PrettyTable\n",
    "  \n",
    "# Specify the Column Names while initializing the Table\n",
    "myTable = PrettyTable([ \"Vectorizer\",\"Model\", \"Accuracy On test Data\",\"Precision on Test Data\"])\n",
    "  \n",
    "# Add rows\n",
    "myTable.add_row([\"tfidf Vectorizer\",\"Gaussian NB\", \"82.5\", \"77.1\"])\n",
    "myTable.add_row([\"-------\", \"-------\", \"-------\",\"-------\"])\n",
    "myTable.add_row([\"tfidf Vectorizer\",\"Decision Tree\", \"83.9\", \"86.7\"])\n",
    "myTable.add_row([\"-------\", \"-------\", \"-------\",\"-------\"])\n",
    "myTable.add_row([\"tfidf Vectorizer\",\"Logistic Regression\", \"97.6\", \"95.9\"])\n",
    "               \n",
    "print(myTable)"
   ]
  },
  {
   "cell_type": "markdown",
   "metadata": {},
   "source": [
    "> # Observations:-\n",
    "1. From above table we can see that after adding our 18 numerical features our accuracy and precesion both got inceased for all the three models\n",
    "2. For KNN the results are very impresive as intially with only test features we were getting accuracy of 46.5% and precision of 44.7% but after adding our numerical feaures we are getting accuracy of 83.9% and precesion of 86.7%\n",
    "3. Similary we can some improve of accuracy and precesion in Logistic rgression model as well"
   ]
  },
  {
   "cell_type": "markdown",
   "metadata": {},
   "source": [
    "> # Below is table when all three model is trained only with text features using tfidf vectorization we can clearly see after adding our 18 manually engnieered numerical features our models performance got improved specially KNN"
   ]
  },
  {
   "cell_type": "code",
   "execution_count": 2,
   "metadata": {
    "execution": {
     "iopub.execute_input": "2022-05-26T14:05:28.578895Z",
     "iopub.status.busy": "2022-05-26T14:05:28.578594Z",
     "iopub.status.idle": "2022-05-26T14:05:28.599283Z",
     "shell.execute_reply": "2022-05-26T14:05:28.598572Z",
     "shell.execute_reply.started": "2022-05-26T14:05:28.578869Z"
    }
   },
   "outputs": [
    {
     "name": "stdout",
     "output_type": "stream",
     "text": [
      "+------------------+---------------------+-----------------------+------------------------+\n",
      "|    Vectorizer    |        Model        | Accuracy On test Data | Precision on Test Data |\n",
      "+------------------+---------------------+-----------------------+------------------------+\n",
      "| tfidf Vectorizer |     Gaussian NB     |          81.7         |          75.2          |\n",
      "|     -------      |       -------       |        -------        |        -------         |\n",
      "| tfidf Vectorizer |         KNN         |          46.5         |          44.7          |\n",
      "|     -------      |       -------       |        -------        |        -------         |\n",
      "| tfidf Vectorizer | Logistic Regression |          97.3         |          95.2          |\n",
      "+------------------+---------------------+-----------------------+------------------------+\n"
     ]
    }
   ],
   "source": [
    "from prettytable import PrettyTable\n",
    "  \n",
    "# Specify the Column Names while initializing the Table\n",
    "myTable = PrettyTable([ \"Vectorizer\",\"Model\", \"Accuracy On test Data\",\"Precision on Test Data\"])\n",
    "  \n",
    "# Add rows\n",
    "myTable.add_row([\"tfidf Vectorizer\",\"Gaussian NB\", \"81.7\", \"75.2\"])\n",
    "myTable.add_row([\"-------\", \"-------\", \"-------\",\"-------\"])\n",
    "myTable.add_row([\"tfidf Vectorizer\",\"KNN\", \"46.5\", \"44.7\"])\n",
    "myTable.add_row([\"-------\", \"-------\", \"-------\",\"-------\"])\n",
    "myTable.add_row([\"tfidf Vectorizer\",\"Logistic Regression\", \"97.3\", \"95.2\"])\n",
    "               \n",
    "print(myTable)"
   ]
  }
 ],
 "metadata": {
  "kernelspec": {
   "display_name": "Python 3",
   "language": "python",
   "name": "python3"
  },
  "language_info": {
   "codemirror_mode": {
    "name": "ipython",
    "version": 3
   },
   "file_extension": ".py",
   "mimetype": "text/x-python",
   "name": "python",
   "nbconvert_exporter": "python",
   "pygments_lexer": "ipython3",
   "version": "3.8.8"
  }
 },
 "nbformat": 4,
 "nbformat_minor": 4
}
